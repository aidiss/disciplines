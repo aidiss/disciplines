{
 "metadata": {
  "name": "",
  "signature": "sha256:bdb8591124fc936eb778746531e4de34818ac8bd49881888f6bffdc42b1f8f1f"
 },
 "nbformat": 3,
 "nbformat_minor": 0,
 "worksheets": [
  {
   "cells": [
    {
     "cell_type": "markdown",
     "metadata": {},
     "source": [
      "This notebook will introduce you to package data fundamentals."
     ]
    },
    {
     "cell_type": "code",
     "collapsed": false,
     "input": [
      "from disciplines.data import data\n",
      "print data.__doc__"
     ],
     "language": "python",
     "metadata": {},
     "outputs": [
      {
       "output_type": "stream",
       "stream": "stdout",
       "text": [
        "This package deals with number of data issues\n",
        "\n",
        "The package wraps up different modules that can be cattegorized as:\n",
        "\t- Links to data\n",
        "\t- Getting data\n",
        "\t- Formatting/structuring data\n",
        "\n",
        "A number of functions are created to get data from online repositories. These functions are in two profession_types:\n",
        "ready data - one that is formated well and prepared for usage, like CSV, XML and etc. And scrapping techniques.\n",
        "Data is being transformed into one of our \n",
        "\n",
        "The data is stored and manipulated in three data types:\n",
        "\t- Relational database - is used for storing large quantities of that have well defined form and structure.\n",
        "\t- Ontology - based on networkx.\n",
        "\t- Pandas arrays and dataframes.\n",
        "\n",
        "Dependencies:\n",
        "\tsqlite3\n",
        "\tpandas\n",
        "\tnetworkx\n",
        "\n"
       ]
      }
     ],
     "prompt_number": 1
    },
    {
     "cell_type": "markdown",
     "metadata": {},
     "source": [
      "Here are few ideas of what kind of functions we would like to develop here."
     ]
    },
    {
     "cell_type": "code",
     "collapsed": false,
     "input": [
      "#data.listall() #describes available data\n",
      "#data.update() #updates data by cheking into resources\n",
      "#data.backup() #writes a snapshot o data\n",
      "\n",
      "#data.urls() # lists all known data urls and what kind of information is there\n",
      "#data.datasets()  # lists all \n",
      "#data.build_ontology() # build ontology out of data stored in sql.\n",
      "\n",
      "#data.disciplines() #lists all disciplines\n",
      "#data.persons() #lists all persons\n",
      "#data.events() #lists all events\n",
      "#data.learned_societies() #lists all learned societies"
     ],
     "language": "python",
     "metadata": {},
     "outputs": [],
     "prompt_number": 2
    },
    {
     "cell_type": "markdown",
     "metadata": {},
     "source": [
      "Further, what we will do here is do merging of different data"
     ]
    }
   ],
   "metadata": {}
  }
 ]
}