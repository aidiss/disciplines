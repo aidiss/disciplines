{
 "metadata": {
  "name": "",
  "signature": "sha256:127ae9c180bb2e292b9cb0677efd7614d3771224398d4fe6b5d4d55537554f8c"
 },
 "nbformat": 3,
 "nbformat_minor": 0,
 "worksheets": [
  {
   "cells": [
    {
     "cell_type": "code",
     "collapsed": false,
     "input": [
      "from disciplines import method"
     ],
     "language": "python",
     "metadata": {},
     "outputs": [],
     "prompt_number": 7
    },
    {
     "cell_type": "code",
     "collapsed": false,
     "input": [
      "print method.__doc__"
     ],
     "language": "python",
     "metadata": {},
     "outputs": [
      {
       "output_type": "stream",
       "stream": "stdout",
       "text": [
        " Main method of module\n",
        "\n",
        "Enables to assess fitneess of data for paricular theory.\n",
        "Looks for what kind of data is required for investigation of particular theory.\n",
        "Checks overall fitness of data for all theories.\n",
        "\n",
        "Vars:\n",
        "\tNone\n",
        "\n"
       ]
      }
     ],
     "prompt_number": 8
    },
    {
     "cell_type": "markdown",
     "metadata": {},
     "source": [
      "You can health of connection between data and theory."
     ]
    },
    {
     "cell_type": "heading",
     "level": 2,
     "metadata": {},
     "source": [
      "Datatype requirements and data fitness"
     ]
    },
    {
     "cell_type": "code",
     "collapsed": false,
     "input": [
      "from disciplines.method import assess_data_fitness # health(data, theory)\n",
      "dataa = 'link to data'\n",
      "theoryy = 'power struggles'\n",
      "assess_data_fitness.assess_data_fitness(dataa, theoryy)"
     ],
     "language": "python",
     "metadata": {},
     "outputs": [],
     "prompt_number": 9
    },
    {
     "cell_type": "code",
     "collapsed": false,
     "input": [
      "from disciplines.method import get_data_requirements\n",
      "get_data_requirements.get_data_requirements('emergence')"
     ],
     "language": "python",
     "metadata": {},
     "outputs": [
      {
       "metadata": {},
       "output_type": "pyout",
       "prompt_number": 10,
       "text": [
        "'This is the required data'"
       ]
      }
     ],
     "prompt_number": 10
    },
    {
     "cell_type": "markdown",
     "metadata": {},
     "source": [
      "This method checks all available data and all theories and reports general health of the relations."
     ]
    },
    {
     "cell_type": "code",
     "collapsed": false,
     "input": [
      "from disciplines.method import check_overall_fitness\n",
      "check_overall_fitness.check_overall_fitness(dataa, theoryy, dataa)"
     ],
     "language": "python",
     "metadata": {},
     "outputs": [
      {
       "metadata": {},
       "output_type": "pyout",
       "prompt_number": 11,
       "text": [
        "'The overal fitness is awfull'"
       ]
      }
     ],
     "prompt_number": 11
    },
    {
     "cell_type": "markdown",
     "metadata": {},
     "source": [
      "You can select one theory and to check whether available data can be used."
     ]
    },
    {
     "cell_type": "code",
     "collapsed": false,
     "input": [
      "from disciplines.method import is_datatype_required\n",
      "is_datatype_required.is_datatype_required(dataa, 'citation network', 'emergence', complete=True)"
     ],
     "language": "python",
     "metadata": {},
     "outputs": [
      {
       "metadata": {},
       "output_type": "pyout",
       "prompt_number": 12,
       "text": [
        "False"
       ]
      }
     ],
     "prompt_number": 12
    },
    {
     "cell_type": "markdown",
     "metadata": {},
     "source": [
      "Now we know that citation network is not required by emergence theory. This is true directly, however it is still possible to extend and augment theory so that the citation network can be done. of course, this relies on doing more work."
     ]
    }
   ],
   "metadata": {}
  }
 ]
}