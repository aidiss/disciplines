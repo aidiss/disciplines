{
 "metadata": {
  "name": "",
  "signature": "sha256:eb9de1b9424a1ea0808a87a7cf310baf240ecc47504f782583d11c73f0d46876"
 },
 "nbformat": 3,
 "nbformat_minor": 0,
 "worksheets": [
  {
   "cells": [
    {
     "cell_type": "markdown",
     "metadata": {},
     "source": [
      "Journals are particularly interesting structural part of academia. Academic journals are in most cases associated with on or another *category*, *discipline* or *subject*. Each journal has its *name*, *ISSN* number and *publisher*. For the sake of research, we would like to know *links* of these journals. Also, we are interested in *editorial boards*, *mission statements* and/or *disciplines*."
     ]
    },
    {
     "cell_type": "markdown",
     "metadata": {},
     "source": [
      "Brief info about notebook:\n",
      "* Completeness: fit.\n",
      "* Bugs: disciplines, categories and subjects with same name are represented as one node."
     ]
    },
    {
     "cell_type": "code",
     "collapsed": false,
     "input": [
      "import pandas as pd"
     ],
     "language": "python",
     "metadata": {},
     "outputs": [],
     "prompt_number": 13
    },
    {
     "cell_type": "code",
     "collapsed": false,
     "input": [
      "url = r'D:\\Documents\\Github\\disciplines\\disciplines\\data\\journals\\a9h-subject.xls'\n",
      "df = pd.read_excel(url, skiprows=4)"
     ],
     "language": "python",
     "metadata": {},
     "outputs": [],
     "prompt_number": 14
    },
    {
     "cell_type": "code",
     "collapsed": false,
     "input": [
      "unique_categories = df['Category'].unique()\n",
      "unique_disciplines = df['Discipline'].unique()\n",
      "unique_subjects = df['Subject'].unique()\n",
      "unique_publications = df['Publication Name'].unique()\n",
      "\n",
      "journal_count = len(df)\n",
      "category_count = len(unique_categories)\n",
      "discipline_count = len(unique_disciplines)\n",
      "subject_count = len(unique_subjects)\n",
      "journal_count = len(unique_publications)\n",
      "\n",
      "print('Total entries: ', len(df))\n",
      "print('Journal count: ', journal_count)\n",
      "print('Category count: ', category_count)\n",
      "print('Discipline count: ', discipline_count)\n",
      "print('Subject count: ', subject_count)\n",
      "print('Publication count: ', journal_count)"
     ],
     "language": "python",
     "metadata": {},
     "outputs": [
      {
       "output_type": "stream",
       "stream": "stdout",
       "text": [
        "('Total entries: ', 19746)\n",
        "('Journal count: ', 8937)\n",
        "('Category count: ', 15)\n",
        "('Discipline count: ', 184)\n",
        "('Subject count: ', 1716)\n",
        "('Publication count: ', 8937)\n"
       ]
      }
     ],
     "prompt_number": 15
    },
    {
     "cell_type": "code",
     "collapsed": false,
     "input": [
      "overlaping_between_disciplines_and_subjects = set(unique_disciplines) & set(unique_subjects)\n",
      "print('number of disciplines and subjects that have same name', \n",
      "      len(overlaping_between_disciplines_and_subjects), ' it does not mean that they are connected')"
     ],
     "language": "python",
     "metadata": {},
     "outputs": [
      {
       "output_type": "stream",
       "stream": "stdout",
       "text": [
        "('number of disciplines and subjects that have same name', 136, ' it does not mean that they are connected')\n"
       ]
      }
     ],
     "prompt_number": 16
    },
    {
     "cell_type": "code",
     "collapsed": false,
     "input": [
      "df.head(5)"
     ],
     "language": "python",
     "metadata": {},
     "outputs": [
      {
       "html": [
        "<div style=\"max-height:1000px;max-width:1500px;overflow:auto;\">\n",
        "<table border=\"1\" class=\"dataframe\">\n",
        "  <thead>\n",
        "    <tr style=\"text-align: right;\">\n",
        "      <th></th>\n",
        "      <th>Category</th>\n",
        "      <th>Discipline</th>\n",
        "      <th>Subject</th>\n",
        "      <th>Source Type</th>\n",
        "      <th>ISSN</th>\n",
        "      <th>Publication Name</th>\n",
        "      <th>Indexing and Abstracting Start</th>\n",
        "      <th>Indexing and Abstracting Stop</th>\n",
        "      <th>Full Text Start</th>\n",
        "      <th>Full Text Stop</th>\n",
        "      <th>Full Text Delay (Months)</th>\n",
        "      <th>Peer-Reviewed</th>\n",
        "    </tr>\n",
        "  </thead>\n",
        "  <tbody>\n",
        "    <tr>\n",
        "      <th>0</th>\n",
        "      <td> Social Sciences &amp; Humanities</td>\n",
        "      <td>           Psychology</td>\n",
        "      <td>         Psychology</td>\n",
        "      <td> Academic Journal</td>\n",
        "      <td> 1559-5145</td>\n",
        "      <td>          (Re)-turn: A Journal of Lacanian Studies</td>\n",
        "      <td>2013-01-01</td>\n",
        "      <td>NaT</td>\n",
        "      <td>2013-01-01</td>\n",
        "      <td>NaT</td>\n",
        "      <td>NaN</td>\n",
        "      <td> Y</td>\n",
        "    </tr>\n",
        "    <tr>\n",
        "      <th>1</th>\n",
        "      <td>            Health &amp; Medicine</td>\n",
        "      <td> Clinical Specialties</td>\n",
        "      <td>         Psychology</td>\n",
        "      <td> Academic Journal</td>\n",
        "      <td> 1559-5145</td>\n",
        "      <td>          (Re)-turn: A Journal of Lacanian Studies</td>\n",
        "      <td>2013-01-01</td>\n",
        "      <td>NaT</td>\n",
        "      <td>2013-01-01</td>\n",
        "      <td>NaT</td>\n",
        "      <td>NaN</td>\n",
        "      <td> Y</td>\n",
        "    </tr>\n",
        "    <tr>\n",
        "      <th>2</th>\n",
        "      <td>            Health &amp; Medicine</td>\n",
        "      <td>              Nursing</td>\n",
        "      <td> Anesthesia Nursing</td>\n",
        "      <td> Academic Journal</td>\n",
        "      <td> 0094-6354</td>\n",
        "      <td>                                      AANA Journal</td>\n",
        "      <td>2001-01-01</td>\n",
        "      <td>NaT</td>\n",
        "      <td>2001-02-01</td>\n",
        "      <td>NaT</td>\n",
        "      <td>NaN</td>\n",
        "      <td> Y</td>\n",
        "    </tr>\n",
        "    <tr>\n",
        "      <th>3</th>\n",
        "      <td>            Health &amp; Medicine</td>\n",
        "      <td> Clinical Specialties</td>\n",
        "      <td> Anesthesia Nursing</td>\n",
        "      <td> Academic Journal</td>\n",
        "      <td> 0094-6354</td>\n",
        "      <td>                                      AANA Journal</td>\n",
        "      <td>2001-01-01</td>\n",
        "      <td>NaT</td>\n",
        "      <td>2001-02-01</td>\n",
        "      <td>NaT</td>\n",
        "      <td>NaN</td>\n",
        "      <td> Y</td>\n",
        "    </tr>\n",
        "    <tr>\n",
        "      <th>4</th>\n",
        "      <td>                   Technology</td>\n",
        "      <td>     Computer Science</td>\n",
        "      <td>   Computer Science</td>\n",
        "      <td> Academic Journal</td>\n",
        "      <td> 0365-0359</td>\n",
        "      <td> AAPP | Physical, Mathematical &amp; Natural Scienc...</td>\n",
        "      <td>2009-06-01</td>\n",
        "      <td>NaT</td>\n",
        "      <td>2009-06-01</td>\n",
        "      <td>NaT</td>\n",
        "      <td>NaN</td>\n",
        "      <td> Y</td>\n",
        "    </tr>\n",
        "  </tbody>\n",
        "</table>\n",
        "</div>"
       ],
       "metadata": {},
       "output_type": "pyout",
       "prompt_number": 17,
       "text": [
        "                       Category            Discipline             Subject  \\\n",
        "0  Social Sciences & Humanities            Psychology          Psychology   \n",
        "1             Health & Medicine  Clinical Specialties          Psychology   \n",
        "2             Health & Medicine               Nursing  Anesthesia Nursing   \n",
        "3             Health & Medicine  Clinical Specialties  Anesthesia Nursing   \n",
        "4                    Technology      Computer Science    Computer Science   \n",
        "\n",
        "        Source Type       ISSN  \\\n",
        "0  Academic Journal  1559-5145   \n",
        "1  Academic Journal  1559-5145   \n",
        "2  Academic Journal  0094-6354   \n",
        "3  Academic Journal  0094-6354   \n",
        "4  Academic Journal  0365-0359   \n",
        "\n",
        "                                    Publication Name  \\\n",
        "0           (Re)-turn: A Journal of Lacanian Studies   \n",
        "1           (Re)-turn: A Journal of Lacanian Studies   \n",
        "2                                       AANA Journal   \n",
        "3                                       AANA Journal   \n",
        "4  AAPP | Physical, Mathematical & Natural Scienc...   \n",
        "\n",
        "  Indexing and Abstracting Start Indexing and Abstracting Stop  \\\n",
        "0                     2013-01-01                           NaT   \n",
        "1                     2013-01-01                           NaT   \n",
        "2                     2001-01-01                           NaT   \n",
        "3                     2001-01-01                           NaT   \n",
        "4                     2009-06-01                           NaT   \n",
        "\n",
        "  Full Text Start Full Text Stop  Full Text Delay (Months) Peer-Reviewed  \n",
        "0      2013-01-01            NaT                       NaN             Y  \n",
        "1      2013-01-01            NaT                       NaN             Y  \n",
        "2      2001-02-01            NaT                       NaN             Y  \n",
        "3      2001-02-01            NaT                       NaN             Y  \n",
        "4      2009-06-01            NaT                       NaN             Y  "
       ]
      }
     ],
     "prompt_number": 17
    },
    {
     "cell_type": "code",
     "collapsed": false,
     "input": [
      "df.groupby(['Category']).size().order(ascending=False).head()"
     ],
     "language": "python",
     "metadata": {},
     "outputs": [
      {
       "metadata": {},
       "output_type": "pyout",
       "prompt_number": 18,
       "text": [
        "Category\n",
        "Health & Medicine               4656\n",
        "Science                         4418\n",
        "Social Sciences & Humanities    3481\n",
        "Technology                      1643\n",
        "Politics & Government           1622\n",
        "dtype: int64"
       ]
      }
     ],
     "prompt_number": 18
    },
    {
     "cell_type": "code",
     "collapsed": false,
     "input": [
      "df.groupby(['Discipline']).size().order(ascending=False).head(5)"
     ],
     "language": "python",
     "metadata": {},
     "outputs": [
      {
       "metadata": {},
       "output_type": "pyout",
       "prompt_number": 19,
       "text": [
        "Discipline\n",
        "Clinical Specialties    2288\n",
        "Life Sciences           1836\n",
        "Law                     1316\n",
        "Medical Sciences        1010\n",
        "Chemistry                651\n",
        "dtype: int64"
       ]
      }
     ],
     "prompt_number": 19
    },
    {
     "cell_type": "code",
     "collapsed": false,
     "input": [
      "disciplines = df['Discipline'].unique()\n",
      "sorted(disciplines)[:5]"
     ],
     "language": "python",
     "metadata": {},
     "outputs": [
      {
       "metadata": {},
       "output_type": "pyout",
       "prompt_number": 20,
       "text": [
        "[u'Accounting & Tax',\n",
        " u'Activism & Advocacy',\n",
        " u'Aerospace Sciences',\n",
        " u'Allied Health',\n",
        " u'Anthropology']"
       ]
      }
     ],
     "prompt_number": 20
    },
    {
     "cell_type": "code",
     "collapsed": false,
     "input": [
      "#%matplotlib inline\n",
      "df.groupby(['Subject']).size().order(ascending=False).head()"
     ],
     "language": "python",
     "metadata": {},
     "outputs": [
      {
       "metadata": {},
       "output_type": "pyout",
       "prompt_number": 21,
       "text": [
        "Subject\n",
        "Psychology                     422\n",
        "Law                            414\n",
        "Pharmacology                   260\n",
        "Health & Medicine (General)    245\n",
        "Neurology                      216\n",
        "dtype: int64"
       ]
      }
     ],
     "prompt_number": 21
    },
    {
     "cell_type": "markdown",
     "metadata": {},
     "source": [
      "We have so info to work with. But what we can do with it? Well, we definitely can derive a set of disciplines, categories and subjects. From here we can ask, what do these fields actually refer to? Are there any subdiscipline relations, or are they in cattegories becaues of different reasons."
     ]
    },
    {
     "cell_type": "code",
     "collapsed": false,
     "input": [
      "#def get_interdisciplinary_journals():\n",
      "interdisciplinary_journals = df[df['Publication Name'].duplicated()]['Publication Name'].unique()\n",
      "duplicated_df = df[df[\"Publication Name\"].isin(interdisciplinary_journals)]\n",
      "print('number of publications that are are at least two times', len(duplicated_df))"
     ],
     "language": "python",
     "metadata": {},
     "outputs": [
      {
       "output_type": "stream",
       "stream": "stdout",
       "text": [
        "('number of publications that are are at least two times', 16230)\n"
       ]
      }
     ],
     "prompt_number": 22
    },
    {
     "cell_type": "markdown",
     "metadata": {},
     "source": [
      "We can also look into pure journals. These journals are mentioned only one time, therefore their content should be very straightforward disciplinary. <--<em>project idea<em>\n"
     ]
    },
    {
     "cell_type": "code",
     "collapsed": false,
     "input": [
      "pure_df = df[~df[\"Publication Name\"].isin(interdisciplinary_journals)]\n",
      "print('number of publications that are are mentioned only one time', len(pure_df))"
     ],
     "language": "python",
     "metadata": {},
     "outputs": [
      {
       "output_type": "stream",
       "stream": "stdout",
       "text": [
        "('number of publications that are are mentioned only one time', 3516)\n"
       ]
      }
     ],
     "prompt_number": 23
    },
    {
     "cell_type": "markdown",
     "metadata": {},
     "source": [
      "Now let's make some "
     ]
    },
    {
     "cell_type": "code",
     "collapsed": false,
     "input": [
      "%timeit -n 1 \n",
      "import networkx as nx\n",
      "g = nx.Graph()\n",
      "count = 0\n",
      "for index, params in duplicated_df.loc[:,['Category','Discipline','Subject','Publication Name']].iterrows():\n",
      "    count += 1\n",
      "    category, discipline, subject, publication_name = [\n",
      "        params['Category'], \n",
      "        params['Discipline'], \n",
      "        params['Subject'], \n",
      "        params['Publication Name']]\n",
      "\n",
      "    if category not in g.nodes():\n",
      "        g.add_node(category, {'type': 'category'})\n",
      "    if discipline not in g.nodes():\n",
      "        g.add_node(discipline, {'type': 'discipline'})\n",
      "    if subject not in g.nodes():\n",
      "        g.add_node(subject, {'type': 'subject'})\n",
      "    if publication_name not in g.nodes():\n",
      "        g.add_node(publication_name, {'type':'publication_name'})\n",
      "    \n",
      "    g.add_edges_from([(category, discipline, {'type': 'cat_disc'}),\n",
      "                      (discipline, subject, {'type': 'disc_subj'}),\n",
      "                      (subject, publication_name, {'type': 'subj_publ'})])\n",
      "    #if count == 10:\n",
      "    #    break\n",
      "#g.nodes(data=True)\n",
      "#g.edges(data=True)"
     ],
     "language": "python",
     "metadata": {},
     "outputs": [],
     "prompt_number": 24
    },
    {
     "cell_type": "code",
     "collapsed": false,
     "input": [
      "print(len(g.nodes()), len(g.edges()))\n",
      "without_categories = [[node, param] for node, param \n",
      "                      in g.nodes_iter(data=True) \n",
      "                      if (param['type'] == 'subject') or (param['type'] == 'publication_name')]\n",
      "len(without_categories)"
     ],
     "language": "python",
     "metadata": {},
     "outputs": [
      {
       "output_type": "stream",
       "stream": "stdout",
       "text": [
        "(6904, 11693)\n"
       ]
      },
      {
       "metadata": {},
       "output_type": "pyout",
       "prompt_number": 25,
       "text": [
        "6718"
       ]
      }
     ],
     "prompt_number": 25
    },
    {
     "cell_type": "markdown",
     "metadata": {},
     "source": [
      "We can write gexf file and see what we can achieve with it."
     ]
    },
    {
     "cell_type": "code",
     "collapsed": false,
     "input": [
      "color_dict = {'category': '255,0,255',\n",
      "              'discipline': '255,0,0',\n",
      "              'subject': '255,255,0',\n",
      "              'publication_name': '255,255,255'}\n",
      "size_dict = {'category': 10,\n",
      "              'discipline': 5,\n",
      "              'subject': 3,\n",
      "              'publication_name': 1}"
     ],
     "language": "python",
     "metadata": {},
     "outputs": [],
     "prompt_number": 26
    },
    {
     "cell_type": "code",
     "collapsed": false,
     "input": [
      "nx.write_gexf(g, 'journal_interdisciplinary_connections_ebsco.gexf')"
     ],
     "language": "python",
     "metadata": {},
     "outputs": [],
     "prompt_number": 27
    },
    {
     "cell_type": "markdown",
     "metadata": {},
     "source": [
      "Also, we should be interested in best what comes from social network analysis. Well, yes, the network that we are analyzing is not really social network, but we can still use the methodology."
     ]
    },
    {
     "cell_type": "code",
     "collapsed": false,
     "input": [
      "from networkx import centrality\n",
      "#centralities = {}\n",
      "#centralities['closeness'] = centrality.closeness_centrality(g)\n",
      "#centralities['eigenvector'] = centrality.eigenvector_centrality(g, max_iter=1000) # power iterations\n",
      "#centralities['betweenness'] = centrality.betweenness_centrality(g) # takes about 10 minutes to finish."
     ],
     "language": "python",
     "metadata": {},
     "outputs": [],
     "prompt_number": 28
    },
    {
     "cell_type": "code",
     "collapsed": false,
     "input": [
      "import json\n",
      "with open('betweenness_centrality.json', 'w') as outfile:\n",
      "  json.dump(centralities['betweenness'], outfile)\n",
      "with open('eigenvector_centrality.json', 'w') as outfile:\n",
      "  json.dump(centralities['eigenvector'], outfile)\n",
      "with open('closeness_centrality.json', 'w') as outfile:\n",
      "  json.dump(centralities['closeness'], outfile)"
     ],
     "language": "python",
     "metadata": {},
     "outputs": [],
     "prompt_number": 54
    },
    {
     "cell_type": "code",
     "collapsed": false,
     "input": [
      "#for one_centrality in centralities:\n",
      "#    for one_member in one_centrality:\n",
      "#        g[one_member][one_centrality] = get.one_member"
     ],
     "language": "python",
     "metadata": {},
     "outputs": []
    },
    {
     "cell_type": "code",
     "collapsed": false,
     "input": [
      "import operator\n",
      "x = {1: 2, 3: 4, 4:3, 2:1, 0:0}\n",
      "sorted_by_centrality = sorted(centralities.items(), key=operator.itemgetter(1))\n",
      "#sorted_by_centrality.reverse()"
     ],
     "language": "python",
     "metadata": {},
     "outputs": [],
     "prompt_number": 65
    },
    {
     "cell_type": "markdown",
     "metadata": {},
     "source": [
      "1. We might look into measures of journals, categories and disciplines seperately.\n",
      "2. Now, what about adding those values to our graph?\n",
      "3. "
     ]
    },
    {
     "cell_type": "code",
     "collapsed": false,
     "input": [
      "%matplotlib inline\n",
      "#nx.draw(g)"
     ],
     "language": "python",
     "metadata": {},
     "outputs": [],
     "prompt_number": 66
    },
    {
     "cell_type": "code",
     "collapsed": false,
     "input": [
      "for one, two in df.iteritems"
     ],
     "language": "python",
     "metadata": {},
     "outputs": []
    }
   ],
   "metadata": {}
  }
 ]
}