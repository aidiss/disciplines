{
 "metadata": {
  "name": "",
  "signature": "sha256:f6d26a9ed82d1adbb16e29493a647254a212efa1c0b0cdc986ffdf6d63362854"
 },
 "nbformat": 3,
 "nbformat_minor": 0,
 "worksheets": [
  {
   "cells": [
    {
     "cell_type": "code",
     "collapsed": false,
     "input": [
      "from nltk.corpus import wordnet as wn\n",
      "import networkx as nx"
     ],
     "language": "python",
     "metadata": {},
     "outputs": [],
     "prompt_number": 1
    },
    {
     "cell_type": "code",
     "collapsed": false,
     "input": [
      "import nltk\n",
      "nltk.download()"
     ],
     "language": "python",
     "metadata": {},
     "outputs": [
      {
       "output_type": "stream",
       "stream": "stdout",
       "text": [
        "showing info http://nltk.github.com/nltk_data/\n"
       ]
      },
      {
       "metadata": {},
       "output_type": "pyout",
       "prompt_number": 8,
       "text": [
        "True"
       ]
      }
     ],
     "prompt_number": 8
    },
    {
     "cell_type": "code",
     "collapsed": false,
     "input": [
      "\n",
      "from nltk.corpus import wordnet as wn\n",
      "import networkx as nx\n",
      "\n",
      "def closure_graph(synset, fn):\n",
      "    seen = set()\n",
      "    graph = nx.DiGraph()\n",
      "\n",
      "    def recurse(s):\n",
      "        if not s in seen:\n",
      "            seen.add(s)\n",
      "            graph.add_node(s.name)\n",
      "            for s1 in fn(s):\n",
      "                graph.add_node(s1.name)\n",
      "                graph.add_edge(s.name, s1.name)\n",
      "                recurse(s1)\n",
      "\n",
      "    recurse(synset)\n",
      "    return graph\n"
     ],
     "language": "python",
     "metadata": {},
     "outputs": [],
     "prompt_number": 17
    },
    {
     "cell_type": "code",
     "collapsed": false,
     "input": [
      "words = ['philosophy.n.01', 'sociology.n.01', 'physics.n.01','economics.n.01', 'social_science.n.01', 'social_scientist.n.01']\n",
      "words1 = ['philosopher.n.01', 'sociologist.n.01', 'physicist.n.01','economist.n.01', 'natural_science.n.01', 'social_scientist.n.01', 'researcher.n.01']\n",
      "for word in words1:\n",
      "\n",
      "    synlist = wn.synset(word)\n",
      "    graph = closure_graph(synlist,\n",
      "                          lambda s: s.hypernyms()) #hyponyms\n",
      "    print graph.nodes()"
     ],
     "language": "python",
     "metadata": {},
     "outputs": [
      {
       "output_type": "stream",
       "stream": "stdout",
       "text": [
        "['philosopher.n.01', 'scholar.n.01', 'living_thing.n.01', 'physical_entity.n.01', 'causal_agent.n.01', 'entity.n.01', 'person.n.01', 'object.n.01', 'organism.n.01', 'intellectual.n.01', 'whole.n.02']\n",
        "['living_thing.n.01', 'physical_entity.n.01', 'sociologist.n.01', 'causal_agent.n.01', 'scientist.n.01', 'entity.n.01', 'person.n.01', 'object.n.01', 'organism.n.01', 'social_scientist.n.01', 'whole.n.02']\n",
        "['living_thing.n.01', 'physical_entity.n.01', 'causal_agent.n.01', 'physicist.n.01', 'scientist.n.01', 'entity.n.01', 'person.n.01', 'object.n.01', 'organism.n.01', 'whole.n.02']\n",
        "['living_thing.n.01', 'physical_entity.n.01', 'causal_agent.n.01', 'scientist.n.01', 'economist.n.01', 'entity.n.01', 'person.n.01', 'object.n.01', 'organism.n.01', 'social_scientist.n.01', 'whole.n.02']\n",
        "['science.n.01', 'knowledge_domain.n.01', 'abstraction.n.06', 'natural_science.n.01', 'content.n.05', 'psychological_feature.n.01', 'discipline.n.01', 'entity.n.01', 'cognition.n.01']\n",
        "['living_thing.n.01', 'physical_entity.n.01', 'causal_agent.n.01', 'scientist.n.01', 'entity.n.01', 'person.n.01', 'object.n.01', 'organism.n.01', 'social_scientist.n.01', 'whole.n.02']\n",
        "['living_thing.n.01', 'physical_entity.n.01', 'research_worker.n.01', 'scientist.n.01', 'entity.n.01', 'person.n.01', 'object.n.01', 'organism.n.01', 'causal_agent.n.01', 'whole.n.02']\n"
       ]
      }
     ],
     "prompt_number": 76
    },
    {
     "cell_type": "code",
     "collapsed": false,
     "input": [
      " - hypernyms, instance_hypernyms\n",
      "    - hyponyms, instance_hyponyms\n",
      "    - member_holonyms, substance_holonyms, part_holonyms\n",
      "    - member_meronyms, substance_meronyms, part_meronyms\n",
      "    - attributes\n",
      "    - entailments\n",
      "    - causes\n",
      "    - also_sees\n",
      "    - verb_groups\n",
      "    - similar_tos"
     ],
     "language": "python",
     "metadata": {},
     "outputs": []
    },
    {
     "cell_type": "code",
     "collapsed": false,
     "input": [
      "wn.synset('sociology.n.01').definition"
     ],
     "language": "python",
     "metadata": {},
     "outputs": [
      {
       "metadata": {},
       "output_type": "pyout",
       "prompt_number": 65,
       "text": [
        "'the study and classification of human societies'"
       ]
      }
     ],
     "prompt_number": 65
    },
    {
     "cell_type": "code",
     "collapsed": false,
     "input": [
      "wn.synset('sociology.n.01').examples"
     ],
     "language": "python",
     "metadata": {},
     "outputs": [
      {
       "metadata": {},
       "output_type": "pyout",
       "prompt_number": 71,
       "text": [
        "[]"
       ]
      }
     ],
     "prompt_number": 71
    },
    {
     "cell_type": "code",
     "collapsed": false,
     "input": [
      "dog.definition('sociology of science')."
     ],
     "language": "python",
     "metadata": {},
     "outputs": [
      {
       "ename": "TypeError",
       "evalue": "'str' object is not callable",
       "output_type": "pyerr",
       "traceback": [
        "\u001b[1;31m---------------------------------------------------------------------------\u001b[0m\n\u001b[1;31mTypeError\u001b[0m                                 Traceback (most recent call last)",
        "\u001b[1;32m<ipython-input-32-cf59b5f71b76>\u001b[0m in \u001b[0;36m<module>\u001b[1;34m()\u001b[0m\n\u001b[1;32m----> 1\u001b[1;33m \u001b[0mdog\u001b[0m\u001b[1;33m.\u001b[0m\u001b[0mdefinition\u001b[0m\u001b[1;33m(\u001b[0m\u001b[1;34m'sociology of science'\u001b[0m\u001b[1;33m)\u001b[0m\u001b[1;33m\u001b[0m\u001b[0m\n\u001b[0m",
        "\u001b[1;31mTypeError\u001b[0m: 'str' object is not callable"
       ]
      }
     ],
     "prompt_number": 32
    }
   ],
   "metadata": {}
  }
 ]
}