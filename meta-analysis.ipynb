{
 "metadata": {
  "name": "",
  "signature": "sha256:15a70fda7f304001790cb911a75b5b5f4a58d2b4dbf3df1c82287115897be4f5"
 },
 "nbformat": 3,
 "nbformat_minor": 0,
 "worksheets": [
  {
   "cells": [
    {
     "cell_type": "markdown",
     "metadata": {},
     "source": [
      "This notebook is dedicated to comparison of two journal articles, two ideas. This can be interpreted as meta-research.\n",
      "For now, just to test our capabilities and to discover problematics of package we are going to compare what kind of disciplines mentioned in different codes.\n",
      "\n",
      "Here we will use to theories, *consensus map of science* by Richard Klavans  and Kevin W. Boyack and Biglans *classification of disciplines*."
     ]
    },
    {
     "cell_type": "code",
     "collapsed": false,
     "input": [
      "from disciplines.theory import consensus_map_of_science"
     ],
     "language": "python",
     "metadata": {},
     "outputs": [],
     "prompt_number": 1
    },
    {
     "cell_type": "heading",
     "level": 1,
     "metadata": {},
     "source": [
      "Consensus map of science"
     ]
    },
    {
     "cell_type": "code",
     "collapsed": false,
     "input": [
      "from IPython.display import Image\n",
      "i = Image(url='http://wiki.cns.iu.edu/download/attachments/1245876/worddavecfd04f904a8c7a15eaac3c2b9a6305a.png')\n",
      "i"
     ],
     "language": "python",
     "metadata": {},
     "outputs": [
      {
       "html": [
        "<img src=\"http://wiki.cns.iu.edu/download/attachments/1245876/worddavecfd04f904a8c7a15eaac3c2b9a6305a.png\"/>"
       ],
       "metadata": {},
       "output_type": "pyout",
       "prompt_number": 116,
       "text": [
        "<IPython.core.display.Image at 0x7a27e10>"
       ]
      }
     ],
     "prompt_number": 116
    },
    {
     "cell_type": "markdown",
     "metadata": {},
     "source": [
      "If we look into the the article we would find main findings filled in form of table. We did enter data from table into Python's tables and dictionaries.\n",
      "(In future we will do it ina format that will be more pandas friendly)"
     ]
    },
    {
     "cell_type": "code",
     "collapsed": false,
     "input": [
      "discipline_name_dictionary = consensus_map_of_science.name_dict\n",
      "consensus_table = consensus_map_of_science.TABLE_3\n",
      "consensus_map_of_science.TABLE_3.keys()"
     ],
     "language": "python",
     "metadata": {},
     "outputs": [
      {
       "metadata": {},
       "output_type": "pyout",
       "prompt_number": 123,
       "text": [
        "['table', 'name', 'columns']"
       ]
      }
     ],
     "prompt_number": 123
    },
    {
     "cell_type": "code",
     "collapsed": false,
     "input": [
      "consensus_map_of_science.TABLE_3['columns']"
     ],
     "language": "python",
     "metadata": {},
     "outputs": [
      {
       "metadata": {},
       "output_type": "pyout",
       "prompt_number": 126,
       "text": [
        "['Rank', 'Pair', 'N', 'N-poss', '%']"
       ]
      }
     ],
     "prompt_number": 126
    },
    {
     "cell_type": "code",
     "collapsed": false,
     "input": [
      "consensus_map_of_science.TABLE_3['table'][0:2]"
     ],
     "language": "python",
     "metadata": {},
     "outputs": [
      {
       "metadata": {},
       "output_type": "pyout",
       "prompt_number": 127,
       "text": [
        "[[1, 'B', 'BC', 20, 20, 100.0], [2, 'I', 'MD', 20, 20, 100.0]]"
       ]
      }
     ],
     "prompt_number": 127
    },
    {
     "cell_type": "code",
     "collapsed": false,
     "input": [
      "import pandas as pd\n",
      "df = pd.DataFrame([x[1:] for x in consensus_table['table']])\n",
      "df.columns = consensus_table['columns']\n",
      "df.index = range(1, len(df) +1) # Here we do some reindexing so it stays closer to original form."
     ],
     "language": "python",
     "metadata": {},
     "outputs": [],
     "prompt_number": 130
    },
    {
     "cell_type": "code",
     "collapsed": false,
     "input": [
      "df['Rank'] = df['Rank'].apply(lambda x: discipline_name_dictionary[x])\n",
      "df['Pair'] = df['Pair'].apply(lambda x: discipline_name_dictionary[x])\n",
      "\n",
      "df['Rank'] = df['Rank'].str.rstrip(' ') \n",
      "df['Pair'] = df['Pair'].str.rstrip(' ') "
     ],
     "language": "python",
     "metadata": {},
     "outputs": [],
     "prompt_number": 131
    },
    {
     "cell_type": "code",
     "collapsed": false,
     "input": [
      "unique_disciplines_in_consensus = set(df['Rank'].unique()) | set(df['Pair'].unique())"
     ],
     "language": "python",
     "metadata": {},
     "outputs": [],
     "prompt_number": 129
    },
    {
     "cell_type": "markdown",
     "metadata": {},
     "source": [
      "here we have a list of disciplines, or formations, mentioned in consensus map of science module.\n",
      "Can we compare it to disciplines mentioned elsewhere?\n",
      "What aboug Biglans?"
     ]
    },
    {
     "cell_type": "heading",
     "level": 1,
     "metadata": {},
     "source": [
      "Biglans classification of sciences"
     ]
    },
    {
     "cell_type": "code",
     "collapsed": false,
     "input": [
      "from disciplines.theory import biglan\n",
      "columns = ['discipline','pure', 'hard', 'life']\n",
      "the = biglan.the_classification\n",
      "mylist = []\n",
      "for line in the:\n",
      "    for discipline in line[0]:\n",
      "        mylist.append([discipline, line[1]['pure'], line[1]['hard'], line[1]['life']])\n",
      "df_biglan = pd.DataFrame(mylist, columns=columns)\n",
      "df_biglan['discipline'] = df_biglan['discipline'].str.rstrip(' ')\n",
      "unique_disciplines_in_biglan = set(df_biglan['discipline'].unique())"
     ],
     "language": "python",
     "metadata": {},
     "outputs": [],
     "prompt_number": 90
    },
    {
     "cell_type": "code",
     "collapsed": false,
     "input": [
      "overlaping = unique_disciplines_in_biglan & unique_disciplines_in_consensus\n",
      "a_but_not_b  = unique_disciplines_in_biglan - unique_disciplines_in_consensus\n",
      "b_but_not_a  = unique_disciplines_in_consensus - unique_disciplines_in_biglan\n",
      "b_but_not_a"
     ],
     "language": "python",
     "metadata": {},
     "outputs": [
      {
       "metadata": {},
       "output_type": "pyout",
       "prompt_number": 98,
       "text": [
        "{'Brain research (neuroscience)',\n",
        " 'Earth sciences (geoscience)',\n",
        " 'Engineering',\n",
        " 'Health services',\n",
        " 'Humanities',\n",
        " 'Infectious disease',\n",
        " 'Medical specialties',\n",
        " 'Physical chemistry',\n",
        " 'Psychology/psychiatry',\n",
        " 'Social sciences'}"
       ]
      }
     ],
     "prompt_number": 98
    },
    {
     "cell_type": "markdown",
     "metadata": {},
     "source": [
      "Currently we have little problems, like psychology and psychiatry is made into one. Also,\n",
      "brain research has second name that is neuroscience. Earth sciences have second name that is geoscience.\n",
      "We have to somehow handle this complexity"
     ]
    },
    {
     "cell_type": "code",
     "collapsed": false,
     "input": [
      "def see_similarity(terms):\n",
      "    '''\n",
      "    We except terms to be splited because of two reasons, appearence of \"()\" and \"/\".\n",
      "    '''\n",
      "    if len(terms) == 2:\n",
      "        terms = [str.lower(term) for term in terms]\n",
      "    term1, term2= [terms[0]], [terms[1]]\n",
      "    if r'/' in term1[0]:\n",
      "        term1 = term1[0].split(r'/')\n",
      "    if ('(' in term2) and (')' in term2):\n",
      "        term2 = term2.split('(').strip(')')\n",
      "    \n",
      "    for term in term1:\n",
      "        if term in term2:\n",
      "            answer = True\n",
      "        \n",
      "    return [term1, term2], True\n",
      "see_similarity(['Psychology/psychiatry', 'Psychology'])"
     ],
     "language": "python",
     "metadata": {},
     "outputs": [
      {
       "metadata": {},
       "output_type": "pyout",
       "prompt_number": 167,
       "text": [
        "([['psychology', 'psychiatry'], ['psychology']], True)"
       ]
      }
     ],
     "prompt_number": 167
    },
    {
     "cell_type": "markdown",
     "metadata": {},
     "source": [
      "Now we have two ways extending the code. First, we can see what kind of "
     ]
    }
   ],
   "metadata": {}
  }
 ]
}