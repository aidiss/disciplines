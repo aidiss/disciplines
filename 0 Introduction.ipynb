{
 "metadata": {
  "name": "",
  "signature": "sha256:824d72ac9cc3e808670131a344241f715a36e5f0695ab4913c48ff63d05cb220"
 },
 "nbformat": 3,
 "nbformat_minor": 0,
 "worksheets": [
  {
   "cells": [
    {
     "cell_type": "heading",
     "level": 1,
     "metadata": {},
     "source": [
      "Introduction to *disciplines*\n"
     ]
    },
    {
     "cell_type": "markdown",
     "metadata": {},
     "source": [
      "Hello world, is this ipython notebook will introduce you to disciplines library.\n",
      "\n",
      "*Disciplines* is a package that is aimed to be used in Science and technology studies, social studies of science, scientometrics and related research activities.\n",
      "\n",
      "Disciplines contain is based on three parts: theory, data and method.\n",
      "*Theory* is derived from statements made in scientific and other literature.\n",
      "*Data* is here to prove or falsify theories.\n",
      "*Method* is package of approaches that theory and data."
     ]
    },
    {
     "cell_type": "code",
     "collapsed": false,
     "input": [
      "import disciplines\n",
      "print disciplines.__doc__"
     ],
     "language": "python",
     "metadata": {},
     "outputs": [
      {
       "output_type": "stream",
       "stream": "stdout",
       "text": [
        "None\n"
       ]
      }
     ],
     "prompt_number": 1
    },
    {
     "cell_type": "code",
     "collapsed": false,
     "input": [
      "from disciplines import theory\n",
      "print theory.__doc__"
     ],
     "language": "python",
     "metadata": {},
     "outputs": [
      {
       "output_type": "stream",
       "stream": "stdout",
       "text": [
        " This module is an implementation of theories that deal with\n",
        "academic disciplines and related phenomenons.\n",
        "\n",
        "The module is structured by the name of theory \n",
        "\n",
        "It includes:\n",
        "emergence of disciplines\n",
        "interdisciplinary_models\n",
        "justification_for_interdisciplinarity\n",
        "power_struggles\n",
        "regimes_of_knowledge_production\n",
        "taxonomy_of_interdisciplinarity\n",
        "structuring_of_research_fields\n",
        "\n",
        "\n",
        "The description should contain assessment of possible dificulties and\n",
        "opportunities of developing implementation of each theory.\n",
        "\n",
        "\tDocstrings:\n",
        "\t\tName\n",
        "\n",
        "\t\tShort description\n",
        "\n",
        "\t\tArgs:\n",
        "\n",
        "\t\tVars:\n",
        "\n",
        "\t\tTheory:\n",
        "\t\t\tQuote\n",
        "\t\t\tReferences\n",
        "\t\t\tInterpretation\n",
        "\n",
        "Notes:\n",
        "\tThere are few types of theories.\n",
        "\tTheories are different in the details that they provide.\n",
        "\tExamples, some theories provide discipline names as an example. This is hepfull but not too much.\n",
        "\tCase studies, some theories provide cases on which the theories are build. This makes it easy to reconstruct the claims.\n",
        "\n",
        "In general, modules in this package are ready to grasp the data, but the data needs to be prepared.\n",
        "\n",
        "The package is organized in some levels:\n",
        "\tconcepts - they appear in text and may be more or less easy to understand.\n",
        "\ttheory - in this research theory can be very small or big. Definition of theory may be only it.\n",
        "\ttheories, with little exceptions, organize different building blocks that can be found in blocks folder.\n",
        "\n",
        "\tinterpretations - these are not straighforward obvious from the theory but can be retrieved.\n",
        "\n",
        "\n",
        "Authors whos work is used in this package:\n",
        "\tVinck\n",
        "\tKlein\n",
        "\tKuhn\n",
        "\tFleck\n",
        "\tHylland\n",
        "\tZiman\n",
        "\tKolb\n",
        "\tBecher\n",
        "\tBiglan\n",
        "\n"
       ]
      }
     ],
     "prompt_number": 5
    },
    {
     "cell_type": "code",
     "collapsed": false,
     "input": [
      "from disciplines import data\n",
      "print data.__doc__"
     ],
     "language": "python",
     "metadata": {},
     "outputs": [
      {
       "output_type": "stream",
       "stream": "stdout",
       "text": [
        "None\n"
       ]
      }
     ],
     "prompt_number": 7
    },
    {
     "cell_type": "code",
     "collapsed": false,
     "input": [
      "from disciplines import method\n",
      "print method.__doc__"
     ],
     "language": "python",
     "metadata": {},
     "outputs": [
      {
       "output_type": "stream",
       "stream": "stdout",
       "text": [
        " Main method of module\n",
        "\n",
        "Enables to assess fitneess of data for paricular theory.\n",
        "Looks for what kind of data is required for investigation of particular theory.\n",
        "Checks overall fitness of data for all theories.\n",
        "\n",
        "Vars:\n",
        "\tNone\n",
        "\n"
       ]
      }
     ],
     "prompt_number": 8
    }
   ],
   "metadata": {}
  }
 ]
}