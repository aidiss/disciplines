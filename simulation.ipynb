{
 "metadata": {
  "name": "",
  "signature": "sha256:24fd984d3b5034db495eccfeaad01ad5a6d169c7d42485ee2d79de20b2990a0f"
 },
 "nbformat": 3,
 "nbformat_minor": 0,
 "worksheets": [
  {
   "cells": [
    {
     "cell_type": "code",
     "collapsed": false,
     "input": [
      "import random\n",
      "\n",
      "def phd_awarded(person=None, discipline=None, title=None):\n",
      "    if person != None:\n",
      "        pass\n",
      "    if discipline != None:\n",
      "        pass\n",
      "    if title != None:\n",
      "        pass\n",
      "    return True\n",
      "\n",
      "def department_established(founder=None, university=None, discipline=None):\n",
      "    if founder != None:\n",
      "        pass\n",
      "    if university != None:\n",
      "        pass\n",
      "    if discipline != None:\n",
      "        pass\n",
      "    \n",
      "def journal_created(title=None, publisher=None, board=None):\n",
      "    if title != None:\n",
      "        pass\n",
      "    if publisher != None:\n",
      "        pass\n",
      "    if board != None:\n",
      "        pass\n",
      "\n",
      "def article_published(author=None, title=None, citation_list=None):\n",
      "    if author != None:\n",
      "        pass\n",
      "    if title != None:\n",
      "        pass\n",
      "    if citation_list != None:\n",
      "        pass"
     ],
     "language": "python",
     "metadata": {},
     "outputs": [],
     "prompt_number": 36
    },
    {
     "cell_type": "code",
     "collapsed": false,
     "input": [
      "phd_count = 10000\n",
      "discipline_count = 500\n",
      "for year in range(1900, 2000):\n",
      "    if random.randint(0, 10) < 1:\n",
      "        phd_count += 1 #phd_awarded()\n",
      "\n",
      "    if year % 10 == 0:\n",
      "        print year\n",
      "\n",
      "print \"phd count: \", phd_count\n",
      "print \"discipline count: \", discipline_count"
     ],
     "language": "python",
     "metadata": {},
     "outputs": [
      {
       "output_type": "stream",
       "stream": "stdout",
       "text": [
        "1900\n",
        "1910\n",
        "1920\n",
        "1930\n",
        "1940\n",
        "1950\n",
        "1960\n",
        "1970\n",
        "1980\n",
        "1990\n",
        "phd count:  10009\n",
        "discipline count:  500\n"
       ]
      }
     ],
     "prompt_number": 39
    },
    {
     "cell_type": "code",
     "collapsed": false,
     "input": [],
     "language": "python",
     "metadata": {},
     "outputs": []
    }
   ],
   "metadata": {}
  }
 ]
}