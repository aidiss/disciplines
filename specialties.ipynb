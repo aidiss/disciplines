{
 "metadata": {
  "name": "",
  "signature": "sha256:dd26e9fb2375b77963b0e91532405dbda65333b9bf5cfc0cc7f7fc10e9aa3d07"
 },
 "nbformat": 3,
 "nbformat_minor": 0,
 "worksheets": [
  {
   "cells": [
    {
     "cell_type": "code",
     "collapsed": false,
     "input": [
      "url = 'http://www.abms.org/who_we_help/physicians/specialties.aspx'"
     ],
     "language": "python",
     "metadata": {},
     "outputs": []
    },
    {
     "cell_type": "code",
     "collapsed": false,
     "input": [],
     "language": "python",
     "metadata": {},
     "outputs": []
    }
   ],
   "metadata": {}
  }
 ]
}