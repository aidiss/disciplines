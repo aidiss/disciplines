{
 "metadata": {
  "name": "",
  "signature": "sha256:0f33de724fdf77ea487aac228c80097572da97a0e24ccfc6ccdbb37d7c3b4ab4"
 },
 "nbformat": 3,
 "nbformat_minor": 0,
 "worksheets": [
  {
   "cells": [
    {
     "cell_type": "heading",
     "level": 1,
     "metadata": {},
     "source": [
      "Tutorial"
     ]
    },
    {
     "cell_type": "markdown",
     "metadata": {},
     "source": [
      "[Introduction](Introduction.ipynb)\n",
      "- [Theories](Theories.ipynb) - demonstrates functions package\n",
      "- [Data](Data.ipynb) - demonstrates main approaches of working with data\n",
      "- [Methods](Methods.ipynb) - a selection of methods overarching connection of theories and data.\n",
      "\n",
      "\n",
      "- [Conferences](Conferences.ipynb) - dedicated to information gathering about conferences\n",
      "- [Learned Societies](Learned Societies.ipynb) - working with information \n",
      "- [Syllabi](Syllabi.ipynb) - deals with finding, getting, scrapping, saving and analysing syllab\n",
      "\n",
      "\n",
      "- [Emergence](Emergence of discipline.ipynb) - dedicated to theory described by Ziman"
     ]
    }
   ],
   "metadata": {}
  }
 ]
}