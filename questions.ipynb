{
 "metadata": {
  "name": "",
  "signature": "sha256:ffd4fff89f5a31d01afc430e9ff1b4f31953549cbb61cea170be7f72cbcb72c9"
 },
 "nbformat": 3,
 "nbformat_minor": 0,
 "worksheets": [
  {
   "cells": [
    {
     "cell_type": "raw",
     "metadata": {
      "slideshow": {
       "slide_type": "-"
      }
     },
     "source": [
      "This package will help you to anwer questions like:\n",
      "How disciplines cite other disciplines?\n",
      "How boundaries of disciplines are demarcated?\n",
      "What researchers can be considered as part of disciplines?\n",
      "What is the difference between fields, communities of practice and disciplines?\n",
      "How use of concepts relate to disciplines.\n",
      "What are the styles of disciplines?\n",
      "How citation practices migrate from discipline to discipline?\n",
      "When disciplines emerge?\n",
      "When disciplines grow?\n",
      "When disciplines die?\n",
      "What disciplines are more to related methods.\n",
      "What disciplines are more related to field of research.\n",
      "How data is used in different disciplines?\n",
      "What data is used in different disciplines?\n",
      "What software is used in different disciplines?\n",
      "What software migrates from discipline to discipline.\n",
      "What are mobility trends of discipline to discipline.\n",
      "What acronims are considered as standard by disciplines.\n",
      "At what point use of concept disperses?\n",
      "At what point use of concept merges / is synthesized.\n",
      "What type of media is used for disciplines to interact.\n",
      "Which discipline has most subdisciplines.\n",
      "How disciplines negotiate boundaries.\n",
      "How disciplines build bridges.\n",
      "What disciplines interact with disciplines that are far away.\n",
      "What disciplines have most simple career paths."
     ]
    },
    {
     "cell_type": "raw",
     "metadata": {},
     "source": [
      "What data has to retrieved?\n",
      "What are types of data?\n",
      "How to  implement sources?\n",
      "Is supervised machine learning able to repeat procedures done to implement articles?\n",
      "Is it possible to link structure of implemented theories to theory text itself?\n",
      "What articles are easiest to implement?\n",
      "Is it possible to do implementation based only on?\n",
      "Are there articles that are references only by one discipline?\n",
      "How referencing an article goes from one discipline to another?\n",
      "How style of refencing article.\n",
      "Is it possible to match journal's about us with content of articles published only with use of NLTK tools."
     ]
    },
    {
     "cell_type": "code",
     "collapsed": false,
     "input": [],
     "language": "python",
     "metadata": {},
     "outputs": []
    }
   ],
   "metadata": {}
  }
 ]
}