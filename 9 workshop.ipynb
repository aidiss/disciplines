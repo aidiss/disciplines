{
 "metadata": {
  "name": "",
  "signature": "sha256:7969e17f167f346f3cb616bc15ad5801c16aae625dfeaf51305c67df3d60eca5"
 },
 "nbformat": 3,
 "nbformat_minor": 0,
 "worksheets": [
  {
   "cells": [
    {
     "cell_type": "code",
     "collapsed": false,
     "input": [
      "# -*- coding: utf-8 -*-\n",
      "#journals.py\n",
      "\"\"\"Journals are particular kind of publication.\n",
      "\n",
      "They have different publications in them by different authors.\n",
      "Journals are periodical. Journals are made by publishers. Authors publish\n",
      "in journals. Journals contain articles. Journals have associated editors.\n",
      "Journals have.\n",
      "\n",
      "There is a limited number of journals we have interest. For know we can \n",
      "separated two groups of journals. First group of journals contain \n",
      "interesting theoretical claims that we base our research on. Second \n",
      "group of journals are mor einterested as a source of data.\n",
      "\n",
      "First group consist of around 50 journals.\n",
      "Second group is way larger.\n",
      "\"\"\"\n",
      "\n",
      "class Journal():\n",
      "    __self__ = ''\n",
      "    editors = []\n",
      "    publications = []\n",
      "    volumes = None\n",
      "    established = 'timestamp'\n",
      "    authors_who_published = []\n",
      "    journals_that_cited_this_journal = []\n",
      "    \n",
      "s4 = Journal\n",
      "\n",
      "\n",
      "import pandas as pd\n",
      "url = r'd:\\Documents\\GitHub\\disciplines\\disciplines\\data\\xlsx\\sts books and journals.xlsx'\n",
      "df = pd.read_excel(url, header=None )\n",
      "df.columns = ['name', 'url']\n"
     ],
     "language": "python",
     "metadata": {},
     "outputs": [],
     "prompt_number": 3
    },
    {
     "cell_type": "code",
     "collapsed": false,
     "input": [
      "# -*- coding: utf-8 -*-\n",
      "#syllabi.py\n",
      "\n",
      "source_url = r'http://www.4sonline.org/resources/syllabi'\n",
      "url = r'd:\\Documents\\GitHub\\disciplines\\disciplines\\data\\xlsx\\sts syllabi.xlsx'\n",
      "df = pd.read_excel(url, header=0 )"
     ],
     "language": "python",
     "metadata": {},
     "outputs": [],
     "prompt_number": 4
    },
    {
     "cell_type": "code",
     "collapsed": false,
     "input": [
      "df"
     ],
     "language": "python",
     "metadata": {},
     "outputs": [
      {
       "html": [
        "<div style=\"max-height:1000px;max-width:1500px;overflow:auto;\">\n",
        "<table border=\"1\" class=\"dataframe\">\n",
        "  <thead>\n",
        "    <tr style=\"text-align: right;\">\n",
        "      <th></th>\n",
        "      <th>Professor</th>\n",
        "      <th>Topic</th>\n",
        "      <th>Level</th>\n",
        "      <th>Department/Program</th>\n",
        "      <th>Language</th>\n",
        "      <th>url</th>\n",
        "    </tr>\n",
        "  </thead>\n",
        "  <tbody>\n",
        "    <tr>\n",
        "      <th>0 </th>\n",
        "      <td>           Akera1\u00a0</td>\n",
        "      <td>                       Information Technology</td>\n",
        "      <td>    U</td>\n",
        "      <td> Science &amp; Technology Studies</td>\n",
        "      <td> English</td>\n",
        "      <td>                                               NaN</td>\n",
        "    </tr>\n",
        "    <tr>\n",
        "      <th>1 </th>\n",
        "      <td>         .doc\u00a0.pdf</td>\n",
        "      <td>                                          NaN</td>\n",
        "      <td>  NaN</td>\n",
        "      <td>                          NaN</td>\n",
        "      <td>     NaN</td>\n",
        "      <td>                                               NaN</td>\n",
        "    </tr>\n",
        "    <tr>\n",
        "      <th>2 </th>\n",
        "      <td>            Akera2</td>\n",
        "      <td>                 Science &amp; Technology Studies</td>\n",
        "      <td>    U</td>\n",
        "      <td> Science &amp; Technology Studies</td>\n",
        "      <td> English</td>\n",
        "      <td>                                               NaN</td>\n",
        "    </tr>\n",
        "    <tr>\n",
        "      <th>3 </th>\n",
        "      <td>         .doc\u00a0.pdf</td>\n",
        "      <td>                                          NaN</td>\n",
        "      <td>  NaN</td>\n",
        "      <td>                          NaN</td>\n",
        "      <td>     NaN</td>\n",
        "      <td>                                               NaN</td>\n",
        "    </tr>\n",
        "    <tr>\n",
        "      <th>4 </th>\n",
        "      <td>           Balmer1</td>\n",
        "      <td>                  Science &amp; Technology Policy</td>\n",
        "      <td>    U</td>\n",
        "      <td> Science &amp; Technology Studies</td>\n",
        "      <td> English</td>\n",
        "      <td>      http://www.4sonline.org/syllabi/Balmer1.doc#</td>\n",
        "    </tr>\n",
        "    <tr>\n",
        "      <th>5 </th>\n",
        "      <td>           Balmer2</td>\n",
        "      <td>                         Genetics and Society</td>\n",
        "      <td>    U</td>\n",
        "      <td> Science &amp; Technology Studies</td>\n",
        "      <td> English</td>\n",
        "      <td>       http://www.4sonline.org/syllabi/Balmer.doc#</td>\n",
        "    </tr>\n",
        "    <tr>\n",
        "      <th>6 </th>\n",
        "      <td>            Chang1</td>\n",
        "      <td>                        Philosophy of Science</td>\n",
        "      <td>    U</td>\n",
        "      <td> Science &amp; Technology Studies</td>\n",
        "      <td> English</td>\n",
        "      <td>       http://www.4sonline.org/syllabi/chang1.doc#</td>\n",
        "    </tr>\n",
        "    <tr>\n",
        "      <th>7 </th>\n",
        "      <td>            Chang2</td>\n",
        "      <td>             Hist\u00a0&amp; Phil of Physical Sciences</td>\n",
        "      <td>    U</td>\n",
        "      <td> Science &amp; Technology Studies</td>\n",
        "      <td> English</td>\n",
        "      <td>                                               NaN</td>\n",
        "    </tr>\n",
        "    <tr>\n",
        "      <th>8 </th>\n",
        "      <td>        Clarke (1)</td>\n",
        "      <td>                                Gender &amp; Race</td>\n",
        "      <td>    G</td>\n",
        "      <td>                    Sociology</td>\n",
        "      <td> English</td>\n",
        "      <td>      http://www.4sonline.org/syllabi/Clarke1.doc#</td>\n",
        "    </tr>\n",
        "    <tr>\n",
        "      <th>9 </th>\n",
        "      <td>        Clarke (2)</td>\n",
        "      <td>                               STS &amp; Medicine</td>\n",
        "      <td>    G</td>\n",
        "      <td>                    Sociology</td>\n",
        "      <td> English</td>\n",
        "      <td> http://www.4sonline.org/syllabi/AClarke_07_STS...</td>\n",
        "    </tr>\n",
        "    <tr>\n",
        "      <th>10</th>\n",
        "      <td> Clarke &amp; Anderson</td>\n",
        "      <td>                                     Medicine</td>\n",
        "      <td>    G</td>\n",
        "      <td>                    Sociology</td>\n",
        "      <td> English</td>\n",
        "      <td>      http://www.4sonline.org/syllabi/Clarke2.doc#</td>\n",
        "    </tr>\n",
        "    <tr>\n",
        "      <th>11</th>\n",
        "      <td>          Delborne</td>\n",
        "      <td> Science, Technology, and Medicine in Society</td>\n",
        "      <td>    G</td>\n",
        "      <td> Science &amp; Technology Studies</td>\n",
        "      <td> English</td>\n",
        "      <td>  http://www.4sonline.org/syllabi/Delborne901.pdf#</td>\n",
        "    </tr>\n",
        "    <tr>\n",
        "      <th>12</th>\n",
        "      <td>               Fox</td>\n",
        "      <td>                                Gender &amp; Race</td>\n",
        "      <td>    U</td>\n",
        "      <td> Science &amp; Technology Studies</td>\n",
        "      <td> English</td>\n",
        "      <td> http://www.4sonline.org/syllabi/Fox--syllabus....</td>\n",
        "    </tr>\n",
        "    <tr>\n",
        "      <th>13</th>\n",
        "      <td>          Gregory1</td>\n",
        "      <td>                           History of Science</td>\n",
        "      <td>    U</td>\n",
        "      <td> Science &amp; Technology Studies</td>\n",
        "      <td> English</td>\n",
        "      <td>     http://www.4sonline.org/syllabi/Gregory1.doc#</td>\n",
        "    </tr>\n",
        "    <tr>\n",
        "      <th>14</th>\n",
        "      <td>          Gregory2</td>\n",
        "      <td>                        Scientific Revolution</td>\n",
        "      <td>    U</td>\n",
        "      <td> Science &amp; Technology Studies</td>\n",
        "      <td> English</td>\n",
        "      <td>                                               NaN</td>\n",
        "    </tr>\n",
        "    <tr>\n",
        "      <th>15</th>\n",
        "      <td>          Gregory3</td>\n",
        "      <td>                            Magic to Sciences</td>\n",
        "      <td>    U</td>\n",
        "      <td> Science &amp; Technology Studies</td>\n",
        "      <td> English</td>\n",
        "      <td>                                               NaN</td>\n",
        "    </tr>\n",
        "    <tr>\n",
        "      <th>16</th>\n",
        "      <td>              Guay</td>\n",
        "      <td>                           Technology Studies</td>\n",
        "      <td>    U</td>\n",
        "      <td>                    Sociology</td>\n",
        "      <td>  French</td>\n",
        "      <td>         http://www.4sonline.org/syllabi/Guay.doc#</td>\n",
        "    </tr>\n",
        "    <tr>\n",
        "      <th>17</th>\n",
        "      <td>            Guston</td>\n",
        "      <td>                  Science &amp; Technology Policy</td>\n",
        "      <td>    G</td>\n",
        "      <td>                Public Policy</td>\n",
        "      <td> English</td>\n",
        "      <td>       http://www.4sonline.org/syllabi/Guston.dot#</td>\n",
        "    </tr>\n",
        "    <tr>\n",
        "      <th>18</th>\n",
        "      <td>       Hausman (1)</td>\n",
        "      <td>                      Medicine &amp; Anthropology</td>\n",
        "      <td>    U</td>\n",
        "      <td>                 Anthropology</td>\n",
        "      <td> English</td>\n",
        "      <td>     http://www.4sonline.org/syllabi/Hausman1.htm#</td>\n",
        "    </tr>\n",
        "    <tr>\n",
        "      <th>19</th>\n",
        "      <td>       Hausman (2)</td>\n",
        "      <td>     Anthropology of the Body and the Subject</td>\n",
        "      <td> U, G</td>\n",
        "      <td>                 Anthropology</td>\n",
        "      <td> English</td>\n",
        "      <td>     http://www.4sonline.org/syllabi/Hausman2.htm#</td>\n",
        "    </tr>\n",
        "    <tr>\n",
        "      <th>20</th>\n",
        "      <td>              Hess</td>\n",
        "      <td>                 Science &amp; Technology Studies</td>\n",
        "      <td>    U</td>\n",
        "      <td> Science &amp; Technology Studies</td>\n",
        "      <td> English</td>\n",
        "      <td>         http://www.4sonline.org/syllabi/Hess.doc#</td>\n",
        "    </tr>\n",
        "    <tr>\n",
        "      <th>21</th>\n",
        "      <td>          Hess (2)</td>\n",
        "      <td>                      Science &amp; Social Theory</td>\n",
        "      <td>    U</td>\n",
        "      <td> Science &amp; Technology Studies</td>\n",
        "      <td> English</td>\n",
        "      <td> http://www.4sonline.org/syllabi/HessGradSTS201...</td>\n",
        "    </tr>\n",
        "    <tr>\n",
        "      <th>22</th>\n",
        "      <td>      Karvonen (1)</td>\n",
        "      <td>                               Nanotechnology</td>\n",
        "      <td>    U</td>\n",
        "      <td> Science &amp; Technology Studies</td>\n",
        "      <td> English</td>\n",
        "      <td>    http://www.4sonline.org/syllabi/Karvonen1.pdf#</td>\n",
        "    </tr>\n",
        "    <tr>\n",
        "      <th>23</th>\n",
        "      <td>      Karvonen (2)</td>\n",
        "      <td>                           Engineering Ethics</td>\n",
        "      <td>    U</td>\n",
        "      <td> Science &amp; Technology Studies</td>\n",
        "      <td> English</td>\n",
        "      <td>    http://www.4sonline.org/syllabi/Karvonen2.pdf#</td>\n",
        "    </tr>\n",
        "    <tr>\n",
        "      <th>24</th>\n",
        "      <td>          Klawiter</td>\n",
        "      <td>                 Science &amp; Technology Studies</td>\n",
        "      <td>    G</td>\n",
        "      <td> Science &amp; Technology Studies</td>\n",
        "      <td> English</td>\n",
        "      <td>     http://www.4sonline.org/syllabi/klawiter.doc#</td>\n",
        "    </tr>\n",
        "    <tr>\n",
        "      <th>25</th>\n",
        "      <td>   Leydesdorff (1)</td>\n",
        "      <td>                           Technology Studies</td>\n",
        "      <td>    G</td>\n",
        "      <td> Science &amp; Technology Studies</td>\n",
        "      <td> English</td>\n",
        "      <td> http://www.4sonline.org/syllabi/Leydesdorff1.htm#</td>\n",
        "    </tr>\n",
        "    <tr>\n",
        "      <th>26</th>\n",
        "      <td>   Leydesdorff (2)</td>\n",
        "      <td>                       Sociology of Knowledge</td>\n",
        "      <td>    G</td>\n",
        "      <td> Science &amp; Technology Studies</td>\n",
        "      <td> English</td>\n",
        "      <td> http://www.4sonline.org/syllabi/Leydesdorff2.htm#</td>\n",
        "    </tr>\n",
        "    <tr>\n",
        "      <th>27</th>\n",
        "      <td>           Mitcham</td>\n",
        "      <td>                  Science&amp; Technology Studies</td>\n",
        "      <td>    G</td>\n",
        "      <td>  Science&amp; Technology Studies</td>\n",
        "      <td> English</td>\n",
        "      <td>      http://www.4sonline.org/syllabi/Mitcham.htm#</td>\n",
        "    </tr>\n",
        "    <tr>\n",
        "      <th>28</th>\n",
        "      <td>       Monahan (1)</td>\n",
        "      <td>                           Technology Studies</td>\n",
        "      <td>    U</td>\n",
        "      <td>              Justice Studies</td>\n",
        "      <td> English</td>\n",
        "      <td>      http://www.4sonline.org/syllabi/Monahan.htm#</td>\n",
        "    </tr>\n",
        "    <tr>\n",
        "      <th>29</th>\n",
        "      <td>       Monahan (2)</td>\n",
        "      <td>                   Technology &amp; Globalization</td>\n",
        "      <td>    G</td>\n",
        "      <td>              Justice Studies</td>\n",
        "      <td> English</td>\n",
        "      <td>      http://www.4sonline.org/syllabi/Monahan.htm#</td>\n",
        "    </tr>\n",
        "    <tr>\n",
        "      <th>30</th>\n",
        "      <td>       Monahan (3)</td>\n",
        "      <td>                  Technology of Surveillance\u00a0</td>\n",
        "      <td>    U</td>\n",
        "      <td>              Justice Studies</td>\n",
        "      <td> English</td>\n",
        "      <td>     http://www.4sonline.org/syllabi/Monahan3.pdf#</td>\n",
        "    </tr>\n",
        "    <tr>\n",
        "      <th>31</th>\n",
        "      <td>       Monahan (4)</td>\n",
        "      <td>                   Globalization &amp; Technology</td>\n",
        "      <td>    G</td>\n",
        "      <td>              Justice Studies</td>\n",
        "      <td> English</td>\n",
        "      <td>     http://www.4sonline.org/syllabi/Monahan4.pdf#</td>\n",
        "    </tr>\n",
        "    <tr>\n",
        "      <th>32</th>\n",
        "      <td>            Nelson</td>\n",
        "      <td>                          Cyborg Anthropology</td>\n",
        "      <td>    U</td>\n",
        "      <td>                 Anthropology</td>\n",
        "      <td> English</td>\n",
        "      <td>       http://www.4sonline.org/syllabi/Nelson.doc#</td>\n",
        "    </tr>\n",
        "    <tr>\n",
        "      <th>33</th>\n",
        "      <td>        Pielke (1)</td>\n",
        "      <td>                  Science &amp; Technology Policy</td>\n",
        "      <td>    G</td>\n",
        "      <td> Science &amp; Technology Studies</td>\n",
        "      <td> English</td>\n",
        "      <td>      http://www.4sonline.org/syllabi/Pielke1.htm#</td>\n",
        "    </tr>\n",
        "    <tr>\n",
        "      <th>34</th>\n",
        "      <td>        Pielke (2)</td>\n",
        "      <td>                        Science &amp; Environment</td>\n",
        "      <td>    G</td>\n",
        "      <td> Science &amp; Technology Studies</td>\n",
        "      <td> English</td>\n",
        "      <td>      http://www.4sonline.org/syllabi/Pielke2.htm#</td>\n",
        "    </tr>\n",
        "    <tr>\n",
        "      <th>35</th>\n",
        "      <td>             Pinch</td>\n",
        "      <td>                                    STS Intro</td>\n",
        "      <td>    U</td>\n",
        "      <td>                    Sociology</td>\n",
        "      <td> English</td>\n",
        "      <td> http://www.4sonline.org/syllabi/TPinch05_STS.doc#</td>\n",
        "    </tr>\n",
        "    <tr>\n",
        "      <th>36</th>\n",
        "      <td>         Pinch (2)</td>\n",
        "      <td>                                STS and Music</td>\n",
        "      <td>    U</td>\n",
        "      <td>                    Sociology</td>\n",
        "      <td> English</td>\n",
        "      <td> http://www.4sonline.org/syllabi/TPinch06_STS_M...</td>\n",
        "    </tr>\n",
        "    <tr>\n",
        "      <th>37</th>\n",
        "      <td>           Pollock</td>\n",
        "      <td>                                 Intro to STS</td>\n",
        "      <td>    U</td>\n",
        "      <td>                 Anthropology</td>\n",
        "      <td> English</td>\n",
        "      <td> http://www.4sonline.org/syllabi/PollockIntroST...</td>\n",
        "    </tr>\n",
        "    <tr>\n",
        "      <th>38</th>\n",
        "      <td>              Rehg</td>\n",
        "      <td>                      Philosophy &amp; Technology</td>\n",
        "      <td>    G</td>\n",
        "      <td>                   Philosophy</td>\n",
        "      <td> English</td>\n",
        "      <td> http://www.4sonline.org/syllabi/WRehg06_Phil_T...</td>\n",
        "    </tr>\n",
        "    <tr>\n",
        "      <th>39</th>\n",
        "      <td>          Rosa (1)</td>\n",
        "      <td>                           Technology Studies</td>\n",
        "      <td>    U</td>\n",
        "      <td>                    Sociology</td>\n",
        "      <td> English</td>\n",
        "      <td>        http://www.4sonline.org/syllabi/Rosa1.doc#</td>\n",
        "    </tr>\n",
        "    <tr>\n",
        "      <th>40</th>\n",
        "      <td>          Rosa (2)</td>\n",
        "      <td>                                         Risk</td>\n",
        "      <td>    G</td>\n",
        "      <td>                    Sociology</td>\n",
        "      <td> English</td>\n",
        "      <td>        http://www.4sonline.org/syllabi/Rosa2.doc#</td>\n",
        "    </tr>\n",
        "    <tr>\n",
        "      <th>41</th>\n",
        "      <td>        Scheiderer</td>\n",
        "      <td>                                         Body</td>\n",
        "      <td>    U</td>\n",
        "      <td>      Other Interdisciplinary</td>\n",
        "      <td> English</td>\n",
        "      <td>   http://www.4sonline.org/syllabi/Scheiderer.htm#</td>\n",
        "    </tr>\n",
        "    <tr>\n",
        "      <th>42</th>\n",
        "      <td>        Sonnenfeld</td>\n",
        "      <td>                           Technology Studies</td>\n",
        "      <td>    U</td>\n",
        "      <td>                    Sociology</td>\n",
        "      <td> English</td>\n",
        "      <td> http://www.4sonline.org/syllabi/soc430/index.htm#</td>\n",
        "    </tr>\n",
        "    <tr>\n",
        "      <th>43</th>\n",
        "      <td>              Tang</td>\n",
        "      <td>                 Science &amp; Technology Studies</td>\n",
        "      <td>    U</td>\n",
        "      <td>                    Sociology</td>\n",
        "      <td> English</td>\n",
        "      <td> http://www.4sonline.org/syllabi/Tangsyllabus.doc#</td>\n",
        "    </tr>\n",
        "    <tr>\n",
        "      <th>44</th>\n",
        "      <td>        Taylor (1)</td>\n",
        "      <td>                 Science &amp; Technology Studies</td>\n",
        "      <td>    U</td>\n",
        "      <td>                 Anthropology</td>\n",
        "      <td> English</td>\n",
        "      <td>      http://www.4sonline.org/syllabi/Taylor1.doc#</td>\n",
        "    </tr>\n",
        "    <tr>\n",
        "      <th>45</th>\n",
        "      <td>        Taylor (2)</td>\n",
        "      <td>                                     Medicine</td>\n",
        "      <td>    U</td>\n",
        "      <td>                 Anthropology</td>\n",
        "      <td> English</td>\n",
        "      <td>      http://www.4sonline.org/syllabi/taylor2.doc#</td>\n",
        "    </tr>\n",
        "    <tr>\n",
        "      <th>46</th>\n",
        "      <td>        Taylor (3)</td>\n",
        "      <td>                                     Medicine</td>\n",
        "      <td>    U</td>\n",
        "      <td>                 Anthropology</td>\n",
        "      <td> English</td>\n",
        "      <td>      http://www.4sonline.org/syllabi/taylor3.doc#</td>\n",
        "    </tr>\n",
        "    <tr>\n",
        "      <th>47</th>\n",
        "      <td>          Zehr (1)</td>\n",
        "      <td>                            Science &amp; Society</td>\n",
        "      <td>    U</td>\n",
        "      <td>      Other Interdisciplinary</td>\n",
        "      <td> English</td>\n",
        "      <td>        http://www.4sonline.org/syllabi/Zehr1.doc#</td>\n",
        "    </tr>\n",
        "    <tr>\n",
        "      <th>48</th>\n",
        "      <td>          Zehr (2)</td>\n",
        "      <td>                 Sociology of the Environment</td>\n",
        "      <td>    G</td>\n",
        "      <td>                    Sociology</td>\n",
        "      <td> English</td>\n",
        "      <td>        http://www.4sonline.org/syllabi/Zehr2.doc#</td>\n",
        "    </tr>\n",
        "  </tbody>\n",
        "</table>\n",
        "</div>"
       ],
       "metadata": {},
       "output_type": "pyout",
       "prompt_number": 5,
       "text": [
        "            Professor                                         Topic Level  \\\n",
        "0             Akera1\u00a0                        Information Technology     U   \n",
        "1           .doc\u00a0.pdf                                           NaN   NaN   \n",
        "2              Akera2                  Science & Technology Studies     U   \n",
        "3           .doc\u00a0.pdf                                           NaN   NaN   \n",
        "4             Balmer1                   Science & Technology Policy     U   \n",
        "5             Balmer2                          Genetics and Society     U   \n",
        "6              Chang1                         Philosophy of Science     U   \n",
        "7              Chang2              Hist\u00a0& Phil of Physical Sciences     U   \n",
        "8          Clarke (1)                                 Gender & Race     G   \n",
        "9          Clarke (2)                                STS & Medicine     G   \n",
        "10  Clarke & Anderson                                      Medicine     G   \n",
        "11           Delborne  Science, Technology, and Medicine in Society     G   \n",
        "12                Fox                                 Gender & Race     U   \n",
        "13           Gregory1                            History of Science     U   \n",
        "14           Gregory2                         Scientific Revolution     U   \n",
        "15           Gregory3                             Magic to Sciences     U   \n",
        "16               Guay                            Technology Studies     U   \n",
        "17             Guston                   Science & Technology Policy     G   \n",
        "18        Hausman (1)                       Medicine & Anthropology     U   \n",
        "19        Hausman (2)      Anthropology of the Body and the Subject  U, G   \n",
        "20               Hess                  Science & Technology Studies     U   \n",
        "21           Hess (2)                       Science & Social Theory     U   \n",
        "22       Karvonen (1)                                Nanotechnology     U   \n",
        "23       Karvonen (2)                            Engineering Ethics     U   \n",
        "24           Klawiter                  Science & Technology Studies     G   \n",
        "25    Leydesdorff (1)                            Technology Studies     G   \n",
        "26    Leydesdorff (2)                        Sociology of Knowledge     G   \n",
        "27            Mitcham                   Science& Technology Studies     G   \n",
        "28        Monahan (1)                            Technology Studies     U   \n",
        "29        Monahan (2)                    Technology & Globalization     G   \n",
        "30        Monahan (3)                   Technology of Surveillance\u00a0     U   \n",
        "31        Monahan (4)                    Globalization & Technology     G   \n",
        "32             Nelson                           Cyborg Anthropology     U   \n",
        "33         Pielke (1)                   Science & Technology Policy     G   \n",
        "34         Pielke (2)                         Science & Environment     G   \n",
        "35              Pinch                                     STS Intro     U   \n",
        "36          Pinch (2)                                 STS and Music     U   \n",
        "37            Pollock                                  Intro to STS     U   \n",
        "38               Rehg                       Philosophy & Technology     G   \n",
        "39           Rosa (1)                            Technology Studies     U   \n",
        "40           Rosa (2)                                          Risk     G   \n",
        "41         Scheiderer                                          Body     U   \n",
        "42         Sonnenfeld                            Technology Studies     U   \n",
        "43               Tang                  Science & Technology Studies     U   \n",
        "44         Taylor (1)                  Science & Technology Studies     U   \n",
        "45         Taylor (2)                                      Medicine     U   \n",
        "46         Taylor (3)                                      Medicine     U   \n",
        "47           Zehr (1)                             Science & Society     U   \n",
        "48           Zehr (2)                  Sociology of the Environment     G   \n",
        "\n",
        "              Department/Program Language  \\\n",
        "0   Science & Technology Studies  English   \n",
        "1                            NaN      NaN   \n",
        "2   Science & Technology Studies  English   \n",
        "3                            NaN      NaN   \n",
        "4   Science & Technology Studies  English   \n",
        "5   Science & Technology Studies  English   \n",
        "6   Science & Technology Studies  English   \n",
        "7   Science & Technology Studies  English   \n",
        "8                      Sociology  English   \n",
        "9                      Sociology  English   \n",
        "10                     Sociology  English   \n",
        "11  Science & Technology Studies  English   \n",
        "12  Science & Technology Studies  English   \n",
        "13  Science & Technology Studies  English   \n",
        "14  Science & Technology Studies  English   \n",
        "15  Science & Technology Studies  English   \n",
        "16                     Sociology   French   \n",
        "17                 Public Policy  English   \n",
        "18                  Anthropology  English   \n",
        "19                  Anthropology  English   \n",
        "20  Science & Technology Studies  English   \n",
        "21  Science & Technology Studies  English   \n",
        "22  Science & Technology Studies  English   \n",
        "23  Science & Technology Studies  English   \n",
        "24  Science & Technology Studies  English   \n",
        "25  Science & Technology Studies  English   \n",
        "26  Science & Technology Studies  English   \n",
        "27   Science& Technology Studies  English   \n",
        "28               Justice Studies  English   \n",
        "29               Justice Studies  English   \n",
        "30               Justice Studies  English   \n",
        "31               Justice Studies  English   \n",
        "32                  Anthropology  English   \n",
        "33  Science & Technology Studies  English   \n",
        "34  Science & Technology Studies  English   \n",
        "35                     Sociology  English   \n",
        "36                     Sociology  English   \n",
        "37                  Anthropology  English   \n",
        "38                    Philosophy  English   \n",
        "39                     Sociology  English   \n",
        "40                     Sociology  English   \n",
        "41       Other Interdisciplinary  English   \n",
        "42                     Sociology  English   \n",
        "43                     Sociology  English   \n",
        "44                  Anthropology  English   \n",
        "45                  Anthropology  English   \n",
        "46                  Anthropology  English   \n",
        "47       Other Interdisciplinary  English   \n",
        "48                     Sociology  English   \n",
        "\n",
        "                                                  url  \n",
        "0                                                 NaN  \n",
        "1                                                 NaN  \n",
        "2                                                 NaN  \n",
        "3                                                 NaN  \n",
        "4        http://www.4sonline.org/syllabi/Balmer1.doc#  \n",
        "5         http://www.4sonline.org/syllabi/Balmer.doc#  \n",
        "6         http://www.4sonline.org/syllabi/chang1.doc#  \n",
        "7                                                 NaN  \n",
        "8        http://www.4sonline.org/syllabi/Clarke1.doc#  \n",
        "9   http://www.4sonline.org/syllabi/AClarke_07_STS...  \n",
        "10       http://www.4sonline.org/syllabi/Clarke2.doc#  \n",
        "11   http://www.4sonline.org/syllabi/Delborne901.pdf#  \n",
        "12  http://www.4sonline.org/syllabi/Fox--syllabus....  \n",
        "13      http://www.4sonline.org/syllabi/Gregory1.doc#  \n",
        "14                                                NaN  \n",
        "15                                                NaN  \n",
        "16          http://www.4sonline.org/syllabi/Guay.doc#  \n",
        "17        http://www.4sonline.org/syllabi/Guston.dot#  \n",
        "18      http://www.4sonline.org/syllabi/Hausman1.htm#  \n",
        "19      http://www.4sonline.org/syllabi/Hausman2.htm#  \n",
        "20          http://www.4sonline.org/syllabi/Hess.doc#  \n",
        "21  http://www.4sonline.org/syllabi/HessGradSTS201...  \n",
        "22     http://www.4sonline.org/syllabi/Karvonen1.pdf#  \n",
        "23     http://www.4sonline.org/syllabi/Karvonen2.pdf#  \n",
        "24      http://www.4sonline.org/syllabi/klawiter.doc#  \n",
        "25  http://www.4sonline.org/syllabi/Leydesdorff1.htm#  \n",
        "26  http://www.4sonline.org/syllabi/Leydesdorff2.htm#  \n",
        "27       http://www.4sonline.org/syllabi/Mitcham.htm#  \n",
        "28       http://www.4sonline.org/syllabi/Monahan.htm#  \n",
        "29       http://www.4sonline.org/syllabi/Monahan.htm#  \n",
        "30      http://www.4sonline.org/syllabi/Monahan3.pdf#  \n",
        "31      http://www.4sonline.org/syllabi/Monahan4.pdf#  \n",
        "32        http://www.4sonline.org/syllabi/Nelson.doc#  \n",
        "33       http://www.4sonline.org/syllabi/Pielke1.htm#  \n",
        "34       http://www.4sonline.org/syllabi/Pielke2.htm#  \n",
        "35  http://www.4sonline.org/syllabi/TPinch05_STS.doc#  \n",
        "36  http://www.4sonline.org/syllabi/TPinch06_STS_M...  \n",
        "37  http://www.4sonline.org/syllabi/PollockIntroST...  \n",
        "38  http://www.4sonline.org/syllabi/WRehg06_Phil_T...  \n",
        "39         http://www.4sonline.org/syllabi/Rosa1.doc#  \n",
        "40         http://www.4sonline.org/syllabi/Rosa2.doc#  \n",
        "41    http://www.4sonline.org/syllabi/Scheiderer.htm#  \n",
        "42  http://www.4sonline.org/syllabi/soc430/index.htm#  \n",
        "43  http://www.4sonline.org/syllabi/Tangsyllabus.doc#  \n",
        "44       http://www.4sonline.org/syllabi/Taylor1.doc#  \n",
        "45       http://www.4sonline.org/syllabi/taylor2.doc#  \n",
        "46       http://www.4sonline.org/syllabi/taylor3.doc#  \n",
        "47         http://www.4sonline.org/syllabi/Zehr1.doc#  \n",
        "48         http://www.4sonline.org/syllabi/Zehr2.doc#  "
       ]
      }
     ],
     "prompt_number": 5
    },
    {
     "cell_type": "code",
     "collapsed": false,
     "input": [
      "#system pip install mechanize\n",
      "#system pip install python-docx\n",
      "import mechanize\n",
      "import docx\n",
      "\n",
      "br = mechanize.Browser()\n",
      "haha = br.open('http://www.4sonline.org/syllabi/Balmer1.doc')\n",
      "document = docx.Document(haha.content)\n",
      "#document.paragraphs"
     ],
     "language": "python",
     "metadata": {},
     "outputs": [
      {
       "ename": "AttributeError",
       "evalue": "closeable_response instance has no attribute 'content'",
       "output_type": "pyerr",
       "traceback": [
        "\u001b[1;31m---------------------------------------------------------------------------\u001b[0m\n\u001b[1;31mAttributeError\u001b[0m                            Traceback (most recent call last)",
        "\u001b[1;32m<ipython-input-12-1c3e6f98b7a0>\u001b[0m in \u001b[0;36m<module>\u001b[1;34m()\u001b[0m\n\u001b[0;32m      6\u001b[0m \u001b[0mbr\u001b[0m \u001b[1;33m=\u001b[0m \u001b[0mmechanize\u001b[0m\u001b[1;33m.\u001b[0m\u001b[0mBrowser\u001b[0m\u001b[1;33m(\u001b[0m\u001b[1;33m)\u001b[0m\u001b[1;33m\u001b[0m\u001b[0m\n\u001b[0;32m      7\u001b[0m \u001b[0mhaha\u001b[0m \u001b[1;33m=\u001b[0m \u001b[0mbr\u001b[0m\u001b[1;33m.\u001b[0m\u001b[0mopen\u001b[0m\u001b[1;33m(\u001b[0m\u001b[1;34m'http://www.4sonline.org/syllabi/Balmer1.doc'\u001b[0m\u001b[1;33m)\u001b[0m\u001b[1;33m\u001b[0m\u001b[0m\n\u001b[1;32m----> 8\u001b[1;33m \u001b[0mdocument\u001b[0m \u001b[1;33m=\u001b[0m \u001b[0mdocx\u001b[0m\u001b[1;33m.\u001b[0m\u001b[0mDocument\u001b[0m\u001b[1;33m(\u001b[0m\u001b[0mhaha\u001b[0m\u001b[1;33m.\u001b[0m\u001b[0mcontent\u001b[0m\u001b[1;33m)\u001b[0m\u001b[1;33m\u001b[0m\u001b[0m\n\u001b[0m\u001b[0;32m      9\u001b[0m \u001b[1;31m#document.paragraphs\u001b[0m\u001b[1;33m\u001b[0m\u001b[1;33m\u001b[0m\u001b[0m\n",
        "\u001b[1;32mC:\\c\\envs\\p2\\lib\\site-packages\\mechanize\\_response.pyc\u001b[0m in \u001b[0;36m__getattr__\u001b[1;34m(self, name)\u001b[0m\n\u001b[0;32m     97\u001b[0m         \u001b[0mwrapped\u001b[0m \u001b[1;33m=\u001b[0m \u001b[0mself\u001b[0m\u001b[1;33m.\u001b[0m\u001b[0m__dict__\u001b[0m\u001b[1;33m.\u001b[0m\u001b[0mget\u001b[0m\u001b[1;33m(\u001b[0m\u001b[1;34m\"wrapped\"\u001b[0m\u001b[1;33m)\u001b[0m\u001b[1;33m\u001b[0m\u001b[0m\n\u001b[0;32m     98\u001b[0m         \u001b[1;32mif\u001b[0m \u001b[0mwrapped\u001b[0m\u001b[1;33m:\u001b[0m\u001b[1;33m\u001b[0m\u001b[0m\n\u001b[1;32m---> 99\u001b[1;33m             \u001b[1;32mreturn\u001b[0m \u001b[0mgetattr\u001b[0m\u001b[1;33m(\u001b[0m\u001b[0mwrapped\u001b[0m\u001b[1;33m,\u001b[0m \u001b[0mname\u001b[0m\u001b[1;33m)\u001b[0m\u001b[1;33m\u001b[0m\u001b[0m\n\u001b[0m\u001b[0;32m    100\u001b[0m \u001b[1;33m\u001b[0m\u001b[0m\n\u001b[0;32m    101\u001b[0m         \u001b[1;32mreturn\u001b[0m \u001b[0mgetattr\u001b[0m\u001b[1;33m(\u001b[0m\u001b[0mself\u001b[0m\u001b[1;33m.\u001b[0m\u001b[0m__class__\u001b[0m\u001b[1;33m,\u001b[0m \u001b[0mname\u001b[0m\u001b[1;33m)\u001b[0m\u001b[1;33m\u001b[0m\u001b[0m\n",
        "\u001b[1;31mAttributeError\u001b[0m: closeable_response instance has no attribute 'content'"
       ]
      }
     ],
     "prompt_number": 12
    },
    {
     "cell_type": "markdown",
     "metadata": {},
     "source": [
      "Delarative"
     ]
    },
    {
     "cell_type": "code",
     "collapsed": false,
     "input": [
      "#sqlalchemy\n",
      "from sqlalchemy import *\n",
      "from sqlalchemy import create_engine, Table, Column, Integer, String, ForeignKey\n",
      "from sqlalchemy.orm import relationship, backref\n",
      "from sqlalchemy.ext.declarative import declarative_base\n",
      "from sqlalchemy.engine.url import URL\n",
      "\n",
      "DeclarativeBase = declarative_base()\n",
      "\n",
      "engine = create_engine('sqlite:///:memory:', echo=True)\n",
      "\n",
      "#metadata = MetaData()\n",
      "\n",
      "class Disciplines(DeclarativeBase):\n",
      "    \"\"\"Disciplines\"\"\"\n",
      "    __tablename__ = \"disciplines\"\n",
      "\n",
      "    id = Column(Integer, primary_key=True)\n",
      "    name = Column('name', String)\n",
      "    description = Column('description', String, nullable=True)\n",
      "    link = Column('link', String, nullable=True)\n",
      "#    subdisciplines = relationship('subdisciplines', backref=\"disciplines\")\n",
      "#    classifications = relationship('classifications', backref=\"disciplines\")\n",
      "    \n",
      "class Classifications(DeclarativeBase):\n",
      "    \"\"\"Classifications\"\"\"\n",
      "    __tablename__ = \"classifications\"\n",
      "\n",
      "    id = Column(Integer, primary_key=True)\n",
      "    name = Column('name', String)\n",
      "    description = Column('description', String, nullable=True)\n",
      "    link = Column('link', String, nullable=True)\n",
      "#    author = relationship('persons', backref=\"classifications\")\n",
      "\n",
      "class Learned_societies(DeclarativeBase):\n",
      "    \"\"\"Learned_societies\"\"\"\n",
      "    __tablename__ = \"learned societies\"\n",
      "\n",
      "    id = Column(Integer, primary_key=True)\n",
      "    name = Column('name', String)\n",
      "    description = Column('description', String, nullable=True)\n",
      "    link = Column('link', String, nullable=True)\n",
      "#    members = relationship('persons', ForeignKey('learned_societies'))\n",
      "\n",
      "class Persons(DeclarativeBase):\n",
      "    \"\"\"Persons\"\"\"\n",
      "    __tablename__ = \"persons\"\n",
      "\n",
      "    id = Column(Integer, primary_key=True)\n",
      "    name = Column('name', String)\n",
      "    first_name = Column('first_name', String)\n",
      "    last_name = Column('last_name', String)\n",
      "    link = Column('link', String, nullable=True)\n",
      "#    learned_societies = relationship('persons', ForeignKey('persons.id'))\n",
      "    \n",
      "class Concepts(DeclarativeBase):\n",
      "    \"\"\"Concepts\"\"\"\n",
      "    __tablename__ = \"concepts\"\n",
      "\n",
      "    id = Column(Integer, primary_key=True)\n",
      "    name = Column('name', String)\n",
      "    definition = Column('definition', String, nullable=True)\n",
      "    link = Column('link', String, nullable=True)\n",
      "#    definition = relationship('definitions', backref=\"parent\")\n",
      "    \n",
      "class Definitions(DeclarativeBase):\n",
      "    \"\"\"Definitions\"\"\"\n",
      "    __tablename__ = \"definitions\"\n",
      "\n",
      "    id = Column(Integer, primary_key=True)\n",
      "    name = Column('name', String)\n",
      "\n",
      "class Publications(DeclarativeBase):\n",
      "    \"\"\"Publications\"\"\"\n",
      "    __tablename__ = \"publications\"\n",
      "\n",
      "    id = Column(Integer, primary_key=True)\n",
      "    title = Column('title', String)\n",
      "    description = Column('description', String, nullable=True)\n",
      "    link = Column('link', String, nullable=True)\n",
      "    original_price = Column('original_price', String, nullable=True)\n",
      "    price = Column('price', String, nullable=True)\n",
      "    \n",
      "DeclarativeBase.metadata.create_all(engine)"
     ],
     "language": "python",
     "metadata": {},
     "outputs": [
      {
       "output_type": "stream",
       "stream": "stdout",
       "text": [
        "2014-09-03 14:44:09,887 INFO sqlalchemy.engine.base.Engine SELECT CAST('test plain returns' AS VARCHAR(60)) AS anon_1\n"
       ]
      },
      {
       "output_type": "stream",
       "stream": "stderr",
       "text": [
        "INFO:sqlalchemy.engine.base.Engine:SELECT CAST('test plain returns' AS VARCHAR(60)) AS anon_1\n"
       ]
      },
      {
       "output_type": "stream",
       "stream": "stdout",
       "text": [
        "2014-09-03 14:44:09,888 INFO sqlalchemy.engine.base.Engine ()\n"
       ]
      },
      {
       "output_type": "stream",
       "stream": "stderr",
       "text": [
        "INFO:sqlalchemy.engine.base.Engine:()\n"
       ]
      },
      {
       "output_type": "stream",
       "stream": "stdout",
       "text": [
        "2014-09-03 14:44:09,891 INFO sqlalchemy.engine.base.Engine SELECT CAST('test unicode returns' AS VARCHAR(60)) AS anon_1\n"
       ]
      },
      {
       "output_type": "stream",
       "stream": "stderr",
       "text": [
        "INFO:sqlalchemy.engine.base.Engine:SELECT CAST('test unicode returns' AS VARCHAR(60)) AS anon_1\n"
       ]
      },
      {
       "output_type": "stream",
       "stream": "stdout",
       "text": [
        "2014-09-03 14:44:09,891 INFO sqlalchemy.engine.base.Engine ()\n"
       ]
      },
      {
       "output_type": "stream",
       "stream": "stderr",
       "text": [
        "INFO:sqlalchemy.engine.base.Engine:()\n"
       ]
      },
      {
       "output_type": "stream",
       "stream": "stdout",
       "text": [
        "2014-09-03 14:44:09,895 INFO sqlalchemy.engine.base.Engine PRAGMA table_info(\"concepts\")\n"
       ]
      },
      {
       "output_type": "stream",
       "stream": "stderr",
       "text": [
        "INFO:sqlalchemy.engine.base.Engine:PRAGMA table_info(\"concepts\")\n"
       ]
      },
      {
       "output_type": "stream",
       "stream": "stdout",
       "text": [
        "2014-09-03 14:44:09,897 INFO sqlalchemy.engine.base.Engine ()\n"
       ]
      },
      {
       "output_type": "stream",
       "stream": "stderr",
       "text": [
        "INFO:sqlalchemy.engine.base.Engine:()\n"
       ]
      },
      {
       "output_type": "stream",
       "stream": "stdout",
       "text": [
        "2014-09-03 14:44:09,898 INFO sqlalchemy.engine.base.Engine PRAGMA table_info(\"learned societies\")\n"
       ]
      },
      {
       "output_type": "stream",
       "stream": "stderr",
       "text": [
        "INFO:sqlalchemy.engine.base.Engine:PRAGMA table_info(\"learned societies\")\n"
       ]
      },
      {
       "output_type": "stream",
       "stream": "stdout",
       "text": [
        "2014-09-03 14:44:09,900 INFO sqlalchemy.engine.base.Engine ()\n"
       ]
      },
      {
       "output_type": "stream",
       "stream": "stderr",
       "text": [
        "INFO:sqlalchemy.engine.base.Engine:()\n"
       ]
      },
      {
       "output_type": "stream",
       "stream": "stdout",
       "text": [
        "2014-09-03 14:44:09,901 INFO sqlalchemy.engine.base.Engine PRAGMA table_info(\"disciplines\")\n"
       ]
      },
      {
       "output_type": "stream",
       "stream": "stderr",
       "text": [
        "INFO:sqlalchemy.engine.base.Engine:PRAGMA table_info(\"disciplines\")\n"
       ]
      },
      {
       "output_type": "stream",
       "stream": "stdout",
       "text": [
        "2014-09-03 14:44:09,901 INFO sqlalchemy.engine.base.Engine ()\n"
       ]
      },
      {
       "output_type": "stream",
       "stream": "stderr",
       "text": [
        "INFO:sqlalchemy.engine.base.Engine:()\n"
       ]
      },
      {
       "output_type": "stream",
       "stream": "stdout",
       "text": [
        "2014-09-03 14:44:09,904 INFO sqlalchemy.engine.base.Engine PRAGMA table_info(\"persons\")\n"
       ]
      },
      {
       "output_type": "stream",
       "stream": "stderr",
       "text": [
        "INFO:sqlalchemy.engine.base.Engine:PRAGMA table_info(\"persons\")\n"
       ]
      },
      {
       "output_type": "stream",
       "stream": "stdout",
       "text": [
        "2014-09-03 14:44:09,907 INFO sqlalchemy.engine.base.Engine ()\n"
       ]
      },
      {
       "output_type": "stream",
       "stream": "stderr",
       "text": [
        "INFO:sqlalchemy.engine.base.Engine:()\n"
       ]
      },
      {
       "output_type": "stream",
       "stream": "stdout",
       "text": [
        "2014-09-03 14:44:09,907 INFO sqlalchemy.engine.base.Engine PRAGMA table_info(\"publications\")\n"
       ]
      },
      {
       "output_type": "stream",
       "stream": "stderr",
       "text": [
        "INFO:sqlalchemy.engine.base.Engine:PRAGMA table_info(\"publications\")\n"
       ]
      },
      {
       "output_type": "stream",
       "stream": "stdout",
       "text": [
        "2014-09-03 14:44:09,908 INFO sqlalchemy.engine.base.Engine ()\n"
       ]
      },
      {
       "output_type": "stream",
       "stream": "stderr",
       "text": [
        "INFO:sqlalchemy.engine.base.Engine:()\n"
       ]
      },
      {
       "output_type": "stream",
       "stream": "stdout",
       "text": [
        "2014-09-03 14:44:09,911 INFO sqlalchemy.engine.base.Engine PRAGMA table_info(\"classifications\")\n"
       ]
      },
      {
       "output_type": "stream",
       "stream": "stderr",
       "text": [
        "INFO:sqlalchemy.engine.base.Engine:PRAGMA table_info(\"classifications\")\n"
       ]
      },
      {
       "output_type": "stream",
       "stream": "stdout",
       "text": [
        "2014-09-03 14:44:09,911 INFO sqlalchemy.engine.base.Engine ()\n"
       ]
      },
      {
       "output_type": "stream",
       "stream": "stderr",
       "text": [
        "INFO:sqlalchemy.engine.base.Engine:()\n"
       ]
      },
      {
       "output_type": "stream",
       "stream": "stdout",
       "text": [
        "2014-09-03 14:44:09,914 INFO sqlalchemy.engine.base.Engine PRAGMA table_info(\"definitions\")\n"
       ]
      },
      {
       "output_type": "stream",
       "stream": "stderr",
       "text": [
        "INFO:sqlalchemy.engine.base.Engine:PRAGMA table_info(\"definitions\")\n"
       ]
      },
      {
       "output_type": "stream",
       "stream": "stdout",
       "text": [
        "2014-09-03 14:44:09,914 INFO sqlalchemy.engine.base.Engine ()\n"
       ]
      },
      {
       "output_type": "stream",
       "stream": "stderr",
       "text": [
        "INFO:sqlalchemy.engine.base.Engine:()\n"
       ]
      },
      {
       "output_type": "stream",
       "stream": "stdout",
       "text": [
        "2014-09-03 14:44:09,917 INFO sqlalchemy.engine.base.Engine \n",
        "CREATE TABLE concepts (\n",
        "\tid INTEGER NOT NULL, \n",
        "\tname VARCHAR, \n",
        "\tdefinition VARCHAR, \n",
        "\tlink VARCHAR, \n",
        "\tPRIMARY KEY (id)\n",
        ")\n",
        "\n",
        "\n"
       ]
      },
      {
       "output_type": "stream",
       "stream": "stderr",
       "text": [
        "INFO:sqlalchemy.engine.base.Engine:\n",
        "CREATE TABLE concepts (\n",
        "\tid INTEGER NOT NULL, \n",
        "\tname VARCHAR, \n",
        "\tdefinition VARCHAR, \n",
        "\tlink VARCHAR, \n",
        "\tPRIMARY KEY (id)\n",
        ")\n",
        "\n",
        "\n"
       ]
      },
      {
       "output_type": "stream",
       "stream": "stdout",
       "text": [
        "2014-09-03 14:44:09,918 INFO sqlalchemy.engine.base.Engine ()\n"
       ]
      },
      {
       "output_type": "stream",
       "stream": "stderr",
       "text": [
        "INFO:sqlalchemy.engine.base.Engine:()\n"
       ]
      },
      {
       "output_type": "stream",
       "stream": "stdout",
       "text": [
        "2014-09-03 14:44:09,921 INFO sqlalchemy.engine.base.Engine COMMIT\n"
       ]
      },
      {
       "output_type": "stream",
       "stream": "stderr",
       "text": [
        "INFO:sqlalchemy.engine.base.Engine:COMMIT\n"
       ]
      },
      {
       "output_type": "stream",
       "stream": "stdout",
       "text": [
        "2014-09-03 14:44:09,926 INFO sqlalchemy.engine.base.Engine \n",
        "CREATE TABLE \"learned societies\" (\n",
        "\tid INTEGER NOT NULL, \n",
        "\tname VARCHAR, \n",
        "\tdescription VARCHAR, \n",
        "\tlink VARCHAR, \n",
        "\tPRIMARY KEY (id)\n",
        ")\n",
        "\n",
        "\n"
       ]
      },
      {
       "output_type": "stream",
       "stream": "stderr",
       "text": [
        "INFO:sqlalchemy.engine.base.Engine:\n",
        "CREATE TABLE \"learned societies\" (\n",
        "\tid INTEGER NOT NULL, \n",
        "\tname VARCHAR, \n",
        "\tdescription VARCHAR, \n",
        "\tlink VARCHAR, \n",
        "\tPRIMARY KEY (id)\n",
        ")\n",
        "\n",
        "\n"
       ]
      },
      {
       "output_type": "stream",
       "stream": "stdout",
       "text": [
        "2014-09-03 14:44:09,927 INFO sqlalchemy.engine.base.Engine ()\n"
       ]
      },
      {
       "output_type": "stream",
       "stream": "stderr",
       "text": [
        "INFO:sqlalchemy.engine.base.Engine:()\n"
       ]
      },
      {
       "output_type": "stream",
       "stream": "stdout",
       "text": [
        "2014-09-03 14:44:09,930 INFO sqlalchemy.engine.base.Engine COMMIT\n"
       ]
      },
      {
       "output_type": "stream",
       "stream": "stderr",
       "text": [
        "INFO:sqlalchemy.engine.base.Engine:COMMIT\n"
       ]
      },
      {
       "output_type": "stream",
       "stream": "stdout",
       "text": [
        "2014-09-03 14:44:09,931 INFO sqlalchemy.engine.base.Engine \n",
        "CREATE TABLE disciplines (\n",
        "\tid INTEGER NOT NULL, \n",
        "\tname VARCHAR, \n",
        "\tdescription VARCHAR, \n",
        "\tlink VARCHAR, \n",
        "\tPRIMARY KEY (id)\n",
        ")\n",
        "\n",
        "\n"
       ]
      },
      {
       "output_type": "stream",
       "stream": "stderr",
       "text": [
        "INFO:sqlalchemy.engine.base.Engine:\n",
        "CREATE TABLE disciplines (\n",
        "\tid INTEGER NOT NULL, \n",
        "\tname VARCHAR, \n",
        "\tdescription VARCHAR, \n",
        "\tlink VARCHAR, \n",
        "\tPRIMARY KEY (id)\n",
        ")\n",
        "\n",
        "\n"
       ]
      },
      {
       "output_type": "stream",
       "stream": "stdout",
       "text": [
        "2014-09-03 14:44:09,934 INFO sqlalchemy.engine.base.Engine ()\n"
       ]
      },
      {
       "output_type": "stream",
       "stream": "stderr",
       "text": [
        "INFO:sqlalchemy.engine.base.Engine:()\n"
       ]
      },
      {
       "output_type": "stream",
       "stream": "stdout",
       "text": [
        "2014-09-03 14:44:09,936 INFO sqlalchemy.engine.base.Engine COMMIT\n"
       ]
      },
      {
       "output_type": "stream",
       "stream": "stderr",
       "text": [
        "INFO:sqlalchemy.engine.base.Engine:COMMIT\n"
       ]
      },
      {
       "output_type": "stream",
       "stream": "stdout",
       "text": [
        "2014-09-03 14:44:09,937 INFO sqlalchemy.engine.base.Engine \n",
        "CREATE TABLE persons (\n",
        "\tid INTEGER NOT NULL, \n",
        "\tname VARCHAR, \n",
        "\tfirst_name VARCHAR, \n",
        "\tlast_name VARCHAR, \n",
        "\tlink VARCHAR, \n",
        "\tPRIMARY KEY (id)\n",
        ")\n",
        "\n",
        "\n"
       ]
      },
      {
       "output_type": "stream",
       "stream": "stderr",
       "text": [
        "INFO:sqlalchemy.engine.base.Engine:\n",
        "CREATE TABLE persons (\n",
        "\tid INTEGER NOT NULL, \n",
        "\tname VARCHAR, \n",
        "\tfirst_name VARCHAR, \n",
        "\tlast_name VARCHAR, \n",
        "\tlink VARCHAR, \n",
        "\tPRIMARY KEY (id)\n",
        ")\n",
        "\n",
        "\n"
       ]
      },
      {
       "output_type": "stream",
       "stream": "stdout",
       "text": [
        "2014-09-03 14:44:09,938 INFO sqlalchemy.engine.base.Engine ()\n"
       ]
      },
      {
       "output_type": "stream",
       "stream": "stderr",
       "text": [
        "INFO:sqlalchemy.engine.base.Engine:()\n"
       ]
      },
      {
       "output_type": "stream",
       "stream": "stdout",
       "text": [
        "2014-09-03 14:44:09,940 INFO sqlalchemy.engine.base.Engine COMMIT\n"
       ]
      },
      {
       "output_type": "stream",
       "stream": "stderr",
       "text": [
        "INFO:sqlalchemy.engine.base.Engine:COMMIT\n"
       ]
      },
      {
       "output_type": "stream",
       "stream": "stdout",
       "text": [
        "2014-09-03 14:44:09,941 INFO sqlalchemy.engine.base.Engine \n",
        "CREATE TABLE publications (\n",
        "\tid INTEGER NOT NULL, \n",
        "\ttitle VARCHAR, \n",
        "\tdescription VARCHAR, \n",
        "\tlink VARCHAR, \n",
        "\toriginal_price VARCHAR, \n",
        "\tprice VARCHAR, \n",
        "\tPRIMARY KEY (id)\n",
        ")\n",
        "\n",
        "\n"
       ]
      },
      {
       "output_type": "stream",
       "stream": "stderr",
       "text": [
        "INFO:sqlalchemy.engine.base.Engine:\n",
        "CREATE TABLE publications (\n",
        "\tid INTEGER NOT NULL, \n",
        "\ttitle VARCHAR, \n",
        "\tdescription VARCHAR, \n",
        "\tlink VARCHAR, \n",
        "\toriginal_price VARCHAR, \n",
        "\tprice VARCHAR, \n",
        "\tPRIMARY KEY (id)\n",
        ")\n",
        "\n",
        "\n"
       ]
      },
      {
       "output_type": "stream",
       "stream": "stdout",
       "text": [
        "2014-09-03 14:44:09,944 INFO sqlalchemy.engine.base.Engine ()\n"
       ]
      },
      {
       "output_type": "stream",
       "stream": "stderr",
       "text": [
        "INFO:sqlalchemy.engine.base.Engine:()\n"
       ]
      },
      {
       "output_type": "stream",
       "stream": "stdout",
       "text": [
        "2014-09-03 14:44:09,946 INFO sqlalchemy.engine.base.Engine COMMIT\n"
       ]
      },
      {
       "output_type": "stream",
       "stream": "stderr",
       "text": [
        "INFO:sqlalchemy.engine.base.Engine:COMMIT\n"
       ]
      },
      {
       "output_type": "stream",
       "stream": "stdout",
       "text": [
        "2014-09-03 14:44:09,947 INFO sqlalchemy.engine.base.Engine \n",
        "CREATE TABLE classifications (\n",
        "\tid INTEGER NOT NULL, \n",
        "\tname VARCHAR, \n",
        "\tdescription VARCHAR, \n",
        "\tlink VARCHAR, \n",
        "\tPRIMARY KEY (id)\n",
        ")\n",
        "\n",
        "\n"
       ]
      },
      {
       "output_type": "stream",
       "stream": "stderr",
       "text": [
        "INFO:sqlalchemy.engine.base.Engine:\n",
        "CREATE TABLE classifications (\n",
        "\tid INTEGER NOT NULL, \n",
        "\tname VARCHAR, \n",
        "\tdescription VARCHAR, \n",
        "\tlink VARCHAR, \n",
        "\tPRIMARY KEY (id)\n",
        ")\n",
        "\n",
        "\n"
       ]
      },
      {
       "output_type": "stream",
       "stream": "stdout",
       "text": [
        "2014-09-03 14:44:09,950 INFO sqlalchemy.engine.base.Engine ()\n"
       ]
      },
      {
       "output_type": "stream",
       "stream": "stderr",
       "text": [
        "INFO:sqlalchemy.engine.base.Engine:()\n"
       ]
      },
      {
       "output_type": "stream",
       "stream": "stdout",
       "text": [
        "2014-09-03 14:44:09,950 INFO sqlalchemy.engine.base.Engine COMMIT\n"
       ]
      },
      {
       "output_type": "stream",
       "stream": "stderr",
       "text": [
        "INFO:sqlalchemy.engine.base.Engine:COMMIT\n"
       ]
      },
      {
       "output_type": "stream",
       "stream": "stdout",
       "text": [
        "2014-09-03 14:44:09,954 INFO sqlalchemy.engine.base.Engine \n",
        "CREATE TABLE definitions (\n",
        "\tid INTEGER NOT NULL, \n",
        "\tname VARCHAR, \n",
        "\tPRIMARY KEY (id)\n",
        ")\n",
        "\n",
        "\n"
       ]
      },
      {
       "output_type": "stream",
       "stream": "stderr",
       "text": [
        "INFO:sqlalchemy.engine.base.Engine:\n",
        "CREATE TABLE definitions (\n",
        "\tid INTEGER NOT NULL, \n",
        "\tname VARCHAR, \n",
        "\tPRIMARY KEY (id)\n",
        ")\n",
        "\n",
        "\n"
       ]
      },
      {
       "output_type": "stream",
       "stream": "stdout",
       "text": [
        "2014-09-03 14:44:09,957 INFO sqlalchemy.engine.base.Engine ()\n"
       ]
      },
      {
       "output_type": "stream",
       "stream": "stderr",
       "text": [
        "INFO:sqlalchemy.engine.base.Engine:()\n"
       ]
      },
      {
       "output_type": "stream",
       "stream": "stdout",
       "text": [
        "2014-09-03 14:44:09,957 INFO sqlalchemy.engine.base.Engine COMMIT\n"
       ]
      },
      {
       "output_type": "stream",
       "stream": "stderr",
       "text": [
        "INFO:sqlalchemy.engine.base.Engine:COMMIT\n"
       ]
      }
     ],
     "prompt_number": 1
    },
    {
     "cell_type": "code",
     "collapsed": false,
     "input": [
      "from sqlalchemy.orm import sessionmaker\n",
      "Session = sessionmaker(bind=engine)\n",
      "session = Session()\n",
      "\n",
      "\n",
      "tables = [Disciplines, Persons, Definitions, Publications, Learned_societies]\n",
      "for x in tables:\n",
      "    q = session.query(x)\n",
      "    print q.column_descriptions"
     ],
     "language": "python",
     "metadata": {},
     "outputs": [
      {
       "output_type": "stream",
       "stream": "stdout",
       "text": [
        "[{'aliased': False, 'expr': <class '__main__.Disciplines'>, 'type': <class '__main__.Disciplines'>, 'name': 'Disciplines'}]\n",
        "[{'aliased': False, 'expr': <class '__main__.Persons'>, 'type': <class '__main__.Persons'>, 'name': 'Persons'}]\n",
        "[{'aliased': False, 'expr': <class '__main__.Definitions'>, 'type': <class '__main__.Definitions'>, 'name': 'Definitions'}]\n",
        "[{'aliased': False, 'expr': <class '__main__.Publications'>, 'type': <class '__main__.Publications'>, 'name': 'Publications'}]\n",
        "[{'aliased': False, 'expr': <class '__main__.Learned_societies'>, 'type': <class '__main__.Learned_societies'>, 'name': 'Learned_societies'}]\n"
       ]
      }
     ],
     "prompt_number": 4
    },
    {
     "cell_type": "code",
     "collapsed": false,
     "input": [
      "\n",
      "\n"
     ],
     "language": "python",
     "metadata": {},
     "outputs": [
      {
       "output_type": "stream",
       "stream": "stdout",
       "text": [
        "2014-09-03 14:00:50,526 INFO sqlalchemy.engine.base.Engine BEGIN (implicit)\n"
       ]
      },
      {
       "output_type": "stream",
       "stream": "stderr",
       "text": [
        "INFO:sqlalchemy.engine.base.Engine:BEGIN (implicit)\n"
       ]
      },
      {
       "output_type": "stream",
       "stream": "stdout",
       "text": [
        "2014-09-03 14:00:50,529 INFO sqlalchemy.engine.base.Engine INSERT INTO disciplines (name, description, link, original_price, price) VALUES (?, ?, ?, ?, ?)\n"
       ]
      },
      {
       "output_type": "stream",
       "stream": "stderr",
       "text": [
        "INFO:sqlalchemy.engine.base.Engine:INSERT INTO disciplines (name, description, link, original_price, price) VALUES (?, ?, ?, ?, ?)\n"
       ]
      },
      {
       "output_type": "stream",
       "stream": "stdout",
       "text": [
        "2014-09-03 14:00:50,530 INFO sqlalchemy.engine.base.Engine ('user1', None, None, None, None)\n"
       ]
      },
      {
       "output_type": "stream",
       "stream": "stderr",
       "text": [
        "INFO:sqlalchemy.engine.base.Engine:('user1', None, None, None, None)\n"
       ]
      },
      {
       "output_type": "stream",
       "stream": "stdout",
       "text": [
        "2014-09-03 14:00:50,532 INFO sqlalchemy.engine.base.Engine INSERT INTO disciplines (name, description, link, original_price, price) VALUES (?, ?, ?, ?, ?)\n"
       ]
      },
      {
       "output_type": "stream",
       "stream": "stderr",
       "text": [
        "INFO:sqlalchemy.engine.base.Engine:INSERT INTO disciplines (name, description, link, original_price, price) VALUES (?, ?, ?, ?, ?)\n"
       ]
      },
      {
       "output_type": "stream",
       "stream": "stdout",
       "text": [
        "2014-09-03 14:00:50,533 INFO sqlalchemy.engine.base.Engine ('user2', None, None, None, None)\n"
       ]
      },
      {
       "output_type": "stream",
       "stream": "stderr",
       "text": [
        "INFO:sqlalchemy.engine.base.Engine:('user2', None, None, None, None)\n"
       ]
      },
      {
       "output_type": "stream",
       "stream": "stdout",
       "text": [
        "2014-09-03 14:00:50,536 INFO sqlalchemy.engine.base.Engine COMMIT\n"
       ]
      },
      {
       "output_type": "stream",
       "stream": "stderr",
       "text": [
        "INFO:sqlalchemy.engine.base.Engine:COMMIT\n"
       ]
      }
     ],
     "prompt_number": 16
    },
    {
     "cell_type": "code",
     "collapsed": false,
     "input": [
      "discipline = Disciplines(name='philosophy', description='The description')\n",
      "discipline1 = Disciplines(name='sociology')\n",
      "session.add(discipline)\n",
      "session.add(discipline1)\n",
      "session.commit()\n",
      "\n",
      "session.add_all([Disciplines(name='physics', description='The description')])\n",
      "session.commit()\n"
     ],
     "language": "python",
     "metadata": {},
     "outputs": [
      {
       "output_type": "stream",
       "stream": "stdout",
       "text": [
        "2014-09-03 14:59:48,651 INFO sqlalchemy.engine.base.Engine BEGIN (implicit)\n"
       ]
      },
      {
       "output_type": "stream",
       "stream": "stderr",
       "text": [
        "INFO:sqlalchemy.engine.base.Engine:BEGIN (implicit)\n"
       ]
      },
      {
       "output_type": "stream",
       "stream": "stdout",
       "text": [
        "2014-09-03 14:59:48,653 INFO sqlalchemy.engine.base.Engine INSERT INTO disciplines (name, description, link) VALUES (?, ?, ?)\n"
       ]
      },
      {
       "output_type": "stream",
       "stream": "stderr",
       "text": [
        "INFO:sqlalchemy.engine.base.Engine:INSERT INTO disciplines (name, description, link) VALUES (?, ?, ?)\n"
       ]
      },
      {
       "output_type": "stream",
       "stream": "stdout",
       "text": [
        "2014-09-03 14:59:48,654 INFO sqlalchemy.engine.base.Engine ('physics', 'The description', None)\n"
       ]
      },
      {
       "output_type": "stream",
       "stream": "stderr",
       "text": [
        "INFO:sqlalchemy.engine.base.Engine:('physics', 'The description', None)\n"
       ]
      },
      {
       "output_type": "stream",
       "stream": "stdout",
       "text": [
        "2014-09-03 14:59:48,655 INFO sqlalchemy.engine.base.Engine INSERT INTO disciplines (name, description, link) VALUES (?, ?, ?)\n"
       ]
      },
      {
       "output_type": "stream",
       "stream": "stderr",
       "text": [
        "INFO:sqlalchemy.engine.base.Engine:INSERT INTO disciplines (name, description, link) VALUES (?, ?, ?)\n"
       ]
      },
      {
       "output_type": "stream",
       "stream": "stdout",
       "text": [
        "2014-09-03 14:59:48,657 INFO sqlalchemy.engine.base.Engine ('philosophy', 'The description', None)\n"
       ]
      },
      {
       "output_type": "stream",
       "stream": "stderr",
       "text": [
        "INFO:sqlalchemy.engine.base.Engine:('philosophy', 'The description', None)\n"
       ]
      },
      {
       "output_type": "stream",
       "stream": "stdout",
       "text": [
        "2014-09-03 14:59:48,658 INFO sqlalchemy.engine.base.Engine INSERT INTO disciplines (name, description, link) VALUES (?, ?, ?)\n"
       ]
      },
      {
       "output_type": "stream",
       "stream": "stderr",
       "text": [
        "INFO:sqlalchemy.engine.base.Engine:INSERT INTO disciplines (name, description, link) VALUES (?, ?, ?)\n"
       ]
      },
      {
       "output_type": "stream",
       "stream": "stdout",
       "text": [
        "2014-09-03 14:59:48,661 INFO sqlalchemy.engine.base.Engine ('sociology', None, None)\n"
       ]
      },
      {
       "output_type": "stream",
       "stream": "stderr",
       "text": [
        "INFO:sqlalchemy.engine.base.Engine:('sociology', None, None)\n"
       ]
      },
      {
       "output_type": "stream",
       "stream": "stdout",
       "text": [
        "2014-09-03 14:59:48,661 INFO sqlalchemy.engine.base.Engine COMMIT\n"
       ]
      },
      {
       "output_type": "stream",
       "stream": "stderr",
       "text": [
        "INFO:sqlalchemy.engine.base.Engine:COMMIT\n"
       ]
      },
      {
       "output_type": "stream",
       "stream": "stdout",
       "text": [
        "2014-09-03 14:59:48,664 INFO sqlalchemy.engine.base.Engine BEGIN (implicit)\n"
       ]
      },
      {
       "output_type": "stream",
       "stream": "stderr",
       "text": [
        "INFO:sqlalchemy.engine.base.Engine:BEGIN (implicit)\n"
       ]
      },
      {
       "output_type": "stream",
       "stream": "stdout",
       "text": [
        "2014-09-03 14:59:48,665 INFO sqlalchemy.engine.base.Engine INSERT INTO disciplines (name, description, link) VALUES (?, ?, ?)\n"
       ]
      },
      {
       "output_type": "stream",
       "stream": "stderr",
       "text": [
        "INFO:sqlalchemy.engine.base.Engine:INSERT INTO disciplines (name, description, link) VALUES (?, ?, ?)\n"
       ]
      },
      {
       "output_type": "stream",
       "stream": "stdout",
       "text": [
        "2014-09-03 14:59:48,665 INFO sqlalchemy.engine.base.Engine ('physics', 'The description', None)\n"
       ]
      },
      {
       "output_type": "stream",
       "stream": "stderr",
       "text": [
        "INFO:sqlalchemy.engine.base.Engine:('physics', 'The description', None)\n"
       ]
      },
      {
       "output_type": "stream",
       "stream": "stdout",
       "text": [
        "2014-09-03 14:59:48,667 INFO sqlalchemy.engine.base.Engine COMMIT\n"
       ]
      },
      {
       "output_type": "stream",
       "stream": "stderr",
       "text": [
        "INFO:sqlalchemy.engine.base.Engine:COMMIT\n"
       ]
      }
     ],
     "prompt_number": 15
    },
    {
     "cell_type": "code",
     "collapsed": false,
     "input": [
      "from sqlalchemy.sql import expression\n",
      "expression.delete(Disciplines, whereclause='name' is 'philosophy')"
     ],
     "language": "python",
     "metadata": {},
     "outputs": [
      {
       "metadata": {},
       "output_type": "pyout",
       "prompt_number": 35,
       "text": [
        "<sqlalchemy.sql.dml.Delete object at 0x0000000004825438>"
       ]
      }
     ],
     "prompt_number": 35
    },
    {
     "cell_type": "code",
     "collapsed": false,
     "input": [
      "from sqlalchemy import update\n",
      "Disciplines.update().values(\n",
      "        name=select(['philosophy']).\\\n",
      "                where(addresses.c.user_id==users.c.id).\\\n",
      "                as_scalar())"
     ],
     "language": "python",
     "metadata": {},
     "outputs": [
      {
       "ename": "AttributeError",
       "evalue": "type object 'Disciplines' has no attribute 'update'",
       "output_type": "pyerr",
       "traceback": [
        "\u001b[1;31m---------------------------------------------------------------------------\u001b[0m\n\u001b[1;31mAttributeError\u001b[0m                            Traceback (most recent call last)",
        "\u001b[1;32m<ipython-input-41-eef6292d0787>\u001b[0m in \u001b[0;36m<module>\u001b[1;34m()\u001b[0m\n\u001b[0;32m      1\u001b[0m \u001b[1;32mfrom\u001b[0m \u001b[0msqlalchemy\u001b[0m \u001b[1;32mimport\u001b[0m \u001b[0mupdate\u001b[0m\u001b[1;33m\u001b[0m\u001b[0m\n\u001b[1;32m----> 2\u001b[1;33m Disciplines.update().values(\n\u001b[0m\u001b[0;32m      3\u001b[0m         \u001b[0mname\u001b[0m\u001b[1;33m=\u001b[0m\u001b[0mselect\u001b[0m\u001b[1;33m(\u001b[0m\u001b[1;33m[\u001b[0m\u001b[1;34m'philosophy'\u001b[0m\u001b[1;33m]\u001b[0m\u001b[1;33m)\u001b[0m\u001b[1;33m.\u001b[0m\u001b[0;31m\\\u001b[0m\u001b[1;33m\u001b[0m\u001b[0m\n\u001b[0;32m      4\u001b[0m                 \u001b[0mwhere\u001b[0m\u001b[1;33m(\u001b[0m\u001b[0maddresses\u001b[0m\u001b[1;33m.\u001b[0m\u001b[0mc\u001b[0m\u001b[1;33m.\u001b[0m\u001b[0muser_id\u001b[0m\u001b[1;33m==\u001b[0m\u001b[0musers\u001b[0m\u001b[1;33m.\u001b[0m\u001b[0mc\u001b[0m\u001b[1;33m.\u001b[0m\u001b[0mid\u001b[0m\u001b[1;33m)\u001b[0m\u001b[1;33m.\u001b[0m\u001b[0;31m\\\u001b[0m\u001b[1;33m\u001b[0m\u001b[0m\n\u001b[0;32m      5\u001b[0m                 as_scalar())\n",
        "\u001b[1;31mAttributeError\u001b[0m: type object 'Disciplines' has no attribute 'update'"
       ]
      }
     ],
     "prompt_number": 41
    },
    {
     "cell_type": "code",
     "collapsed": false,
     "input": [
      "from sqlalchemy.sql import Insert\n",
      "Insert(table, values=None, inline=False, bind=None, prefixes=None, returning=None, **kwargs)"
     ],
     "language": "python",
     "metadata": {},
     "outputs": [
      {
       "ename": "AttributeError",
       "evalue": "'Session' object has no attribute 'Insert'",
       "output_type": "pyerr",
       "traceback": [
        "\u001b[1;31m---------------------------------------------------------------------------\u001b[0m\n\u001b[1;31mAttributeError\u001b[0m                            Traceback (most recent call last)",
        "\u001b[1;32m<ipython-input-47-ada9e3c366a3>\u001b[0m in \u001b[0;36m<module>\u001b[1;34m()\u001b[0m\n\u001b[0;32m      1\u001b[0m \u001b[1;32mfrom\u001b[0m \u001b[0msqlalchemy\u001b[0m\u001b[1;33m.\u001b[0m\u001b[0msql\u001b[0m \u001b[1;32mimport\u001b[0m \u001b[0mInsert\u001b[0m\u001b[1;33m\u001b[0m\u001b[0m\n\u001b[0;32m      2\u001b[0m \u001b[1;33m\u001b[0m\u001b[0m\n\u001b[1;32m----> 3\u001b[1;33m \u001b[0msession\u001b[0m\u001b[1;33m.\u001b[0m\u001b[0mInsert\u001b[0m\u001b[1;33m(\u001b[0m\u001b[0mtable\u001b[0m\u001b[1;33m,\u001b[0m \u001b[0mvalues\u001b[0m\u001b[1;33m=\u001b[0m\u001b[0mNone\u001b[0m\u001b[1;33m,\u001b[0m \u001b[0minline\u001b[0m\u001b[1;33m=\u001b[0m\u001b[0mFalse\u001b[0m\u001b[1;33m,\u001b[0m \u001b[0mbind\u001b[0m\u001b[1;33m=\u001b[0m\u001b[0mNone\u001b[0m\u001b[1;33m,\u001b[0m \u001b[0mprefixes\u001b[0m\u001b[1;33m=\u001b[0m\u001b[0mNone\u001b[0m\u001b[1;33m,\u001b[0m \u001b[0mreturning\u001b[0m\u001b[1;33m=\u001b[0m\u001b[0mNone\u001b[0m\u001b[1;33m,\u001b[0m \u001b[1;33m**\u001b[0m\u001b[0mkwargs\u001b[0m\u001b[1;33m)\u001b[0m\u001b[1;33m\u001b[0m\u001b[0m\n\u001b[0m",
        "\u001b[1;31mAttributeError\u001b[0m: 'Session' object has no attribute 'Insert'"
       ]
      }
     ],
     "prompt_number": 47
    },
    {
     "cell_type": "heading",
     "level": 2,
     "metadata": {},
     "source": [
      "Non delcarative sqlalchemy"
     ]
    },
    {
     "cell_type": "code",
     "collapsed": false,
     "input": [
      "engine = create_engine('sqlite:///:memory:')\n",
      "\n",
      "metadata = MetaData()\n",
      "\n",
      "user = Table('user', metadata,\n",
      "    Column('user_id', Integer, primary_key = True),\n",
      "    Column('user_name', String(16), nullable = False),\n",
      "    Column('email_address', String(60), key='email'),\n",
      "    Column('password', String(20), nullable = False)\n",
      ")\n",
      "\n",
      "user_prefs = Table('user_prefs', metadata,\n",
      "    Column('pref_id', Integer, primary_key=True),\n",
      "    Column('user_id', Integer, ForeignKey(\"user.user_id\"), nullable=False),\n",
      "    Column('pref_name', String(40), nullable=False),\n",
      "    Column('pref_value', String(100))\n",
      ")\n",
      "\n",
      "metadata.create_all(engine)\n",
      "\n",
      "for t in metadata.sorted_tables:\n",
      "    print t.name"
     ],
     "language": "python",
     "metadata": {},
     "outputs": [
      {
       "output_type": "stream",
       "stream": "stdout",
       "text": [
        "user\n",
        "user_prefs\n"
       ]
      }
     ],
     "prompt_number": 64
    },
    {
     "cell_type": "heading",
     "level": 2,
     "metadata": {},
     "source": [
      "RDFLIB"
     ]
    },
    {
     "cell_type": "markdown",
     "metadata": {},
     "source": [
      "With some titles"
     ]
    },
    {
     "cell_type": "code",
     "collapsed": false,
     "input": [
      "url = r'd:\\Desktop\\medline11n0653.nq'"
     ],
     "language": "python",
     "metadata": {},
     "outputs": [],
     "prompt_number": 16
    },
    {
     "cell_type": "code",
     "collapsed": false,
     "input": [
      "from rdflib import ConjunctiveGraph, URIRef, Namespace"
     ],
     "language": "python",
     "metadata": {},
     "outputs": [],
     "prompt_number": 17
    },
    {
     "cell_type": "code",
     "collapsed": false,
     "input": [
      "g = ConjunctiveGraph()\n",
      "data = open(url, \"rb\")"
     ],
     "language": "python",
     "metadata": {},
     "outputs": [
      {
       "ename": "IOError",
       "evalue": "[Errno 2] No such file or directory: 'd:\\\\Desktop\\\\medline11n0653.nq'",
       "output_type": "pyerr",
       "traceback": [
        "\u001b[1;31m---------------------------------------------------------------------------\u001b[0m\n\u001b[1;31mIOError\u001b[0m                                   Traceback (most recent call last)",
        "\u001b[1;32m<ipython-input-18-cecc23ee99a8>\u001b[0m in \u001b[0;36m<module>\u001b[1;34m()\u001b[0m\n\u001b[0;32m      1\u001b[0m \u001b[0mg\u001b[0m \u001b[1;33m=\u001b[0m \u001b[0mConjunctiveGraph\u001b[0m\u001b[1;33m(\u001b[0m\u001b[1;33m)\u001b[0m\u001b[1;33m\u001b[0m\u001b[0m\n\u001b[1;32m----> 2\u001b[1;33m \u001b[0mdata\u001b[0m \u001b[1;33m=\u001b[0m \u001b[0mopen\u001b[0m\u001b[1;33m(\u001b[0m\u001b[0murl\u001b[0m\u001b[1;33m,\u001b[0m \u001b[1;34m\"rb\"\u001b[0m\u001b[1;33m)\u001b[0m\u001b[1;33m\u001b[0m\u001b[0m\n\u001b[0m",
        "\u001b[1;31mIOError\u001b[0m: [Errno 2] No such file or directory: 'd:\\\\Desktop\\\\medline11n0653.nq'"
       ]
      }
     ],
     "prompt_number": 18
    },
    {
     "cell_type": "code",
     "collapsed": false,
     "input": [
      "g.parse(data, format=\"nquads\") "
     ],
     "language": "python",
     "metadata": {},
     "outputs": [
      {
       "ename": "NameError",
       "evalue": "name 'data' is not defined",
       "output_type": "pyerr",
       "traceback": [
        "\u001b[1;31m---------------------------------------------------------------------------\u001b[0m\n\u001b[1;31mNameError\u001b[0m                                 Traceback (most recent call last)",
        "\u001b[1;32m<ipython-input-19-30755f49d69b>\u001b[0m in \u001b[0;36m<module>\u001b[1;34m()\u001b[0m\n\u001b[1;32m----> 1\u001b[1;33m \u001b[0mg\u001b[0m\u001b[1;33m.\u001b[0m\u001b[0mparse\u001b[0m\u001b[1;33m(\u001b[0m\u001b[0mdata\u001b[0m\u001b[1;33m,\u001b[0m \u001b[0mformat\u001b[0m\u001b[1;33m=\u001b[0m\u001b[1;34m\"nquads\"\u001b[0m\u001b[1;33m)\u001b[0m\u001b[1;33m\u001b[0m\u001b[0m\n\u001b[0m",
        "\u001b[1;31mNameError\u001b[0m: name 'data' is not defined"
       ]
      }
     ],
     "prompt_number": 19
    },
    {
     "cell_type": "code",
     "collapsed": false,
     "input": [
      "len(g)\n",
      "g?"
     ],
     "language": "python",
     "metadata": {},
     "outputs": [],
     "prompt_number": 18
    },
    {
     "cell_type": "code",
     "collapsed": false,
     "input": [
      "count = 0\n",
      "for x,y,z in g:\n",
      "    count += 1\n",
      "    print x, y, z\n",
      "    if count == 50:\n",
      "        break"
     ],
     "language": "python",
     "metadata": {},
     "outputs": [
      {
       "output_type": "stream",
       "stream": "stdout",
       "text": [
        "Nf48e73c06f2a46399e79f9ef206d0dd2 http://www.w3.org/2000/01/rdf-schema#label medline11n0001\n",
        "http://purl.org/okfn/medline/medline11n0001/23396 http://purl.org/dc/terms/source PubMed-not-MEDLINE\n",
        "Nda4170a01f854f09bead2a5883303e6d http://www.w3.org/2006/time#inXSDDateTime 2011-05-08T14:41:06+00:00\n",
        "http://www.ncbi.nlm.nih.gov/pubmed/17781855 http://purl.org/dc/terms/isPartOf N12ebe64ddb934606ab0017200afa6d1d\n",
        "http://www.ncbi.nlm.nih.gov/pubmed/17756121 http://purl.org/dc/terms/creator N3717b9f6ef4247e58838b5fa68f35f12\n",
        "http://www.ncbi.nlm.nih.gov/pubmed/17731640 http://purl.org/dc/terms/published 1892-15\n",
        "http://www.ncbi.nlm.nih.gov/pubmed/17806432 http://www.w3.org/1999/02/22-rdf-syntax-ns#type http://purl.org/ontology/bibo/AcademicArticle\n",
        "http://www.ncbi.nlm.nih.gov/pubmed/17232100 http://purl.org/dc/terms/isPartOf N05c7645ac2ff4668b158241c6a2d8417\n",
        "N22b2477408544300b76cb656e48f5e62 http://purl.org/dc/terms/spatial United States\n",
        "N42c82b7e8b1b452aa36b0782bca73861 http://purl.org/net/opmv/ns#used Nc52a4af4ebc543bd8838b53c7dacfc17\n",
        "Ndb2a222646984b5ea17aafd93fa862c4 http://www.w3.org/2000/01/rdf-schema#label medline11n0001\n",
        "http://www.ncbi.nlm.nih.gov/pubmed/17757405 http://purl.org/dc/terms/isPartOf N3d1dcbf883d44fcb80ffbec9d3958986\n",
        "N29aba2d9928c4211a4518b9246390f47 http://purl.org/net/opmv/ns#wasControlledBy http://river.styx.org/ww/foaf#me\n",
        "http://purl.org/okfn/medline/medline11n0001/11818 http://purl.org/dc/terms/source PubMed-not-MEDLINE\n",
        "N5324fc5251524044a0116b0aec942df2 http://xmlns.com/foaf/0.1/name Bell, A N\n",
        "Nd3d5733b694d438ca782ae2f109d7171 http://www.w3.org/1999/02/22-rdf-syntax-ns#type http://www.w3.org/2006/time#Instant\n",
        "N64d1597c6f904485b2835cef005638aa http://purl.org/ontology/bibo/volume 4\n",
        "http://purl.org/okfn/medline/medline11n0001/21835 http://purl.org/dc/terms/source PubMed-not-MEDLINE\n",
        "Nc700aa389ccd4078b26d4deb359517e3 http://purl.org/net/opmv/ns#wasControlledBy http://river.styx.org/ww/foaf#me\n",
        "http://www.ncbi.nlm.nih.gov/pubmed/17232056 http://purl.org/dc/terms/title Notes on the Development and Variations of the Atlas.\n",
        "N060511d6b770439c97477c2a3ad48a63 http://www.w3.org/2000/01/rdf-schema#label medline11n0001\n",
        "N95ba409b7fd845bf9e32207955016648 http://xmlns.com/foaf/0.1/familyName Curry\n",
        "http://purl.org/okfn/medline/medline11n0001/16443 http://purl.org/dc/terms/issued 2010-07-02\n",
        "Nab924b364ff4492ca77cf8ea01c56178 http://www.w3.org/1999/02/22-rdf-syntax-ns#type http://purl.org/ontology/bibo/Issue\n",
        "Neeea3d8074db49b693ca1597a0b6280f http://www.w3.org/1999/02/22-rdf-syntax-ns#type http://purl.org/ontology/bibo/Issue\n",
        "N3f3b1d61b8b84686818329e9b3bd2184 http://xmlns.com/foaf/0.1/givenName A B\n",
        "N2c6691b4a7174f6bbe8c0157f540c2bd http://purl.org/dc/terms/isPartOf http://id.crossref.org/issn/0036-8075\n",
        "Nd89d1346b87c416c8629476ecceb0d0d http://www.w3.org/2000/01/rdf-schema#label medline11n0001\n",
        "http://purl.org/okfn/medline/medline11n0001/12309 http://purl.org/net/opmv/ns#wasGeneratedBy Na794065ebdc64778959f76797a0a2e46\n",
        "http://purl.org/okfn/medline/medline11n0001/1011 http://xmlns.com/foaf/0.1/primaryTopic http://www.ncbi.nlm.nih.gov/pubmed/16992022\n",
        "http://purl.org/okfn/medline/medline11n0001/12676 http://purl.org/dc/terms/source PubMed-not-MEDLINE\n",
        "N6cc4c37cdc6847178bad15aa82e19e24 http://www.w3.org/2006/time#inXSDDateTime 2011-05-08T14:40:58+00:00\n",
        "http://www.ncbi.nlm.nih.gov/pubmed/17756165 http://purl.org/dc/terms/language eng\n",
        "N965255d978e44d4c8c77cd59eb8b49a5 http://purl.org/net/opmv/ns#wasControlledBy http://river.styx.org/ww/foaf#me\n",
        "http://purl.org/okfn/medline/medline11n0001/28849 http://purl.org/net/opmv/ns#wasGeneratedBy Nfef73030dbb543e08503f4701e67d447\n",
        "http://www.ncbi.nlm.nih.gov/pubmed/17834253 http://purl.org/dc/terms/language eng\n",
        "http://purl.org/okfn/medline/medline11n0001/13518 http://purl.org/dc/terms/source PubMed-not-MEDLINE\n",
        "N8a8b891cdbd4470fb524dfc1eda7c6df http://purl.org/dc/terms/published 1886-31\n",
        "N8c2ee5bf9cdd4dd4828ecfb17f78b0e8 http://xmlns.com/foaf/0.1/familyName Derby\n",
        "http://www.ncbi.nlm.nih.gov/pubmed/17856285 http://www.w3.org/1999/02/22-rdf-syntax-ns#type http://purl.org/ontology/bibo/AcademicArticle\n",
        "http://purl.org/okfn/medline/medline11n0001/2529 http://purl.org/dc/terms/created 2007-02-07\n",
        "N47e04e6821a94db98627cbb395e4a98e http://purl.org/dc/terms/published 1897\n",
        "Ncddfc357b1b543ea947bc0d81916fa1a http://purl.org/dc/terms/published 1887\n",
        "N52f5d235200849a69410b02f6a46c76a http://purl.org/net/opmv/ns#used Nb9d9b1c429404588816aef813740b2ad\n",
        "http://www.ncbi.nlm.nih.gov/pubmed/17861840 http://www.w3.org/1999/02/22-rdf-syntax-ns#type http://purl.org/ontology/bibo/AcademicArticle\n",
        "http://www.ncbi.nlm.nih.gov/pubmed/17733304 http://purl.org/dc/terms/isPartOf N765d5350b3a94c0caa28ddf101e35069\n",
        "N1229283449f04b1495125e9d352957c0 http://purl.org/ontology/bibo/volume 32\n",
        "N6bb2c9f11dc44d8daa4c5b997f802b9c http://data.semanticweb.org/ns/swc/ontology#affiliation University of Dublin.\n",
        "N026785fe08ad409c84958fdbb25dce85 http://purl.org/dc/terms/published 1900-06\n",
        "N1e84dc56a6714856bc889bfc55f78e8e http://purl.org/dc/terms/isPartOf http://id.crossref.org/issn/0737-8769\n"
       ]
      }
     ],
     "prompt_number": 29
    },
    {
     "cell_type": "code",
     "collapsed": false,
     "input": [
      "g.parse(data, format=\"nquads\") "
     ],
     "language": "python",
     "metadata": {},
     "outputs": [
      {
       "ename": "NameError",
       "evalue": "name 'data' is not defined",
       "output_type": "pyerr",
       "traceback": [
        "\u001b[1;31m---------------------------------------------------------------------------\u001b[0m\n\u001b[1;31mNameError\u001b[0m                                 Traceback (most recent call last)",
        "\u001b[1;32m<ipython-input-20-30755f49d69b>\u001b[0m in \u001b[0;36m<module>\u001b[1;34m()\u001b[0m\n\u001b[1;32m----> 1\u001b[1;33m \u001b[0mg\u001b[0m\u001b[1;33m.\u001b[0m\u001b[0mparse\u001b[0m\u001b[1;33m(\u001b[0m\u001b[0mdata\u001b[0m\u001b[1;33m,\u001b[0m \u001b[0mformat\u001b[0m\u001b[1;33m=\u001b[0m\u001b[1;34m\"nquads\"\u001b[0m\u001b[1;33m)\u001b[0m\u001b[1;33m\u001b[0m\u001b[0m\n\u001b[0m",
        "\u001b[1;31mNameError\u001b[0m: name 'data' is not defined"
       ]
      }
     ],
     "prompt_number": 20
    },
    {
     "cell_type": "code",
     "collapsed": false,
     "input": [],
     "language": "python",
     "metadata": {},
     "outputs": []
    }
   ],
   "metadata": {}
  }
 ]
}