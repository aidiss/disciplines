{
 "metadata": {
  "name": "",
  "signature": "sha256:def42ec34c351367fdd34d8c827a8f132d57d08ae73e02f6b57d73ee217827f5"
 },
 "nbformat": 3,
 "nbformat_minor": 0,
 "worksheets": [
  {
   "cells": [
    {
     "cell_type": "markdown",
     "metadata": {},
     "source": [
      "Data about particular researchers is interesting to us. We are interested in their *career path*, *disciplinarity*, *affilitations*.\n",
      "So far we have two datasets we can work with. One comes from highlycited.com (provided by Thompson Reuters) and another comes from American Philosophical Society."
     ]
    },
    {
     "cell_type": "code",
     "collapsed": false,
     "input": [
      "import requests"
     ],
     "language": "python",
     "metadata": {},
     "outputs": [],
     "prompt_number": 1
    },
    {
     "cell_type": "code",
     "collapsed": false,
     "input": [
      "rxls = requests.get('http://highlycited.com/highly_cited_2014.xlsx')\n",
      "rcsv = requests.get('http://highlycited.com/highly_cited_2014.csv')"
     ],
     "language": "python",
     "metadata": {},
     "outputs": [],
     "prompt_number": 2
    },
    {
     "cell_type": "code",
     "collapsed": false,
     "input": [
      "import pandas as pd\n",
      "url = 'd:\\Desktop\\highly_cited_2014_june_2014.xlsx'\n",
      "df = pd.read_excel(url)"
     ],
     "language": "python",
     "metadata": {},
     "outputs": [],
     "prompt_number": 3
    },
    {
     "cell_type": "code",
     "collapsed": false,
     "input": [
      "df.columns"
     ],
     "language": "python",
     "metadata": {},
     "outputs": [
      {
       "metadata": {},
       "output_type": "pyout",
       "prompt_number": 4,
       "text": [
        "Index(['First_Name', 'Middle_Name', 'Family_Name', 'Category', 'Primary Affiliation', 'Secondary Affiliations'], dtype='object')"
       ]
      }
     ],
     "prompt_number": 4
    },
    {
     "cell_type": "markdown",
     "metadata": {},
     "source": [
      "Let's see what kind of disciplines/fields to they have. They use very neutral name of 'category'."
     ]
    },
    {
     "cell_type": "code",
     "collapsed": false,
     "input": [
      "list(df['Category'].unique())"
     ],
     "language": "python",
     "metadata": {},
     "outputs": [
      {
       "metadata": {},
       "output_type": "pyout",
       "prompt_number": 5,
       "text": [
        "['Agricultural Sciences',\n",
        " 'Biology & Biochemistry',\n",
        " 'Chemistry',\n",
        " 'Clinical Medicine',\n",
        " 'Computer Science',\n",
        " 'Economics & Business',\n",
        " 'Engineering',\n",
        " 'Environment/Ecology',\n",
        " 'Geosciences',\n",
        " 'Immunology',\n",
        " 'Materials Science',\n",
        " 'Mathematics',\n",
        " 'Microbiology',\n",
        " 'Molecular Biology & Genetics',\n",
        " 'Neuroscience & Behavior',\n",
        " 'Pharmacology & Toxicology',\n",
        " 'Physics',\n",
        " 'Plant & Animal Science',\n",
        " 'Psychiatry/Psychology',\n",
        " 'Social Sciences, general',\n",
        " 'Space Science']"
       ]
      }
     ],
     "prompt_number": 5
    },
    {
     "cell_type": "markdown",
     "metadata": {},
     "source": [
      "The list we got here is quite nice. We can say something about it.\n",
      "First, some disciplines are grouped together. For example: 'Biology & Biochemistry', 'Economics & Business', 'Environment/Ecology'.\n",
      "Second, 'Environment/Ecology' and 'Psychiatry/Psychology' are separated with \"/\" rathern than \"&\" like most other categories. Does this refer to some kind of different relations between the disciplines?\n",
      "Third, 'Social Sciences, general' - this cattegorie refers to social sciences in general, that means we should expect overal."
     ]
    },
    {
     "cell_type": "markdown",
     "metadata": {},
     "source": [
      "From here we might choose few paths. One of paths might be connecting these fields with the classifications we already have. We might think of:\n",
      "importing consensus map of science #that shows connections. This can be done with many inside topics.\n",
      "importing biglans #that shows types\n",
      "importing organizational_structures\n",
      "\n",
      "However, we will not be doing this here. Later we will have a link to another notebook that will do that.\n",
      "\n",
      "For now, lets look inti some simple stats."
     ]
    },
    {
     "cell_type": "code",
     "collapsed": false,
     "input": [
      "df.groupby('Category').size()"
     ],
     "language": "python",
     "metadata": {},
     "outputs": [
      {
       "metadata": {},
       "output_type": "pyout",
       "prompt_number": 8,
       "text": [
        "Category\n",
        "Agricultural Sciences           112\n",
        "Biology & Biochemistry          196\n",
        "Chemistry                       198\n",
        "Clinical Medicine               402\n",
        "Computer Science                117\n",
        "Economics & Business             95\n",
        "Engineering                     187\n",
        "Environment/Ecology             137\n",
        "Geosciences                     159\n",
        "Immunology                       87\n",
        "Materials Science               147\n",
        "Mathematics                      99\n",
        "Microbiology                    114\n",
        "Molecular Biology & Genetics    200\n",
        "Neuroscience & Behavior         129\n",
        "Pharmacology & Toxicology       133\n",
        "Physics                         144\n",
        "Plant & Animal Science          176\n",
        "Psychiatry/Psychology           100\n",
        "Social Sciences, general        177\n",
        "Space Science                   106\n",
        "dtype: int64"
       ]
      }
     ],
     "prompt_number": 8
    },
    {
     "cell_type": "code",
     "collapsed": false,
     "input": [
      "grpd_by_prim_afil = df.groupby('Primary Affiliation').size().order(ascending=False)\n",
      "grpd_by_prim_afil.head()"
     ],
     "language": "python",
     "metadata": {},
     "outputs": [
      {
       "metadata": {},
       "output_type": "pyout",
       "prompt_number": 10,
       "text": [
        "Primary Affiliation\n",
        "Harvard University, USA                    105\n",
        "Stanford University, USA                    56\n",
        "Chinese Academy of Sciences, China          46\n",
        "University of California, Berkeley, USA     41\n",
        "NIH, USA                                    33\n",
        "dtype: int64"
       ]
      }
     ],
     "prompt_number": 10
    },
    {
     "cell_type": "code",
     "collapsed": false,
     "input": [
      "%matplotlib inline\n",
      "import matplotlib.pyplot as plt\n",
      "plt.plot(grpd_by_prim_afil)"
     ],
     "language": "python",
     "metadata": {},
     "outputs": [
      {
       "metadata": {},
       "output_type": "pyout",
       "prompt_number": 11,
       "text": [
        "[<matplotlib.lines.Line2D at 0x606c290>]"
       ]
      },
      {
       "metadata": {},
       "output_type": "display_data",
       "png": "[encoded data removed]",
       "text": [
        "<matplotlib.figure.Figure at 0x5f7ae90>"
       ]
      }
     ],
     "prompt_number": 11
    },
    {
     "cell_type": "code",
     "collapsed": false,
     "input": [
      "img('http://news.bbcimg.co.uk/media/images/77807000/jpg/_77807434_77807433.jpg')"
     ],
     "language": "python",
     "metadata": {},
     "outputs": [
      {
       "ename": "NameError",
       "evalue": "name 'img' is not defined",
       "output_type": "pyerr",
       "traceback": [
        "\u001b[1;31m---------------------------------------------------------------------------\u001b[0m\n\u001b[1;31mNameError\u001b[0m                                 Traceback (most recent call last)",
        "\u001b[1;32m<ipython-input-7-ee2c178304c8>\u001b[0m in \u001b[0;36m<module>\u001b[1;34m()\u001b[0m\n\u001b[1;32m----> 1\u001b[1;33m \u001b[0mimg\u001b[0m\u001b[1;33m(\u001b[0m\u001b[1;34m'http://news.bbcimg.co.uk/media/images/77807000/jpg/_77807434_77807433.jpg'\u001b[0m\u001b[1;33m)\u001b[0m\u001b[1;33m\u001b[0m\u001b[0m\n\u001b[0m",
        "\u001b[1;31mNameError\u001b[0m: name 'img' is not defined"
       ]
      }
     ],
     "prompt_number": 7
    },
    {
     "cell_type": "code",
     "collapsed": false,
     "input": [
      "df.groupby('Secondary Affiliations').size().order(ascending=False).head()"
     ],
     "language": "python",
     "metadata": {},
     "outputs": [
      {
       "metadata": {},
       "output_type": "pyout",
       "prompt_number": 12,
       "text": [
        "Secondary Affiliations\n",
        "King Abdulaziz University, Saudi Arabia          122\n",
        "Harvard University, USA                           27\n",
        "The University of Tokyo, Japan                    10\n",
        "King Abdulaziz University (50%), Saudi Arabia      8\n",
        "Massachusetts Gen Hosp, USA                        8\n",
        "dtype: int64"
       ]
      }
     ],
     "prompt_number": 12
    },
    {
     "cell_type": "markdown",
     "metadata": {},
     "source": [
      "Why so many researchers have King Abdulaziz University as their secondary affiliation???\n",
      "This seems like very straighforward finding that can easily attract attention. To whom and how should I communicate it.\n",
      "We could think of posting this data right into some social media or my blog."
     ]
    },
    {
     "cell_type": "heading",
     "level": 2,
     "metadata": {},
     "source": [
      "American Philosophical Society"
     ]
    },
    {
     "cell_type": "markdown",
     "metadata": {},
     "source": [
      "American Philosophial Society that has rather big membership.\n",
      "Their database of members is rather big."
     ]
    },
    {
     "cell_type": "code",
     "collapsed": false,
     "input": [
      "def get_all():\n",
      "    #gets many websites that have scientists in them.\n",
      "    count = 1\n",
      "    mylist = []\n",
      "    for x in range(1, 2000, 20):\n",
      "        payload = {'browse-all':'yes', 'sort':'creator', 'startDoc':'{}'.format(x)}\n",
      "        r = requests.get('http://www.amphilsoc.org/memhist/search?', params=payload)\n",
      "        mylist.append(r)\n",
      "    return mylist"
     ],
     "language": "python",
     "metadata": {},
     "outputs": [],
     "prompt_number": 13
    },
    {
     "cell_type": "code",
     "collapsed": false,
     "input": [
      "from bs4 import BeautifulSoup\n",
      "soup = BeautifulSoup(r.content)"
     ],
     "language": "python",
     "metadata": {},
     "outputs": [
      {
       "ename": "NameError",
       "evalue": "name 'r' is not defined",
       "output_type": "pyerr",
       "traceback": [
        "\u001b[1;31m---------------------------------------------------------------------------\u001b[0m\n\u001b[1;31mNameError\u001b[0m                                 Traceback (most recent call last)",
        "\u001b[1;32m<ipython-input-11-cbbca10cb554>\u001b[0m in \u001b[0;36m<module>\u001b[1;34m()\u001b[0m\n\u001b[0;32m      1\u001b[0m \u001b[1;32mfrom\u001b[0m \u001b[0mbs4\u001b[0m \u001b[1;32mimport\u001b[0m \u001b[0mBeautifulSoup\u001b[0m\u001b[1;33m\u001b[0m\u001b[0m\n\u001b[1;32m----> 2\u001b[1;33m \u001b[0msoup\u001b[0m \u001b[1;33m=\u001b[0m \u001b[0mBeautifulSoup\u001b[0m\u001b[1;33m(\u001b[0m\u001b[0mr\u001b[0m\u001b[1;33m.\u001b[0m\u001b[0mcontent\u001b[0m\u001b[1;33m)\u001b[0m\u001b[1;33m\u001b[0m\u001b[0m\n\u001b[0m",
        "\u001b[1;31mNameError\u001b[0m: name 'r' is not defined"
       ]
      }
     ],
     "prompt_number": 11
    },
    {
     "cell_type": "code",
     "collapsed": false,
     "input": [
      "# will use them with regex\n",
      "tags = ['Name:',\n",
      "    'Institution:',\n",
      "    'Year Elected:',\n",
      "    'Class:' ,\n",
      "    'Subdivision:',  \n",
      "    'Residency:',\n",
      "    'Living?:',\n",
      "    'Birth Date:']"
     ],
     "language": "python",
     "metadata": {},
     "outputs": [],
     "prompt_number": 9
    },
    {
     "cell_type": "code",
     "collapsed": false,
     "input": [
      "import re\n",
      "res = soup.findAll('td', {'class':'docHit'})[0]\n",
      "len(res.contents[0].contents[0])\n",
      "len(res.contents[1].contents[0])\n",
      "len(res.contents[2].contents[0])\n",
      "len(res.contents[4].contents[0])\n",
      "len(res.contents[5].contents[0])\n",
      "for x in res.contents[5].contents[0].contents[0].children:\n",
      "    print x"
     ],
     "language": "python",
     "metadata": {},
     "outputs": [
      {
       "ename": "NameError",
       "evalue": "name 'soup' is not defined",
       "output_type": "pyerr",
       "traceback": [
        "\u001b[1;31m---------------------------------------------------------------------------\u001b[0m\n\u001b[1;31mNameError\u001b[0m                                 Traceback (most recent call last)",
        "\u001b[1;32m<ipython-input-27-405ee752da02>\u001b[0m in \u001b[0;36m<module>\u001b[1;34m()\u001b[0m\n\u001b[0;32m      1\u001b[0m \u001b[1;32mimport\u001b[0m \u001b[0mre\u001b[0m\u001b[1;33m\u001b[0m\u001b[0m\n\u001b[1;32m----> 2\u001b[1;33m \u001b[0mres\u001b[0m \u001b[1;33m=\u001b[0m \u001b[0msoup\u001b[0m\u001b[1;33m.\u001b[0m\u001b[0mfindAll\u001b[0m\u001b[1;33m(\u001b[0m\u001b[1;34m'td'\u001b[0m\u001b[1;33m,\u001b[0m \u001b[1;33m{\u001b[0m\u001b[1;34m'class'\u001b[0m\u001b[1;33m:\u001b[0m\u001b[1;34m'docHit'\u001b[0m\u001b[1;33m}\u001b[0m\u001b[1;33m)\u001b[0m\u001b[1;33m[\u001b[0m\u001b[1;36m0\u001b[0m\u001b[1;33m]\u001b[0m\u001b[1;33m\u001b[0m\u001b[0m\n\u001b[0m\u001b[0;32m      3\u001b[0m \u001b[0mlen\u001b[0m\u001b[1;33m(\u001b[0m\u001b[0mres\u001b[0m\u001b[1;33m.\u001b[0m\u001b[0mcontents\u001b[0m\u001b[1;33m[\u001b[0m\u001b[1;36m0\u001b[0m\u001b[1;33m]\u001b[0m\u001b[1;33m.\u001b[0m\u001b[0mcontents\u001b[0m\u001b[1;33m[\u001b[0m\u001b[1;36m0\u001b[0m\u001b[1;33m]\u001b[0m\u001b[1;33m)\u001b[0m\u001b[1;33m\u001b[0m\u001b[0m\n\u001b[0;32m      4\u001b[0m \u001b[0mlen\u001b[0m\u001b[1;33m(\u001b[0m\u001b[0mres\u001b[0m\u001b[1;33m.\u001b[0m\u001b[0mcontents\u001b[0m\u001b[1;33m[\u001b[0m\u001b[1;36m1\u001b[0m\u001b[1;33m]\u001b[0m\u001b[1;33m.\u001b[0m\u001b[0mcontents\u001b[0m\u001b[1;33m[\u001b[0m\u001b[1;36m0\u001b[0m\u001b[1;33m]\u001b[0m\u001b[1;33m)\u001b[0m\u001b[1;33m\u001b[0m\u001b[0m\n\u001b[0;32m      5\u001b[0m \u001b[0mlen\u001b[0m\u001b[1;33m(\u001b[0m\u001b[0mres\u001b[0m\u001b[1;33m.\u001b[0m\u001b[0mcontents\u001b[0m\u001b[1;33m[\u001b[0m\u001b[1;36m2\u001b[0m\u001b[1;33m]\u001b[0m\u001b[1;33m.\u001b[0m\u001b[0mcontents\u001b[0m\u001b[1;33m[\u001b[0m\u001b[1;36m0\u001b[0m\u001b[1;33m]\u001b[0m\u001b[1;33m)\u001b[0m\u001b[1;33m\u001b[0m\u001b[0m\n",
        "\u001b[1;31mNameError\u001b[0m: name 'soup' is not defined"
       ]
      }
     ],
     "prompt_number": 27
    },
    {
     "cell_type": "code",
     "collapsed": false,
     "input": [
      "#alternative\n",
      "res = soup.findAll('td', {'class':'docHit'})\n",
      "df = pd.read_html(str(res))\n",
      "#not working properly"
     ],
     "language": "python",
     "metadata": {},
     "outputs": [],
     "prompt_number": 154
    },
    {
     "cell_type": "code",
     "collapsed": false,
     "input": [
      "#alternative, reads one table\n",
      "res = soup.findAll('div', {'id':'main_5'})\n",
      "df = pd.read_html(str(res))\n",
      "#not working properly"
     ],
     "language": "python",
     "metadata": {},
     "outputs": [],
     "prompt_number": 156
    }
   ],
   "metadata": {}
  }
 ]
}