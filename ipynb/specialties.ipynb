{
 "metadata": {
  "name": "",
  "signature": "sha256:7b8f116b6d5890871a1b73d2dc1cb4b63370d784166110151f660bf40da75dfe"
 },
 "nbformat": 3,
 "nbformat_minor": 0,
 "worksheets": [
  {
   "cells": [
    {
     "cell_type": "markdown",
     "metadata": {},
     "source": [
      "This notebook is dedicated to analysis of specialties related to disciplines"
     ]
    },
    {
     "cell_type": "code",
     "collapsed": false,
     "input": [
      "url = 'http://www.abms.org/who_we_help/physicians/specialties.aspx'"
     ],
     "language": "python",
     "metadata": {},
     "outputs": [],
     "prompt_number": 2
    }
   ],
   "metadata": {}
  }
 ]
}