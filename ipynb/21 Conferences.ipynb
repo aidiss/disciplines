{
 "worksheets": [
  {
   "cells": [
    {
     "cell_type": "markdown",
     "metadata": {},
     "source": [
      "Conferences are one of more interesting phenomenon to researchers in field of studies of sciences and technology. Scholars meet in conferences they exchange ideas, make presentations, establish contacts and partnerships. Who knows what else is happening.\n",
      "\n",
      "Here we will analyze some conference and how to get data about them."
     ]
    },
    {
     "cell_type": "code",
     "execution_count": null,
     "metadata": {},
     "outputs": [],
     "input": [
      "from disciplines.data import conferences"
     ],
     "language": "python",
     "prompt_number": 1
    },
    {
     "cell_type": "code",
     "execution_count": null,
     "metadata": {},
     "outputs": [
      {
       "prompt_number": 2,
       "metadata": {},
       "output_type": "pyout",
       "text": [
        "[('conference_alerts',\n",
        "  <function disciplines.data.conferences.conference_alerts>),\n",
        " ('wikicfp', <function disciplines.data.conferences.wikicfp>)]"
       ]
      }
     ],
     "input": [
      "import inspect\n",
      "inspect.getmembers(conferences, inspect.isfunction)"
     ],
     "language": "python",
     "prompt_number": 2
    },
    {
     "cell_type": "heading",
     "metadata": {},
     "level": 1,
     "source": [
      "STS conferences"
     ]
    },
    {
     "cell_type": "markdown",
     "metadata": {},
     "source": [
      "At some moment we would like to know about where information about conference is comming from. Currently we can do that by using conferences.listings command. "
     ]
    },
    {
     "cell_type": "code",
     "execution_count": null,
     "metadata": {},
     "outputs": [
      {
       "prompt_number": 3,
       "metadata": {},
       "output_type": "pyout",
       "text": [
        "['grc', 'faseb', 'all_conferences', 'conference_alerts', 'wikicfp']"
       ]
      }
     ],
     "input": [
      "conferences.listings"
     ],
     "language": "python",
     "prompt_number": 3
    },
    {
     "cell_type": "markdown",
     "metadata": {},
     "source": [
      "As you can see currently we have 5 sources: 'grc', 'faseb', 'all_conferences', 'conference_alerts', 'wikicfp'. We can use them to get data about conferences.\n",
      "\n",
      "implement! data source has to be commented regarding how information cna be obtained. Do they provide xmls? rss feeds? anything else?"
     ]
    },
    {
     "cell_type": "code",
     "execution_count": null,
     "metadata": {},
     "outputs": [
      {
       "stream": "stdout",
       "output_type": "stream",
       "text": [
        "['things available', 'name', 'disciplines', 'url', \"'Possibility to show only new meeting's\", 'Categories']\n",
        "['xml', 'name', 'url', 'xml_url', 'url1', 'structure']\n",
        "['url', 'name', 'structure', 'Categories']\n"
       ]
      }
     ],
     "input": [
      "#as you can see, currently this is not well structured.\n",
      "for x in range(len(conferences.thedict)):\n",
      "    print conferences.thedict[x].keys()"
     ],
     "language": "python",
     "prompt_number": 4
    },
    {
     "cell_type": "heading",
     "metadata": {},
     "level": 2,
     "source": [
      "GRC and conference listings"
     ]
    },
    {
     "cell_type": "markdown",
     "metadata": {},
     "source": [
      "There are some others things that we are aware about different conference databases. These databases cattegorize research into different fields."
     ]
    },
    {
     "cell_type": "code",
     "execution_count": null,
     "metadata": {},
     "outputs": [
      {
       "prompt_number": 5,
       "metadata": {},
       "output_type": "pyout",
       "text": [
        "['biophisics',\n",
        " 'astrophysics',\n",
        " 'atomic physics',\n",
        " 'biological chemistry',\n",
        " 'computation',\n",
        " 'condesned matter phsyics and nanostructures',\n",
        " 'developmental systems',\n",
        " 'environment and evolution',\n",
        " 'inorganic chemistry',\n",
        " 'instrumentation',\n",
        " 'materials',\n",
        " 'microbes and viruses',\n",
        " 'molecular cell biology',\n",
        " 'neurobiology',\n",
        " 'optical physics',\n",
        " 'organic chemistry',\n",
        " 'other',\n",
        " 'pathology',\n",
        " 'pharmacology and therapeutics',\n",
        " 'science education',\n",
        " 'science policy']"
       ]
      }
     ],
     "input": [
      "conferences.thedict[0]['Categories']"
     ],
     "language": "python",
     "prompt_number": 5
    },
    {
     "cell_type": "heading",
     "metadata": {},
     "level": 2,
     "source": [
      "FASEB and how to use links"
     ]
    },
    {
     "cell_type": "markdown",
     "metadata": {},
     "source": [
      "Lets look into other FASEB database, what is the structure?"
     ]
    },
    {
     "cell_type": "code",
     "execution_count": null,
     "metadata": {},
     "outputs": [
      {
       "prompt_number": 6,
       "metadata": {},
       "output_type": "pyout",
       "text": [
        "('faseb', ['Title', 'Link', 'Description', 'Startdate'])"
       ]
      }
     ],
     "input": [
      "conferences.thedict[1]['name'], conferences.thedict[1]['structure']"
     ],
     "language": "python",
     "prompt_number": 6
    },
    {
     "cell_type": "markdown",
     "metadata": {},
     "source": [
      "The information above was manually added by looking at the website."
     ]
    },
    {
     "cell_type": "markdown",
     "metadata": {},
     "source": [
      "We can see whether xml is available and lookin into urls by using xml and xml_url keys."
     ]
    },
    {
     "cell_type": "code",
     "execution_count": null,
     "metadata": {},
     "outputs": [
      {
       "prompt_number": 7,
       "metadata": {},
       "output_type": "pyout",
       "text": [
        "(True, 'http://www.faseb.org/ListXML.aspx?Type=rss&Content=EventsSRC')"
       ]
      }
     ],
     "input": [
      "conferences.thedict[1]['xml'], conferences.thedict[1]['xml_url']"
     ],
     "language": "python",
     "prompt_number": 7
    },
    {
     "cell_type": "markdown",
     "metadata": {},
     "source": [
      "Urls can be accessed by using urls "
     ]
    },
    {
     "cell_type": "code",
     "execution_count": null,
     "metadata": {},
     "outputs": [
      {
       "prompt_number": 8,
       "metadata": {},
       "output_type": "pyout",
       "text": [
        "('http://www.faseb.org/science-research-conferences.aspx',\n",
        " 'https://secure.faseb.org/FASEB/meetings/summrconf/selecttopic.aspx')"
       ]
      }
     ],
     "input": [
      "conferences.thedict[1]['url'], conferences.thedict[1]['url1']"
     ],
     "language": "python",
     "prompt_number": 8
    },
    {
     "cell_type": "heading",
     "metadata": {},
     "level": 1,
     "source": [
      "Conference alerts"
     ]
    },
    {
     "cell_type": "code",
     "execution_count": null,
     "metadata": {},
     "outputs": [
      {
       "prompt_number": 9,
       "metadata": {},
       "output_type": "pyout",
       "text": [
        "[['Social Sciences and Humanities'],\n",
        " ['Interdisciplinary'],\n",
        " ['Regional Studies'],\n",
        " ['Mathematics and statistics '],\n",
        " ['Business and Economics'],\n",
        " ['Physical and life sciences'],\n",
        " ['Engineering and Technology  '],\n",
        " ['Education'],\n",
        " ['Law'],\n",
        " ['Health and Medicine'],\n",
        " ['Animal Sciences']]"
       ]
      }
     ],
     "input": [
      "conference_alerts = conferences.conference_alerts()\n",
      "[x.keys() for x in conference_alerts]"
     ],
     "language": "python",
     "prompt_number": 9
    },
    {
     "cell_type": "markdown",
     "metadata": {},
     "source": [
      "We can look more into the classifications, lets look more into interdisciplinary."
     ]
    },
    {
     "cell_type": "code",
     "execution_count": null,
     "metadata": {},
     "outputs": [],
     "input": [
      "conference_alerts[1].values()"
     ],
     "language": "python",
     "prompt_number": 10
    },
    {
     "cell_type": "code",
     "execution_count": null,
     "metadata": {},
     "outputs": [],
     "input": [
      "import requests\n",
      "\n",
      "url = 'http://www.conferencealerts.com/search.php?page=1&ipp=All&searchTerm=&x=1&y=14'\n",
      "r = requests.get(url)\n",
      "#r.text"
     ],
     "language": "python",
     "prompt_number": 11
    },
    {
     "cell_type": "code",
     "execution_count": null,
     "metadata": {},
     "outputs": [],
     "input": [
      "from bs4 import BeautifulSoup\n",
      "soup = BeautifulSoup(r.text)\n",
      "conferences = soup.findAll('table', {'id':'searchResultTable'})[0].findAll('a')"
     ],
     "language": "python",
     "prompt_number": 12
    },
    {
     "cell_type": "code",
     "execution_count": null,
     "metadata": {},
     "outputs": [
      {
       "prompt_number": 13,
       "metadata": {},
       "output_type": "pyout",
       "text": [
        "3373"
       ]
      }
     ],
     "input": [
      "len(conferences)"
     ],
     "language": "python",
     "prompt_number": 13
    },
    {
     "cell_type": "code",
     "execution_count": null,
     "metadata": {},
     "outputs": [
      {
       "prompt_number": 14,
       "metadata": {},
       "output_type": "pyout",
       "text": [
        "[<a href=\"show-event?id=134128\">16th International Workshop on Co-morbidities and Adverse Drug Reactions in HIV</a>,\n",
        " <a href=\"show-event?id=138277\">International Conference on Applied Business Research - ICABR 2014</a>,\n",
        " <a href=\"show-event?id=139404\">Hosting + Cloud Transformation Summit North America</a>,\n",
        " <a href=\"show-event?id=136301\">Cancer Vaccines and Gene Therapy</a>,\n",
        " <a href=\"show-event?id=135937\" style=\"font-size: 120%; font-weight: bold;\">ICON-International Conference of Education, Humanities and Social Sciences ICES-14</a>]"
       ]
      }
     ],
     "input": [
      "conferences[0:5]"
     ],
     "language": "python",
     "prompt_number": 14
    },
    {
     "cell_type": "heading",
     "metadata": {},
     "level": 1,
     "source": [
      "HNET"
     ]
    },
    {
     "cell_type": "code",
     "execution_count": null,
     "metadata": {},
     "outputs": [],
     "input": [
      "https://www.h-net.org/announce/show.cgi?ID=123476"
     ],
     "language": "python"
    },
    {
     "cell_type": "heading",
     "metadata": {},
     "level": 2,
     "source": [
      "Future.."
     ]
    },
    {
     "cell_type": "markdown",
     "metadata": {},
     "source": [
      "- The entries discussed here should be put into a system. [link to issue]\n",
      "- Automatic identification of appearing databases. [link to issue]\n",
      "- Retrieval of information about conferences. [link to issue]"
     ]
    }
   ]
  }
 ],
 "cells": [],
 "metadata": {
  "name": "",
  "signature": "sha256:343d085711555f948338fd01c23e6e7fa2e2e6e5231dfb7aa78be6a85badaaf0"
 },
 "nbformat": 4,
 "nbformat_minor": 0
}