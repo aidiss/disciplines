{
 "cells": [
  {
   "cell_type": "markdown",
   "metadata": {},
   "source": [
    "Conferences are one of more interesting phenomenon to researchers in field of studies of sciences and technology. Scholars meet in conferences they exchange ideas, make presentations, establish contacts and partnerships. Who knows what else is happening.\n",
    "\n",
    "Here we will analyze some conference and how to get data about them."
   ]
  },
  {
   "cell_type": "code",
   "execution_count": 1,
   "metadata": {},
   "outputs": [],
   "source": [
    "from disciplines.data import conferences"
   ]
  },
  {
   "cell_type": "code",
   "execution_count": 2,
   "metadata": {},
   "outputs": [
    {
     "data": {
      "text/plain": [
       "[('conference_alerts',\n",
       "  <function disciplines.data.conferences.conference_alerts>),\n",
       " ('wikicfp', <function disciplines.data.conferences.wikicfp>)]"
      ]
     },
     "execution_count": 2,
     "metadata": {},
     "output_type": "execute_result"
    }
   ],
   "source": [
    "import inspect\n",
    "inspect.getmembers(conferences, inspect.isfunction)"
   ]
  },
  {
   "cell_type": "heading",
   "metadata": {},
   "level": 1,
   "source": [
    "STS conferences"
   ]
  },
  {
   "cell_type": "markdown",
   "metadata": {},
   "source": [
    "At some moment we would like to know about where information about conference is comming from. Currently we can do that by using conferences.listings command. "
   ]
  },
  {
   "cell_type": "code",
   "execution_count": 3,
   "metadata": {},
   "outputs": [
    {
     "data": {
      "text/plain": [
       "['grc', 'faseb', 'all_conferences', 'conference_alerts', 'wikicfp']"
      ]
     },
     "execution_count": 3,
     "metadata": {},
     "output_type": "execute_result"
    }
   ],
   "source": [
    "conferences.listings"
   ]
  },
  {
   "cell_type": "markdown",
   "metadata": {},
   "source": [
    "As you can see currently we have 5 sources: 'grc', 'faseb', 'all_conferences', 'conference_alerts', 'wikicfp'. We can use them to get data about conferences.\n",
    "\n",
    "implement! data source has to be commented regarding how information cna be obtained. Do they provide xmls? rss feeds? anything else?"
   ]
  },
  {
   "cell_type": "code",
   "execution_count": 4,
   "metadata": {},
   "outputs": [
    {
     "name": "stdout",
     "output_type": "stream",
     "text": [
      "['things available', 'name', 'disciplines', 'url', \"'Possibility to show only new meeting's\", 'Categories']\n",
      "['xml', 'name', 'url', 'xml_url', 'url1', 'structure']\n",
      "['url', 'name', 'structure', 'Categories']\n"
     ]
    }
   ],
   "source": [
    "#as you can see, currently this is not well structured.\n",
    "for x in range(len(conferences.thedict)):\n",
    "    print conferences.thedict[x].keys()"
   ]
  },
  {
   "cell_type": "heading",
   "metadata": {},
   "level": 2,
   "source": [
    "GRC and conference listings"
   ]
  },
  {
   "cell_type": "markdown",
   "metadata": {},
   "source": [
    "There are some others things that we are aware about different conference databases. These databases cattegorize research into different fields."
   ]
  },
  {
   "cell_type": "code",
   "execution_count": 5,
   "metadata": {},
   "outputs": [
    {
     "data": {
      "text/plain": [
       "['biophisics',\n",
       " 'astrophysics',\n",
       " 'atomic physics',\n",
       " 'biological chemistry',\n",
       " 'computation',\n",
       " 'condesned matter phsyics and nanostructures',\n",
       " 'developmental systems',\n",
       " 'environment and evolution',\n",
       " 'inorganic chemistry',\n",
       " 'instrumentation',\n",
       " 'materials',\n",
       " 'microbes and viruses',\n",
       " 'molecular cell biology',\n",
       " 'neurobiology',\n",
       " 'optical physics',\n",
       " 'organic chemistry',\n",
       " 'other',\n",
       " 'pathology',\n",
       " 'pharmacology and therapeutics',\n",
       " 'science education',\n",
       " 'science policy']"
      ]
     },
     "execution_count": 5,
     "metadata": {},
     "output_type": "execute_result"
    }
   ],
   "source": [
    "conferences.thedict[0]['Categories']"
   ]
  },
  {
   "cell_type": "heading",
   "metadata": {},
   "level": 2,
   "source": [
    "FASEB and how to use links"
   ]
  },
  {
   "cell_type": "markdown",
   "metadata": {},
   "source": [
    "Lets look into other FASEB database, what is the structure?"
   ]
  },
  {
   "cell_type": "code",
   "execution_count": 6,
   "metadata": {},
   "outputs": [
    {
     "data": {
      "text/plain": [
       "('faseb', ['Title', 'Link', 'Description', 'Startdate'])"
      ]
     },
     "execution_count": 6,
     "metadata": {},
     "output_type": "execute_result"
    }
   ],
   "source": [
    "conferences.thedict[1]['name'], conferences.thedict[1]['structure']"
   ]
  },
  {
   "cell_type": "markdown",
   "metadata": {},
   "source": [
    "The information above was manually added by looking at the website."
   ]
  },
  {
   "cell_type": "markdown",
   "metadata": {},
   "source": [
    "We can see whether xml is available and lookin into urls by using xml and xml_url keys."
   ]
  },
  {
   "cell_type": "code",
   "execution_count": 7,
   "metadata": {},
   "outputs": [
    {
     "data": {
      "text/plain": [
       "(True, 'http://www.faseb.org/ListXML.aspx?Type=rss&Content=EventsSRC')"
      ]
     },
     "execution_count": 7,
     "metadata": {},
     "output_type": "execute_result"
    }
   ],
   "source": [
    "conferences.thedict[1]['xml'], conferences.thedict[1]['xml_url']"
   ]
  },
  {
   "cell_type": "markdown",
   "metadata": {},
   "source": [
    "Urls can be accessed by using urls "
   ]
  },
  {
   "cell_type": "code",
   "execution_count": 8,
   "metadata": {},
   "outputs": [
    {
     "data": {
      "text/plain": [
       "('http://www.faseb.org/science-research-conferences.aspx',\n",
       " 'https://secure.faseb.org/FASEB/meetings/summrconf/selecttopic.aspx')"
      ]
     },
     "execution_count": 8,
     "metadata": {},
     "output_type": "execute_result"
    }
   ],
   "source": [
    "conferences.thedict[1]['url'], conferences.thedict[1]['url1']"
   ]
  },
  {
   "cell_type": "heading",
   "metadata": {},
   "level": 1,
   "source": [
    "Conference alerts"
   ]
  },
  {
   "cell_type": "code",
   "execution_count": 9,
   "metadata": {},
   "outputs": [
    {
     "data": {
      "text/plain": [
       "[['Social Sciences and Humanities'],\n",
       " ['Interdisciplinary'],\n",
       " ['Regional Studies'],\n",
       " ['Mathematics and statistics '],\n",
       " ['Business and Economics'],\n",
       " ['Physical and life sciences'],\n",
       " ['Engineering and Technology  '],\n",
       " ['Education'],\n",
       " ['Law'],\n",
       " ['Health and Medicine'],\n",
       " ['Animal Sciences']]"
      ]
     },
     "execution_count": 9,
     "metadata": {},
     "output_type": "execute_result"
    }
   ],
   "source": [
    "conference_alerts = conferences.conference_alerts()\n",
    "[x.keys() for x in conference_alerts]"
   ]
  },
  {
   "cell_type": "markdown",
   "metadata": {},
   "source": [
    "We can look more into the classifications, lets look more into interdisciplinary."
   ]
  },
  {
   "cell_type": "code",
   "execution_count": 10,
   "metadata": {},
   "outputs": [],
   "source": [
    "conference_alerts[1].values()"
   ]
  },
  {
   "cell_type": "code",
   "execution_count": 11,
   "metadata": {},
   "outputs": [],
   "source": [
    "import requests\n",
    "\n",
    "url = 'http://www.conferencealerts.com/search.php?page=1&ipp=All&searchTerm=&x=1&y=14'\n",
    "r = requests.get(url)\n",
    "#r.text"
   ]
  },
  {
   "cell_type": "code",
   "execution_count": 12,
   "metadata": {},
   "outputs": [],
   "source": [
    "from bs4 import BeautifulSoup\n",
    "soup = BeautifulSoup(r.text)\n",
    "conferences = soup.findAll('table', {'id':'searchResultTable'})[0].findAll('a')"
   ]
  },
  {
   "cell_type": "code",
   "execution_count": 13,
   "metadata": {},
   "outputs": [
    {
     "data": {
      "text/plain": [
       "3373"
      ]
     },
     "execution_count": 13,
     "metadata": {},
     "output_type": "execute_result"
    }
   ],
   "source": [
    "len(conferences)"
   ]
  },
  {
   "cell_type": "code",
   "execution_count": 14,
   "metadata": {},
   "outputs": [
    {
     "data": {
      "text/plain": [
       "[<a href=\"show-event?id=134128\">16th International Workshop on Co-morbidities and Adverse Drug Reactions in HIV</a>,\n",
       " <a href=\"show-event?id=138277\">International Conference on Applied Business Research - ICABR 2014</a>,\n",
       " <a href=\"show-event?id=139404\">Hosting + Cloud Transformation Summit North America</a>,\n",
       " <a href=\"show-event?id=136301\">Cancer Vaccines and Gene Therapy</a>,\n",
       " <a href=\"show-event?id=135937\" style=\"font-size: 120%; font-weight: bold;\">ICON-International Conference of Education, Humanities and Social Sciences ICES-14</a>]"
      ]
     },
     "execution_count": 14,
     "metadata": {},
     "output_type": "execute_result"
    }
   ],
   "source": [
    "conferences[0:5]"
   ]
  },
  {
   "cell_type": "heading",
   "metadata": {},
   "level": 1,
   "source": [
    "HNET"
   ]
  },
  {
   "cell_type": "code",
   "execution_count": null,
   "metadata": {},
   "outputs": [],
   "source": [
    "https://www.h-net.org/announce/show.cgi?ID=123476"
   ]
  },
  {
   "cell_type": "heading",
   "metadata": {},
   "level": 2,
   "source": [
    "Future.."
   ]
  },
  {
   "cell_type": "markdown",
   "metadata": {},
   "source": [
    "- The entries discussed here should be put into a system. [link to issue]\n",
    "- Automatic identification of appearing databases. [link to issue]\n",
    "- Retrieval of information about conferences. [link to issue]"
   ]
  }
 ],
 "metadata": {
  "name": "",
  "signature": "sha256:343d085711555f948338fd01c23e6e7fa2e2e6e5231dfb7aa78be6a85badaaf0"
 },
 "nbformat": 4,
 "nbformat_minor": 0
}