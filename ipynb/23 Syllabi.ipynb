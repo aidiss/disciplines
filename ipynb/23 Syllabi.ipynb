{
 "metadata": {
  "name": "",
  "signature": "sha256:988e1dac7ede28c8ae91882a23e56b2f140e1ff99768c5c080184ddf6950e966"
 },
 "nbformat": 3,
 "nbformat_minor": 0,
 "worksheets": [
  {
   "cells": [
    {
     "cell_type": "markdown",
     "metadata": {},
     "source": [
      "Syllabi is very important aspect of disciplinary workings.\n",
      "In this notebook we will work on a syllabi database that is provided by someone.\n",
      "We will also develop an algorithm that will look for syllabis."
     ]
    },
    {
     "cell_type": "markdown",
     "metadata": {},
     "source": [
      "Lets try \"One million syllabi\" and \"Open syllabus project\""
     ]
    },
    {
     "cell_type": "heading",
     "level": 1,
     "metadata": {},
     "source": [
      "One million syllabus"
     ]
    },
    {
     "cell_type": "markdown",
     "metadata": {},
     "source": [
      "One million syllabi is a project by Dan. It hold about one million of sillabi in an sql format that can be glimpsed into. http://www.dancohen.org/2011/03/30/a-million-syllabi/ In this workbook we will try to look into the dataset."
     ]
    },
    {
     "cell_type": "code",
     "collapsed": false,
     "input": [
      "url = r'd:\\Desktop\\Desk 2014 09\\week1\\chnm_syllabus_finder_corpus_2011-03-30.sql'"
     ],
     "language": "python",
     "metadata": {},
     "outputs": [],
     "prompt_number": 8
    },
    {
     "cell_type": "code",
     "collapsed": false,
     "input": [
      "import sqlite3\n",
      "conn = sqlite3.connect(url)\n",
      "c = conn.cursor()"
     ],
     "language": "python",
     "metadata": {},
     "outputs": [],
     "prompt_number": 9
    },
    {
     "cell_type": "code",
     "collapsed": false,
     "input": [
      "conn.close()"
     ],
     "language": "python",
     "metadata": {},
     "outputs": [],
     "prompt_number": 10
    },
    {
     "cell_type": "code",
     "collapsed": false,
     "input": [
      "c.execute('SELECT * FROM stocks WHERE symbol=?')"
     ],
     "language": "python",
     "metadata": {},
     "outputs": [
      {
       "ename": "ProgrammingError",
       "evalue": "Cannot operate on a closed database.",
       "output_type": "pyerr",
       "traceback": [
        "\u001b[1;31m---------------------------------------------------------------------------\u001b[0m\n\u001b[1;31mProgrammingError\u001b[0m                          Traceback (most recent call last)",
        "\u001b[1;32m<ipython-input-11-98db7bbc9be8>\u001b[0m in \u001b[0;36m<module>\u001b[1;34m()\u001b[0m\n\u001b[1;32m----> 1\u001b[1;33m \u001b[0mc\u001b[0m\u001b[1;33m.\u001b[0m\u001b[0mexecute\u001b[0m\u001b[1;33m(\u001b[0m\u001b[1;34m'SELECT * FROM stocks WHERE symbol=?'\u001b[0m\u001b[1;33m)\u001b[0m\u001b[1;33m\u001b[0m\u001b[0m\n\u001b[0m",
        "\u001b[1;31mProgrammingError\u001b[0m: Cannot operate on a closed database."
       ]
      }
     ],
     "prompt_number": 11
    },
    {
     "cell_type": "code",
     "collapsed": false,
     "input": [
      "f = open(url)"
     ],
     "language": "python",
     "metadata": {},
     "outputs": [],
     "prompt_number": 5
    },
    {
     "cell_type": "code",
     "collapsed": false,
     "input": [
      "f.read()"
     ],
     "language": "python",
     "metadata": {},
     "outputs": [
      {
       "metadata": {},
       "output_type": "pyout",
       "prompt_number": 6,
       "text": [
        "<repr(<str at 0x1eca0020>) failed: OverflowError: string is too large to make repr>"
       ]
      }
     ],
     "prompt_number": 6
    },
    {
     "cell_type": "code",
     "collapsed": false,
     "input": [
      "f"
     ],
     "language": "python",
     "metadata": {},
     "outputs": [
      {
       "metadata": {},
       "output_type": "pyout",
       "prompt_number": 7,
       "text": [
        "<open file 'd:\\\\Desktop\\\\Desk 2014 09\\\\week1\\\\chnm_syllabus_finder_corpus_2011-03-30.sql', mode 'r' at 0x03482288>"
       ]
      }
     ],
     "prompt_number": 7
    },
    {
     "cell_type": "markdown",
     "metadata": {},
     "source": [
      "Some publications are available about the issues\n",
      "\n",
      "http://scholarworks.lib.csusb.edu/ciima/vol8/iss1/2/?utm_source=scholarworks.lib.csusb.edu%2Fciima%2Fvol8%2Fiss1%2F2&utm_medium=PDF&utm_campaign=PDFCoverPages\n"
     ]
    },
    {
     "cell_type": "heading",
     "level": 1,
     "metadata": {},
     "source": [
      "Open Syllabus Project"
     ]
    },
    {
     "cell_type": "markdown",
     "metadata": {},
     "source": [
      "The project is available at http://opensyllabusproject.org/\n",
      "Also, github repository is available at https://github.com/opensyllabus\n",
      "There is an irc chat at freenode.\n",
      "Twitter '@opensyllabusproject'"
     ]
    }
   ],
   "metadata": {}
  }
 ]
}