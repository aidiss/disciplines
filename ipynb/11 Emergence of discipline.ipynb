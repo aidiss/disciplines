{
 "metadata": {
  "name": "",
  "signature": "sha256:7108e26b8818909690a067c0e41ab978cdbb49f44757ece70d68c2f9209dead4"
 },
 "nbformat": 3,
 "nbformat_minor": 0,
 "worksheets": [
  {
   "cells": [
    {
     "cell_type": "heading",
     "level": 1,
     "metadata": {},
     "source": [
      "Emergence"
     ]
    },
    {
     "cell_type": "markdown",
     "metadata": {},
     "source": [
      "This notebook will teach you how to use disciplines \n",
      "for the analysis of particular theory. \n",
      "Here we will see theory of emergence."
     ]
    },
    {
     "cell_type": "markdown",
     "metadata": {},
     "source": [
      "First, lets import the theory."
     ]
    },
    {
     "cell_type": "code",
     "collapsed": false,
     "input": [
      "from disciplines.theory import emergence"
     ],
     "language": "python",
     "metadata": {},
     "outputs": [],
     "prompt_number": 1
    },
    {
     "cell_type": "markdown",
     "metadata": {},
     "source": [
      "We can get the basic information about theory from its docstring."
     ]
    },
    {
     "cell_type": "code",
     "collapsed": false,
     "input": [
      "print emergence.__doc__"
     ],
     "language": "python",
     "metadata": {},
     "outputs": [
      {
       "output_type": "stream",
       "stream": "stdout",
       "text": [
        " Emergence of discipline \n",
        "\n",
        "This module is an implementation of theoretical work by Ziman.\n",
        "It checks a stage of development and contains multiple functions \n",
        "designed for looking for evidence of stage of emergence.\n",
        "\n",
        "Vars:\n",
        "    author\n",
        "    concepts\n",
        "    data\n",
        "    claim\n",
        "    theory\n",
        "    approach\n",
        "\n"
       ]
      }
     ],
     "prompt_number": 2
    },
    {
     "cell_type": "markdown",
     "metadata": {},
     "source": [
      "The docstring above is written manually, in the future editions it will be generated from the data associated with the module."
     ]
    },
    {
     "cell_type": "heading",
     "level": 2,
     "metadata": {},
     "source": [
      "Authors"
     ]
    },
    {
     "cell_type": "markdown",
     "metadata": {},
     "source": [
      "Now lets see who are the authors associated with the disciplines."
     ]
    },
    {
     "cell_type": "code",
     "collapsed": false,
     "input": [
      "emergence.authors"
     ],
     "language": "python",
     "metadata": {},
     "outputs": [
      {
       "metadata": {},
       "output_type": "pyout",
       "prompt_number": 3,
       "text": [
        "['Ziman']"
       ]
      }
     ],
     "prompt_number": 3
    },
    {
     "cell_type": "markdown",
     "metadata": {},
     "source": [
      "both *author* and *authors* work in the same way."
     ]
    },
    {
     "cell_type": "heading",
     "level": 2,
     "metadata": {},
     "source": [
      "Concepts"
     ]
    },
    {
     "cell_type": "markdown",
     "metadata": {},
     "source": [
      "You can get list of concepts used within theory like this.\n",
      "For this moment, the list of concept was extracted manually by reading the theory itself. However, in future versions of *disciplines* we will try to automatize extraction of main concepts of the text. That will likely be done by using NLP algorithms. I have seen some but I cannot give names for now.\n",
      "So, what concepts are used in emergence theory? (For now we use only concepts that are used by Ziman.)"
     ]
    },
    {
     "cell_type": "code",
     "collapsed": false,
     "input": [
      "emergence.concepts"
     ],
     "language": "python",
     "metadata": {},
     "outputs": [
      {
       "metadata": {},
       "output_type": "pyout",
       "prompt_number": 4,
       "text": [
        "['nodal point',\n",
        " 'organize little research conferences',\n",
        " 'hierarchy of authority',\n",
        " 'association develops into a learned society',\n",
        " 'newsletter becomes reputable primary journal',\n",
        " 'primary journal']"
       ]
      }
     ],
     "prompt_number": 4
    },
    {
     "cell_type": "markdown",
     "metadata": {},
     "source": [
      "Also, concepts here should be defined. Two types of definitions should be available:\n",
      "\n",
      "    a) on definitions by the author and \n",
      "    b) by general consensus use of definitions. \n",
      "In both cases we can look into. [Term extraction](term extraction.ipynb)."
     ]
    },
    {
     "cell_type": "heading",
     "level": 2,
     "metadata": {},
     "source": [
      "Data"
     ]
    },
    {
     "cell_type": "markdown",
     "metadata": {},
     "source": [
      "In theory of emergence of disciplines, as in any other theory, we have some ideas about what kind of data we need. The theories data requirements were extracted from text itself.\n",
      "Datatypes can be access like this:"
     ]
    },
    {
     "cell_type": "code",
     "collapsed": false,
     "input": [
      "emergence.data"
     ],
     "language": "python",
     "metadata": {},
     "outputs": [
      {
       "metadata": {},
       "output_type": "pyout",
       "prompt_number": 6,
       "text": [
        "['citation network', 'journal', 'newsletter', 'conference participants']"
       ]
      }
     ],
     "prompt_number": 6
    },
    {
     "cell_type": "markdown",
     "metadata": {},
     "source": [
      "Based on this list, scripts can understand, what kind of data will have to be prepared from database and other locations. \n",
      "\n",
      "In this case we will might need network of citations, list of journals, newsletters, and conferences. \n",
      "\n",
      "Still, this list is problematic because it does not provide full information what kind of aspects we will need. \n",
      "For example, it is not written that we will need list of conferences, but this can be deduced from the fact that we will need list of conference participants.\n",
      "\n",
      "Also, we do not know why we need list of journals"
     ]
    },
    {
     "cell_type": "markdown",
     "metadata": {},
     "source": [
      "[data](data.ipynb)"
     ]
    },
    {
     "cell_type": "heading",
     "level": 2,
     "metadata": {},
     "source": [
      "Theory"
     ]
    },
    {
     "cell_type": "markdown",
     "metadata": {},
     "source": [
      "The description of particular theory can be retrieved."
     ]
    },
    {
     "cell_type": "code",
     "collapsed": false,
     "input": [
      "print emergence.theory"
     ],
     "language": "python",
     "metadata": {},
     "outputs": [
      {
       "output_type": "stream",
       "stream": "stdout",
       "text": [
        "\n",
        "    1. Emerging specialty is only observable as a nodal point in the network of \n",
        "    citations. \n",
        "    2. Scientists whose research is associated with this co-citation cluster \n",
        "    organize little research conferences to discuss their common interests, or are \n",
        "    commissioned to write articles for a special issues of a primary journal \n",
        "    drawing attention to progress in this particular problem area. \n",
        "    3. An \u2018invisible college\u2019 begins to condense out, in the form, say, of a semi-\n",
        "    official association held together by further conferences, the regular \n",
        "    exchange of pre-prints and re-prints and the publication of an informal \n",
        "    \u2018newsletter\u2019. \n",
        "    4. The association develops into a regular learned society, whose newsletter \n",
        "    has become a reputable primary journal. \n",
        "    5. A hierarch of authority is soon set up to preside over conferences, edit \n",
        "    journals, allocate resources, and confer recognition on the members of the new\n",
        "    discipline.\n",
        "    \n"
       ]
      }
     ],
     "prompt_number": 5
    },
    {
     "cell_type": "markdown",
     "metadata": {},
     "source": [
      "Currently it is only a text that was used to formulate the claims. That is going to be changed.\n",
      "\n",
      "In future, theory will be associated with many related texts and particular extracts from them.\n",
      "For now, we will have only this extract as it is dense enough to continue with.\n",
      "\n",
      "But, before we continue, let's look into description of our approach."
     ]
    },
    {
     "cell_type": "code",
     "collapsed": false,
     "input": [
      "print emergence.approach"
     ],
     "language": "python",
     "metadata": {},
     "outputs": [
      {
       "output_type": "stream",
       "stream": "stdout",
       "text": [
        "\n",
        "    The object of analysis is easy to specify when it comes to first point. It is \n",
        "    some citations. In second point we have to identify a) scientists associated \n",
        "    with citation cluster, b) conferences. Or and to look for special issues of \n",
        "    primary journals. It is hard to identify third point as we would need to \n",
        "    find \"invisible college\", exchange of pre-prints nadd reprits. But, it is \n",
        "    possible to find some newsletters. The fourth step is straightforward, it is \n",
        "    rather easy to identify learned society when it already exists, the same about \n",
        "    the journal. The fifth. Who presides over conferences, who edit journal and \n",
        "    who allocate resources and confer recognition is easy to get. Most of this \n",
        "    information can be get online.\n",
        "    Several strategies are available to do such things. It depends what we want to \n",
        "    do. The later stage of development the easier is to get data. However, even \n",
        "    when it comes to finding NPNOC it can be accomplished.\n",
        "    Other thing to consider is the starting point of research. Whether to start \n",
        "    from specific disciplines or just run over all. The first type is easier to \n",
        "    do, but then we would come to a problem of integrating the data. The second \n",
        "    approach is harder to do but is better one. For know, I think the best way to \n",
        "    go is to have small case studies, built on earlier research, and follow by \n",
        "    constructing the overarching algorithms.\n",
        "    Functionality: identification of turning points of development of a discipline \n",
        "    by identifying NPNOC, people, conferences and etc date is the prime focus.\n",
        "    \n"
       ]
      }
     ],
     "prompt_number": 6
    },
    {
     "cell_type": "markdown",
     "metadata": {},
     "source": [
      "The part is totally written by humans. This is part that glues all hard-to-related aspects of developing this theory.\n",
      "At this point I hardly imagine that this is going to be done automatically.\n",
      "\n",
      "However, we plan to get this into stage where text written here could be interpreted with NLP and necessery actions might be proposed.\n",
      "Still, we have a loong way till that. Why? Well, maybe not that long."
     ]
    },
    {
     "cell_type": "markdown",
     "metadata": {},
     "source": [
      "In every theory we have little details that it is made of. Every sentence or paragrah can be implemented as little code. All of them should be stored as lists, dictionaries, functions and objects. For now, let's look at functions that are already available."
     ]
    },
    {
     "cell_type": "code",
     "collapsed": false,
     "input": [
      "import inspect\n",
      "all_functions = inspect.getmembers(emergence, inspect.isfunction)\n",
      "[x[0] for x in all_functions]"
     ],
     "language": "python",
     "metadata": {},
     "outputs": [
      {
       "metadata": {},
       "output_type": "pyout",
       "prompt_number": 7,
       "text": [
        "['detect_emergences',\n",
        " 'detect_hierarchy_of_authority',\n",
        " 'detect_regular_learned_society',\n",
        " 'get_conferences_organized_by_cluster',\n",
        " 'get_invisible_college',\n",
        " 'get_regular_exchange_of_pre_prints',\n",
        " 'get_special_issues_of_a_primary_journal',\n",
        " 'is_emergence_state',\n",
        " 'is_stage',\n",
        " 'observe_nodal_points',\n",
        " 'recreate_emerge',\n",
        " 'reputable_primary_journals',\n",
        " 'what_emergence_state',\n",
        " 'who_confers_recognition',\n",
        " 'who_edits_journals',\n",
        " 'who_presides_over_conferences']"
       ]
      }
     ],
     "prompt_number": 7
    },
    {
     "cell_type": "heading",
     "level": 2,
     "metadata": {},
     "source": [
      "To work"
     ]
    },
    {
     "cell_type": "markdown",
     "metadata": {},
     "source": [
      "lets get back to data types that are required to test the theory."
     ]
    },
    {
     "cell_type": "code",
     "collapsed": false,
     "input": [
      "emergence.data"
     ],
     "language": "python",
     "metadata": {},
     "outputs": [
      {
       "metadata": {},
       "output_type": "pyout",
       "prompt_number": 8,
       "text": [
        "['citation network', 'journal', 'newsletter', 'conference participants']"
       ]
      }
     ],
     "prompt_number": 8
    },
    {
     "cell_type": "markdown",
     "metadata": {},
     "source": [
      "Now lets look whether our current database has any of the following data required."
     ]
    },
    {
     "cell_type": "code",
     "collapsed": false,
     "input": [
      "from data import availability\n",
      "availability('citation network') #return all datasets that fulfill criteria of citation network.\n",
      "availability('journal') #return all datasets that fulfill criteria of citation network.\n",
      "# Problem, a more specific set is required, not a journal, but special editions, in which a particular set of resarchers are going\n",
      "availability('newsletter') #check whether historic account of newsletter available.\n",
      "availability('conference participants') #check whether historic account of newsletter available."
     ],
     "language": "python",
     "metadata": {},
     "outputs": [
      {
       "ename": "ImportError",
       "evalue": "No module named data",
       "output_type": "pyerr",
       "traceback": [
        "\u001b[1;31m---------------------------------------------------------------------------\u001b[0m\n\u001b[1;31mImportError\u001b[0m                               Traceback (most recent call last)",
        "\u001b[1;32m<ipython-input-9-f22606a24aa7>\u001b[0m in \u001b[0;36m<module>\u001b[1;34m()\u001b[0m\n\u001b[1;32m----> 1\u001b[1;33m \u001b[1;32mfrom\u001b[0m \u001b[0mdata\u001b[0m \u001b[1;32mimport\u001b[0m \u001b[0mavailability\u001b[0m\u001b[1;33m\u001b[0m\u001b[0m\n\u001b[0m\u001b[0;32m      2\u001b[0m \u001b[0mavailability\u001b[0m\u001b[1;33m(\u001b[0m\u001b[1;34m'citation network'\u001b[0m\u001b[1;33m)\u001b[0m \u001b[1;31m#return all datasets that fulfill criteria of citation network.\u001b[0m\u001b[1;33m\u001b[0m\u001b[0m\n\u001b[0;32m      3\u001b[0m \u001b[0mavailability\u001b[0m\u001b[1;33m(\u001b[0m\u001b[1;34m'journal'\u001b[0m\u001b[1;33m)\u001b[0m \u001b[1;31m#return all datasets that fulfill criteria of citation network.\u001b[0m\u001b[1;33m\u001b[0m\u001b[0m\n\u001b[0;32m      4\u001b[0m \u001b[1;31m# Problem, a more specific set is required, not a journal, but special editions, in which a particular set of resarchers are going\u001b[0m\u001b[1;33m\u001b[0m\u001b[1;33m\u001b[0m\u001b[0m\n\u001b[0;32m      5\u001b[0m \u001b[0mavailability\u001b[0m\u001b[1;33m(\u001b[0m\u001b[1;34m'newsletter'\u001b[0m\u001b[1;33m)\u001b[0m \u001b[1;31m#check whether historic account of newsletter available.\u001b[0m\u001b[1;33m\u001b[0m\u001b[0m\n",
        "\u001b[1;31mImportError\u001b[0m: No module named data"
       ]
      }
     ],
     "prompt_number": 9
    },
    {
     "cell_type": "markdown",
     "metadata": {},
     "source": [
      "We have found that only citation network  and hierarchy of a journal exists. Therefore we will continue the reseach based on available information."
     ]
    },
    {
     "cell_type": "code",
     "collapsed": false,
     "input": [
      "url = 'd:\\Desktop\\DBLP_Citation_2014_May\\publications.txt'"
     ],
     "language": "python",
     "metadata": {},
     "outputs": [],
     "prompt_number": 10
    },
    {
     "cell_type": "code",
     "collapsed": false,
     "input": [
      "with open(url) as infile:\n",
      "    count = 0\n",
      "    mylist = []\n",
      "    thelist = []\n",
      "    for line in infile:\n",
      "        count += 1\n",
      "        if count == 1:\n",
      "            mylist.append(line)\n",
      "        if count == 2:\n",
      "            mylist.append(line)\n",
      "        if count == 3:\n",
      "            mylist.append(line)\n",
      "        if count == 4:\n",
      "            mylist.append(line)\n",
      "        if count == 5:\n",
      "            mylist.append(line)\n",
      "        if count == 6:\n",
      "            mylist.append(line)\n",
      "        if count == 7:\n",
      "            mylist.append(line)\n",
      "        if count == 8:\n",
      "            thelist.append(mylist)\n",
      "            mylist = []\n",
      "            count = 0\n",
      "        #do_something_with(line)"
     ],
     "language": "python",
     "metadata": {},
     "outputs": [],
     "prompt_number": 11
    },
    {
     "cell_type": "code",
     "collapsed": false,
     "input": [
      "len(thelist)"
     ],
     "language": "python",
     "metadata": {},
     "outputs": [
      {
       "metadata": {},
       "output_type": "pyout",
       "prompt_number": 12,
       "text": [
        "2599712"
       ]
      }
     ],
     "prompt_number": 12
    },
    {
     "cell_type": "code",
     "collapsed": false,
     "input": [
      "thelist[2]"
     ],
     "language": "python",
     "metadata": {},
     "outputs": [
      {
       "metadata": {},
       "output_type": "pyout",
       "prompt_number": 14,
       "text": [
        "['#*Overview of the ADDS System.\\n',\n",
        " '#@Yuri Breitbart,Tom C. Reyes\\n',\n",
        " '#t1995\\n',\n",
        " '#cModern Database Systems\\n',\n",
        " '#index4\\n',\n",
        " '#% \\n',\n",
        " '#!\\n']"
       ]
      }
     ],
     "prompt_number": 14
    },
    {
     "cell_type": "code",
     "collapsed": false,
     "input": [
      "url = 'd:\\Desktop\\DBLP_Citation_2014_May\\domains'\n",
      "\n",
      "def get_citations(url):\n",
      "    print 'reading {}'.format(link)\n",
      "    with open(url) as infile:\n",
      "        mylist = []\n",
      "        thelist = []\n",
      "        for line in infile:\n",
      "            mylist.append(line)\n",
      "            if '  \\n' in line:\n",
      "                mylist.pop()\n",
      "                thelist.append(mylist)\n",
      "                mylist = []\n",
      "    return thelist\n",
      "\n",
      "list_of_lists = []\n",
      "for x in os.listdir(url):\n",
      "    link = '\\\\'.join([url,x])\n",
      "    citations = get_citations(link)\n",
      "    list_of_lists.append(citations)\n",
      "\n",
      "len(list_of_lists)"
     ],
     "language": "python",
     "metadata": {},
     "outputs": [
      {
       "output_type": "stream",
       "stream": "stdout",
       "text": [
        "reading d:\\Desktop\\DBLP_Citation_2014_May\\domains\\Artificial intelligence.txt\n",
        "reading d:\\Desktop\\DBLP_Citation_2014_May\\domains\\Compter graphics_Multimedia.txt"
       ]
      },
      {
       "output_type": "stream",
       "stream": "stdout",
       "text": [
        "\n",
        "reading d:\\Desktop\\DBLP_Citation_2014_May\\domains\\Computer networks.txt"
       ]
      },
      {
       "output_type": "stream",
       "stream": "stdout",
       "text": [
        "\n",
        "reading d:\\Desktop\\DBLP_Citation_2014_May\\domains\\Database_Data mining_Information retrieval.txt"
       ]
      },
      {
       "output_type": "stream",
       "stream": "stdout",
       "text": [
        "\n",
        "reading d:\\Desktop\\DBLP_Citation_2014_May\\domains\\High-Performance Computing.txt"
       ]
      },
      {
       "output_type": "stream",
       "stream": "stdout",
       "text": [
        "\n",
        "reading d:\\Desktop\\DBLP_Citation_2014_May\\domains\\Human computer interaction_Ubiquitous computing.txt"
       ]
      },
      {
       "output_type": "stream",
       "stream": "stdout",
       "text": [
        "\n",
        "reading d:\\Desktop\\DBLP_Citation_2014_May\\domains\\Information security.txt\n",
        "reading d:\\Desktop\\DBLP_Citation_2014_May\\domains\\Interdisciplinary Studies.txt"
       ]
      },
      {
       "output_type": "stream",
       "stream": "stdout",
       "text": [
        "\n",
        "reading d:\\Desktop\\DBLP_Citation_2014_May\\domains\\Software engineering.txt"
       ]
      },
      {
       "output_type": "stream",
       "stream": "stdout",
       "text": [
        "\n",
        "reading d:\\Desktop\\DBLP_Citation_2014_May\\domains\\Theoretical computer science.txt"
       ]
      },
      {
       "output_type": "stream",
       "stream": "stdout",
       "text": [
        "\n"
       ]
      },
      {
       "metadata": {},
       "output_type": "pyout",
       "prompt_number": 40,
       "text": [
        "10"
       ]
      }
     ],
     "prompt_number": 40
    },
    {
     "cell_type": "code",
     "collapsed": false,
     "input": [
      "    if line '#*':\n",
      "        paperTitle = line\n",
      "    if line '#@':\n",
      "        Authors = line\n",
      "    if line '#t':\n",
      "        Year = line\n",
      "    if line '#c':\n",
      "        publication_venue = line\n",
      "    if line '#index 00':\n",
      "        index_id = line\n",
      "    if line '#%':\n",
      "        references.append(line)\n",
      "    if line '#!':\n",
      "        abstract = line"
     ],
     "language": "python",
     "metadata": {},
     "outputs": [
      {
       "ename": "SyntaxError",
       "evalue": "invalid syntax (<ipython-input-24-2c33b3de39c9>, line 1)",
       "output_type": "pyerr",
       "traceback": [
        "\u001b[1;36m  File \u001b[1;32m\"<ipython-input-24-2c33b3de39c9>\"\u001b[1;36m, line \u001b[1;32m1\u001b[0m\n\u001b[1;33m    if line '#*':\u001b[0m\n\u001b[1;37m               ^\u001b[0m\n\u001b[1;31mSyntaxError\u001b[0m\u001b[1;31m:\u001b[0m invalid syntax\n"
       ]
      }
     ],
     "prompt_number": 24
    },
    {
     "cell_type": "code",
     "collapsed": false,
     "input": [
      "emergence.what_emergence_state('social studies of science')"
     ],
     "language": "python",
     "metadata": {},
     "outputs": [
      {
       "ename": "NameError",
       "evalue": "name 'emergence' is not defined",
       "output_type": "pyerr",
       "traceback": [
        "\u001b[1;31m---------------------------------------------------------------------------\u001b[0m\n\u001b[1;31mNameError\u001b[0m                                 Traceback (most recent call last)",
        "\u001b[1;32m<ipython-input-1-90ee3c756d44>\u001b[0m in \u001b[0;36m<module>\u001b[1;34m()\u001b[0m\n\u001b[1;32m----> 1\u001b[1;33m \u001b[0memergence\u001b[0m\u001b[1;33m.\u001b[0m\u001b[0mwhat_emergence_state\u001b[0m\u001b[1;33m(\u001b[0m\u001b[1;34m'social studies of science'\u001b[0m\u001b[1;33m)\u001b[0m\u001b[1;33m\u001b[0m\u001b[0m\n\u001b[0m",
        "\u001b[1;31mNameError\u001b[0m: name 'emergence' is not defined"
       ]
      }
     ],
     "prompt_number": 1
    },
    {
     "cell_type": "code",
     "collapsed": false,
     "input": [
      "emergence.is_emergence_state(1, 'social studies of science')"
     ],
     "language": "python",
     "metadata": {},
     "outputs": []
    },
    {
     "cell_type": "code",
     "collapsed": false,
     "input": [
      "network_of_citations = 'some graph'"
     ],
     "language": "python",
     "metadata": {},
     "outputs": []
    },
    {
     "cell_type": "code",
     "collapsed": false,
     "input": [
      "emergence.observe_nodal_points(network_of_citations, 3) "
     ],
     "language": "python",
     "metadata": {},
     "outputs": []
    },
    {
     "cell_type": "code",
     "collapsed": false,
     "input": [
      "person_list = ['John Peter', 'Pete Johner']"
     ],
     "language": "python",
     "metadata": {},
     "outputs": []
    },
    {
     "cell_type": "code",
     "collapsed": false,
     "input": [
      "emergence.get_conferences_organized_by_cluster(person_list)"
     ],
     "language": "python",
     "metadata": {},
     "outputs": []
    },
    {
     "cell_type": "code",
     "collapsed": false,
     "input": [
      "emergence.recreate_emerge('sociology')"
     ],
     "language": "python",
     "metadata": {},
     "outputs": []
    },
    {
     "cell_type": "code",
     "collapsed": false,
     "input": [
      "emergence.detect_emergences()"
     ],
     "language": "python",
     "metadata": {},
     "outputs": []
    },
    {
     "cell_type": "code",
     "collapsed": false,
     "input": [
      "emergence.get_special_issues_of_a_primary_journal('Science and Society Studies')  # what is a primary journal"
     ],
     "language": "python",
     "metadata": {},
     "outputs": []
    }
   ],
   "metadata": {}
  }
 ]
}