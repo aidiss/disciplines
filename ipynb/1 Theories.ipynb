{
 "cells": [
  {
   "cell_type": "markdown",
   "metadata": {},
   "source": [
    "This notebook introduces major package in disciplines - *theory*.\n",
    "*Theory* is a package dedicated to implement theories.\n",
    "It enables easy reading, and supports developer with tools to implement theories into Python code.\n",
    "\n",
    "For purpose of our work, *theory* should be understood as \n",
    "> articulated knowledge that describes structure and dynamics of some phenomena. \n",
    "\n",
    "Alternatively, we could use definition by Merian-Webster, where theory is defined as\n",
    "> an idea or set of ideas that is intended to explain facts or events\n",
    "\n",
    "In *disciplines* we deal with theories that articulate emergence, existence and death of disciplines, their types and some other aspects.\n",
    "Most theories come from publications."
   ]
  },
  {
   "cell_type": "markdown",
   "metadata": {},
   "source": [
    "Lets start import the module and listing all theories that are under implementation."
   ]
  },
  {
   "cell_type": "code",
   "execution_count": 1,
   "metadata": {},
   "outputs": [],
   "source": [
    "from disciplines import theory\n",
    "from disciplines.theory import list_all_theories\n",
    "all_theories = theory.list_all_theories.do()  # list all theories. prints a list of theories"
   ]
  },
  {
   "cell_type": "markdown",
   "metadata": {},
   "source": [
    "Currently this list is was created manually. We foresee two stages of development. During first stage all availables theories will be found automatically. Secondly, all theories will be moved to database. The second stage will be implemented only after/if standard form of theories will be found."
   ]
  },
  {
   "cell_type": "heading",
   "metadata": {},
   "level": 1,
   "source": [
    "Some theories"
   ]
  },
  {
   "cell_type": "markdown",
   "metadata": {},
   "source": [
    "So, we have a distinct set of theories. How did we get them? They were types there."
   ]
  },
  {
   "cell_type": "code",
   "execution_count": 2,
   "metadata": {},
   "outputs": [
    {
     "name": "stdout",
     "output_type": "stream",
     "text": [
      " Emergence of discipline \n",
      "\n",
      "This module is an implementation of theoretical work by Ziman.\n",
      "It checks a stage of development and contains multiple functions \n",
      "designed for looking for evidence of stage of emergence.\n",
      "\n",
      "Vars:\n",
      "    author\n",
      "    concepts\n",
      "    data\n",
      "    claim\n",
      "    theory\n",
      "    approach\n",
      "\n"
     ]
    }
   ],
   "source": [
    "# Lets import a particular theory that describes emergence of a discipline.\n",
    "from disciplines.theory import emergence\n",
    "print emergence.__doc__"
   ]
  },
  {
   "cell_type": "code",
   "execution_count": 3,
   "metadata": {},
   "outputs": [
    {
     "name": "stdout",
     "output_type": "stream",
     "text": [
      "Power strugles\n",
      "\n",
      "Described as such by Vinck in Sociology of Scientific Work\n",
      "\n",
      "Note:\n",
      "    Find struggles in data.\n",
      "    Get data for struggles. Maybe special function for. Connecting database and theories?\n",
      "\n",
      "Disciplines mentioned:\n",
      "    molecular biology,\n",
      "    cellular biology,\n",
      "    theology, \n",
      "    physics, \n",
      "    molecular biology, \n",
      "    sociology, \n",
      "    economics, \n",
      "    sociobiology, \n",
      "    neurosciences,\n",
      "    cognitive psychology,\n",
      "    botany, \n",
      "    zoology,\n",
      "    physiology,\n",
      "\n",
      "Concepts mentioned:\n",
      "    \"soft sciences\",\n",
      "    \"inhuman sciences\"\n",
      "\n",
      "Paricular relations mentioned:\n",
      "    \n",
      "\n"
     ]
    }
   ],
   "source": [
    "# Lets import a particular theory that describes emergence of a discipline.\n",
    "from disciplines.theory import power_strugles\n",
    "print power_strugles.__doc__"
   ]
  },
  {
   "cell_type": "code",
   "execution_count": 4,
   "metadata": {},
   "outputs": [
    {
     "data": {
      "text/plain": [
       "['Disciplines mentioned:\\n    molecular biology,\\n    cellular biology,\\n    theology, \\n    physics, \\n    molecular biology, \\n    sociology, \\n    economics, \\n    sociobiology, \\n    neurosciences,\\n    cognitive psychology,\\n    botany, \\n    zoology,\\n    physiology,\\n\\n']"
      ]
     },
     "execution_count": 4,
     "metadata": {},
     "output_type": "execute_result"
    }
   ],
   "source": [
    "import re\n",
    "disciplines_mentioned = re.findall(r'(?:Disciplines mentioned).*?\\n\\n', power_strugles.__doc__,re.DOTALL)\n",
    "disciplines_mentioned"
   ]
  },
  {
   "cell_type": "markdown",
   "metadata": {},
   "source": [
    "The list above can be used to match theory to any other theory or dataset. For example, we can see if this theory refers to same disciplines as Biglans classification of disciplines and consensus map of science article by... We will show this later"
   ]
  },
  {
   "cell_type": "code",
   "execution_count": 5,
   "metadata": {},
   "outputs": [
    {
     "name": "stdout",
     "output_type": "stream",
     "text": [
      "Structuring of research fields.\n",
      "\n",
      "This module investigates concept used by Vinck in Sociology of Scientific work.\n",
      "It contains four functions that investigate whether research field can be\n",
      "considered as having one type of structuring. It looks for four types of \n",
      "structuring: polycentric oligarchy, partitioned beurocracy, fragmented adhocracy,\n",
      "professional adhocracy, polycentric profession, technologically integrated bureocracy \n",
      "and conceptually integrated bureaucracy.\n",
      "\n",
      "Example:\n",
      "    is_polycentric_oligarhy('philosophy')\n",
      "    > 0.1\n",
      "    is_polycentric_oligarhy('sociology')\n",
      "    > 0.35\n",
      "\n",
      "Args:\n",
      "    authors\n",
      "    data\n",
      "    concepts\n",
      "    urls\n",
      "    reading\n",
      "\n",
      "Data:\n",
      "    researcher positions : are they in power\n",
      "    schools : hard to identify, have to be based on some research\n",
      "    methods : result assessment methods\n",
      "    training proggrames : check whether they are standardised\n",
      "    focus : are they focused on analytical work\n",
      "\n",
      "    coalition_list : is discipline in coalitions\n",
      "    research resource coordination : who coordinates.\n",
      "\n",
      "    working procedures : are they common?\n",
      "    controversies : what is a framework of their solutions?\n",
      "\n",
      "    instruments : what instrumentas are used?\n",
      "    methods : what methods are used?\n",
      "    empiricity of Knowledge : is knowledge empiric\n",
      "    specificity of knowledge : is knowledge specific?\n",
      "\n",
      "    theoretical framework : is it unified? \n",
      "\n",
      "\n"
     ]
    }
   ],
   "source": [
    "from disciplines.theory import structuring_of_research_fields\n",
    "print structuring_of_research_fields.__doc__"
   ]
  },
  {
   "cell_type": "code",
   "execution_count": 6,
   "metadata": {},
   "outputs": [
    {
     "name": "stdout",
     "output_type": "stream",
     "text": [
      "['Ziman']\n",
      "['nodal point', 'organize little research conferences', 'hierarchy of authority', 'association develops into a learned society', 'newsletter becomes reputable primary journal', 'primary journal']\n",
      "['citation network', 'journal', 'newsletter', 'conference participants']\n",
      "\n",
      "    1. Emerging specialty is only observable as a nodal point in the network of \n",
      "    citations. \n",
      "    2. Scientists whose research is associated with this co-citation cluster \n",
      "    organize little research conferences to discuss their common interests, or are \n",
      "    commissioned to write articles for a special issues of a primary journal \n",
      "    drawing attention to progress in this particular problem area. \n",
      "    3. An ‘invisible college’ begins to condense out, in the form, say, of a semi-\n",
      "    official association held together by further conferences, the regular \n",
      "    exchange of pre-prints and re-prints and the publication of an informal \n",
      "    ‘newsletter’. \n",
      "    4. The association develops into a regular learned society, whose newsletter \n",
      "    has become a reputable primary journal. \n",
      "    5. A hierarch of authority is soon set up to preside over conferences, edit \n",
      "    journals, allocate resources, and confer recognition on the members of the new\n",
      "    discipline.\n",
      "    \n"
     ]
    }
   ],
   "source": [
    "print emergence.author  # shows author of theory\n",
    "print emergence.concepts # list concepts used in a theory, mainly its variables. Possibly shows to what part of theory they are neded\n",
    "print emergence.data  # List what kind of data is required for theory to be falsified/proved.\n",
    "print emergence.theory"
   ]
  },
  {
   "cell_type": "code",
   "execution_count": 7,
   "metadata": {},
   "outputs": [
    {
     "data": {
      "text/plain": [
       "True"
      ]
     },
     "execution_count": 7,
     "metadata": {},
     "output_type": "execute_result"
    }
   ],
   "source": [
    "import inspect\n",
    "inspect.ismodule(theory)"
   ]
  },
  {
   "cell_type": "code",
   "execution_count": 14,
   "metadata": {},
   "outputs": [],
   "source": [
    "all_disciplines = [\n",
    "    #characterisation_of_organisational_structures,\n",
    "    emergence,\n",
    "    #interdisciplinary_models,\n",
    "    #justifications_for_interdisciplinary_work,\n",
    "    #learning_styles_and_disciplinary_differences,\n",
    "    power_strugles,\n",
    "    #regimes_of_knowledge_production,\n",
    "    structuring_of_research_fields,\n",
    "    #taxonomy_of_interdisciplinarity\n",
    "]"
   ]
  },
  {
   "cell_type": "code",
   "execution_count": null,
   "metadata": {},
   "outputs": [],
   "source": [
    ""
   ]
  }
 ],
 "metadata": {
  "name": "",
  "signature": "sha256:33a73323267b8d0c1c8f32d584bfaee217ad5673f9135a1ebf6995b3297e08aa"
 },
 "nbformat": 4,
 "nbformat_minor": 0
}