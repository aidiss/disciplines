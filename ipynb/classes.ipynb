{
 "metadata": {
  "name": "",
  "signature": "sha256:54a4b89c86b81af0c08d5616131c5846136d65acb4d1993b1d357c58e32bcb5f"
 },
 "nbformat": 3,
 "nbformat_minor": 0,
 "worksheets": [
  {
   "cells": [
    {
     "cell_type": "markdown",
     "metadata": {},
     "source": [
      "This notebook demonstrates classes."
     ]
    },
    {
     "cell_type": "heading",
     "level": 1,
     "metadata": {},
     "source": [
      "Classes"
     ]
    },
    {
     "cell_type": "markdown",
     "metadata": {},
     "source": [
      "1. [Person](#Person)\n",
      "1. [Discipline](#Discipline)\n",
      "1. [Journal](#Journal)\n",
      "1. [Event](#Event)\n",
      "1. [Publication](#Publication)\n",
      "1. [Learned society](#Learned society)\n",
      "1. [Concept](#Concept)\n",
      "1. Some things that might become classes a bit later.."
     ]
    },
    {
     "cell_type": "heading",
     "level": 2,
     "metadata": {},
     "source": [
      "Person"
     ]
    },
    {
     "cell_type": "markdown",
     "metadata": {},
     "source": [
      "Lets define some objects\n",
      "We will start from creating two person objects: latour and kuhn."
     ]
    },
    {
     "cell_type": "markdown",
     "metadata": {},
     "source": [
      "Why we use classes? Well it allows us to write in very understandable ways.\n",
      "However, there are some limitation. We might get into troubles if we use too much of namespace. Ideally this type of approach is best when analyzing from few to (few) dozens of objects. In this way we can have few concepts, few authors, journals and etc comming into a play. And getting into them in many details.\n",
      "Again, ideally, this approach is suited for IPython notebook environment. we can use method suggestion to its best, we can allways see what is it possible to do with Discipline just by pressing tab. "
     ]
    },
    {
     "cell_type": "code",
     "collapsed": false,
     "input": [
      "from disciplines.classes import Person\n",
      "latour = Person('Argument')"
     ],
     "language": "python",
     "metadata": {},
     "outputs": [],
     "prompt_number": 42
    },
    {
     "cell_type": "code",
     "collapsed": false,
     "input": [
      "latour.name\n",
      "latour.first_name\n",
      "latour.last_name\n",
      "latour.middle_name\n",
      "latour.biography\n",
      "#latour.cv\n",
      "#latour.birth_date\n",
      "#latour.death_date\n",
      "#latour.event_list\n",
      "latour.membership \n",
      "#latour.affiliation\n",
      "#latour.current_affiliation\n",
      "\n",
      "latour.is_member('philosophy')\n",
      "latour.published_in('4s')\n",
      "latour.authored('Moby Dick') # alternatively .was_author_of('Moby Dick')\n",
      "latour.is_cited_by('Thomas Kuhn') # {'name', 'thomas kuhn'}\n",
      "latour.is_cited_in_publication('Publication name')\n",
      "latour.researcher('topic name')\n",
      "latour.is_coautor_of('Labs')\n",
      "latour.is_coauthor_with('Coleman')\n",
      "latour.coined('Fancy_term') # or, .defined_concept('Fancy_term')\n",
      "latour.is_editor_of('Informetrics')\n",
      "\n",
      "latour.writing_style\n",
      "latour.keywords()\n",
      "latour.methods()\n",
      "latour.theories()"
     ],
     "language": "python",
     "metadata": {},
     "outputs": [
      {
       "ename": "AttributeError",
       "evalue": "'Person' object has no attribute 'is_member'",
       "output_type": "pyerr",
       "traceback": [
        "\u001b[1;31m---------------------------------------------------------------------------\u001b[0m\n\u001b[1;31mAttributeError\u001b[0m                            Traceback (most recent call last)",
        "\u001b[1;32m<ipython-input-43-30152d2bf543>\u001b[0m in \u001b[0;36m<module>\u001b[1;34m()\u001b[0m\n\u001b[0;32m     12\u001b[0m \u001b[1;31m#latour.current_affiliation\u001b[0m\u001b[1;33m\u001b[0m\u001b[1;33m\u001b[0m\u001b[0m\n\u001b[0;32m     13\u001b[0m \u001b[1;33m\u001b[0m\u001b[0m\n\u001b[1;32m---> 14\u001b[1;33m \u001b[0mlatour\u001b[0m\u001b[1;33m.\u001b[0m\u001b[0mis_member\u001b[0m\u001b[1;33m(\u001b[0m\u001b[1;34m'philosophy'\u001b[0m\u001b[1;33m)\u001b[0m\u001b[1;33m\u001b[0m\u001b[0m\n\u001b[0m\u001b[0;32m     15\u001b[0m \u001b[0mlatour\u001b[0m\u001b[1;33m.\u001b[0m\u001b[0mpublished_in\u001b[0m\u001b[1;33m(\u001b[0m\u001b[1;34m'4s'\u001b[0m\u001b[1;33m)\u001b[0m\u001b[1;33m\u001b[0m\u001b[0m\n\u001b[0;32m     16\u001b[0m \u001b[0mlatour\u001b[0m\u001b[1;33m.\u001b[0m\u001b[0mauthored\u001b[0m\u001b[1;33m(\u001b[0m\u001b[1;34m'Moby Dick'\u001b[0m\u001b[1;33m)\u001b[0m \u001b[1;31m# alternatively .was_author_of('Moby Dick')\u001b[0m\u001b[1;33m\u001b[0m\u001b[0m\n",
        "\u001b[1;31mAttributeError\u001b[0m: 'Person' object has no attribute 'is_member'"
       ]
      }
     ],
     "prompt_number": 43
    },
    {
     "cell_type": "markdown",
     "metadata": {},
     "source": [
      "Now we have explored many aspects of Bruno Latour. But what about creating some more persons(instance of Person, as IT would say)"
     ]
    },
    {
     "cell_type": "code",
     "collapsed": false,
     "input": [
      "kuhn = Person('Thomas Kuhn')\n",
      "abbot = Person('Thomas Kuhn')\n",
      "small = Person('Thomas Kuhn')\n",
      "leydersdorf = Person('Thomas Kuhn')\n",
      "merton = Person('Thomas Kuhn')"
     ],
     "language": "python",
     "metadata": {},
     "outputs": []
    },
    {
     "cell_type": "heading",
     "level": 2,
     "metadata": {},
     "source": [
      "Discipline"
     ]
    },
    {
     "cell_type": "markdown",
     "metadata": {},
     "source": [
      "Now lets create some disciplines"
     ]
    },
    {
     "cell_type": "code",
     "collapsed": false,
     "input": [
      "from disciplines.data.classes import Discipline\n",
      "scientometrics = Discipline('Discipline')"
     ],
     "language": "python",
     "metadata": {},
     "outputs": [],
     "prompt_number": 34
    },
    {
     "cell_type": "code",
     "collapsed": false,
     "input": [
      "scientometrics.name\n",
      "scientometrics.in_classifications('')\n",
      "scientometrics.related_disciplines\n",
      "scientometrics.emergence\n",
      "scientometrics.founders\n",
      "scientometrics.users\n",
      "scientometrics.concepts\n",
      "scientometrics.methods\n",
      "scientometrics.subdisciplines\n",
      "scientometrics.history\n",
      "scientometrics.events\n",
      "scientometrics.mentioned_in\n",
      "\n",
      "scientometrics.is_oligarchic()\n",
      "scientometrics.is_pure()\n",
      "scientometrics.is_life()\n",
      "scientometrics.is_sudiscipline_of()\n",
      "scientometrics.is_interdisciplinary_field()\n",
      "scientometrics.is_superdiscipline_of()\n",
      "scientometrics.describe()\n",
      "scientometrics.get_neighboring_disciplines()\n",
      "scientometrics.get_super_disciplines()\n",
      "scientometrics.get_emergence_level()\n",
      "scientometrics.get_history()\n",
      "scientometrics.get_methods()\n",
      "scientometrics.get_concepts()\n",
      "scientometrics.get_related_disciplines()\n",
      "scientometrics.get_subdisciplines()"
     ],
     "language": "python",
     "metadata": {},
     "outputs": []
    },
    {
     "cell_type": "code",
     "collapsed": false,
     "input": [
      "philosophy = Discipline('Philosophy')\n",
      "sociology = Discipline('Philosophy')\n",
      "computer_linguistics = Discipline('Computer linguistics')\n",
      "informetrics = Discipline('Discipline')"
     ],
     "language": "python",
     "metadata": {},
     "outputs": []
    },
    {
     "cell_type": "heading",
     "level": 2,
     "metadata": {},
     "source": [
      "Journal"
     ]
    },
    {
     "cell_type": "markdown",
     "metadata": {},
     "source": [
      "We need some Journals into the place"
     ]
    },
    {
     "cell_type": "code",
     "collapsed": false,
     "input": [
      "from disciplines.data.classes import Journal\n",
      "scientometrics = Journal('Scientometrics')"
     ],
     "language": "python",
     "metadata": {},
     "outputs": [],
     "prompt_number": 13
    },
    {
     "cell_type": "code",
     "collapsed": false,
     "input": [
      "scientometrics.editors\n",
      "scientometrics.head_editor\n",
      "scientometrics.publisher\n",
      "scientometrics.authors  # list of poeple who published\n",
      "\n",
      "scientometrics.get_editors()\n",
      "scientometrics.get_head_editor()\n",
      "scientometrics.get_publisher()\n",
      "scientometrics.get_articles()\n",
      "scientometrics.get_volumes()\n",
      "scientometrics.get_writers()\n",
      "scientometrics.get_citation_network()\n",
      "scientometrics.get_publisher()\n",
      "scientometrics.is_founded_by()\n",
      "scientometrics.is_part_of()"
     ],
     "language": "python",
     "metadata": {},
     "outputs": []
    },
    {
     "cell_type": "code",
     "collapsed": false,
     "input": [
      "# some more interesting features\n",
      "scientometrics.do_topic_forecast()\n",
      "scientometrics.contact_editor(' Dear editor, how are you? Would you be interested in') #\n",
      "scientometrics."
     ],
     "language": "python",
     "metadata": {},
     "outputs": []
    },
    {
     "cell_type": "code",
     "collapsed": false,
     "input": [
      "sss = Journal('Social Studies of Science')\n",
      "sss = Journal('Interdisciplinary studies')\n",
      "sss = Journal('Interdisciplinary studies')\n",
      "science_and_society = Journal('Science and society')"
     ],
     "language": "python",
     "metadata": {},
     "outputs": []
    },
    {
     "cell_type": "heading",
     "level": 2,
     "metadata": {},
     "source": [
      "Publication"
     ]
    },
    {
     "cell_type": "markdown",
     "metadata": {},
     "source": [
      "..and some publications.."
     ]
    },
    {
     "cell_type": "code",
     "collapsed": false,
     "input": [
      "from disciplines.data.classes import Publication\n",
      "consensus_map_of_science = Publication('Towards consensus map of science')\n",
      "structure_of_scientific_revolutions = Publication('structure_of_scientific_revolutions')\n",
      "taxonomy_of_interdisciplinarity = Publication('Taxonomy of Interdisciplinarity',)"
     ],
     "language": "python",
     "metadata": {},
     "outputs": [],
     "prompt_number": 14
    },
    {
     "cell_type": "heading",
     "level": 2,
     "metadata": {},
     "source": [
      "Event"
     ]
    },
    {
     "cell_type": "markdown",
     "metadata": {},
     "source": [
      "events are important also!"
     ]
    },
    {
     "cell_type": "code",
     "collapsed": false,
     "input": [
      "from disciplines.data.classes import Event\n",
      "academic_demarcations = Event('Academic demarcations, Oslo')"
     ],
     "language": "python",
     "metadata": {},
     "outputs": [],
     "prompt_number": 39
    },
    {
     "cell_type": "code",
     "collapsed": false,
     "input": [
      "academic_demarcations.place\n",
      "academic_demarcations.aim\n",
      "academic_demarcations.organized_by\n",
      "academic_demarcations.keynote_speakers\n",
      "academic_demarcations.get_keynote_speakers()\n",
      "academic_demarcations.presentation_list\n",
      "academic_demarcations.activity_list\n",
      "academic_demarcations.participant_list\n",
      "academic_demarcations.controversy_list\n",
      "academic_demarcations.keyword_list\n",
      "academic_demarcations.start_date\n",
      "academic_demarcations.end_date\n",
      "academic_demarcations.description\n",
      "academic_demarcations.place\n",
      "academic_demarcations.programme\n",
      "academic_demarcations.agenda\n",
      "\n",
      "academic_demarcations.get('media')\n",
      "academic_demarcations.is_organized_by('John')\n",
      "academic_demarcations.investigated('History of science')\n",
      "academic_demarcations.scrap_for_related_email('get my mail')\n",
      "academic_demarcations.crawl_around('enter website, or uses available entries')"
     ],
     "language": "python",
     "metadata": {},
     "outputs": [],
     "prompt_number": 39
    },
    {
     "cell_type": "code",
     "collapsed": false,
     "input": [
      "interdisciplinarity_how_to_make_it_work = Event('How to make it work, organized by, participants')\n",
      "s4_conference_2014 = Event('S4 conference 2014')\n",
      "ape7 = Event('Academic Publishing in Europe')\n",
      "ape8 = Event('Academic Publishing in Europe')\n",
      "ape9 = Event('Academic Publishing in Europe')"
     ],
     "language": "python",
     "metadata": {},
     "outputs": [],
     "prompt_number": 40
    },
    {
     "cell_type": "code",
     "collapsed": false,
     "input": [
      "'''\n",
      "Special Issue \"Information Services & Use\", Vol. 33, No. 1 (2013) \n",
      "APE 2013 German Press Information, http://www.ape2013.eu/literature/121214_german_press_information_ape2013.pdf\n",
      "APE Short Report 2012, http://www.ape2013.eu/literature/12ape_short.pdf\n",
      "APE Short Report 2011, http://www.ape2013.eu/literature/11ape_short.pdf\n",
      "APE Short Report 2010, http://www.ape2013.eu/literature/10ape_short.pdf\n",
      "APE Short Report 2009, http://www.ape2013.eu/literature/09ape_short.pdf\n",
      "APE Short Report 2008, http://www.ape2013.eu/literature/08ape_short.pdf\n",
      "APE Short Report 2007, http://www.ape2013.eu/literature/07ape_short.pdf\n",
      "APE Short Report 2006, http://www.ape2013.eu/literature/06ape_short.pdf\n",
      "APE Special Issue 2008, http://www.ape2013.eu/literature/special_issue_APE2008%20Kopie.pdf\n",
      "APE Special Issue 2007, http://www.ape2013.eu/literature/special_issue_APE%202007%20Kopie%201.pdf\n",
      "'''"
     ],
     "language": "python",
     "metadata": {},
     "outputs": []
    },
    {
     "cell_type": "heading",
     "level": 2,
     "metadata": {},
     "source": [
      "Learned_society"
     ]
    },
    {
     "cell_type": "markdown",
     "metadata": {},
     "source": [
      "What about some learned societies!?!"
     ]
    },
    {
     "cell_type": "code",
     "collapsed": false,
     "input": [
      "from disciplines.data.classes import Learned_society\n",
      "ssss = Learned_society('society for social studies of science')"
     ],
     "language": "python",
     "metadata": {},
     "outputs": [],
     "prompt_number": 22
    },
    {
     "cell_type": "code",
     "collapsed": false,
     "input": [
      "ssss.name\n",
      "ssss.founders\n",
      "ssss.members\n",
      "ssss.member_organizations\n",
      "ssss.member_list\n",
      "ssss.add_member\n",
      "ssss.del_member\n",
      "ssss.get_description\n",
      "ssss.aims\n",
      "ssss.board\n",
      "ssss.period\n",
      "ssss.events"
     ],
     "language": "python",
     "metadata": {},
     "outputs": []
    },
    {
     "cell_type": "code",
     "collapsed": false,
     "input": [
      "scientometrics_informetrics = Learned_society('international society for scientometrics and informetrics')\n",
      "ais = Learned_society('Association of interdisciplinary studies')"
     ],
     "language": "python",
     "metadata": {},
     "outputs": []
    },
    {
     "cell_type": "heading",
     "level": 2,
     "metadata": {},
     "source": [
      "Concept"
     ]
    },
    {
     "cell_type": "markdown",
     "metadata": {},
     "source": [
      "And some concepts..."
     ]
    },
    {
     "cell_type": "code",
     "collapsed": false,
     "input": [
      "from disciplines.data.classes import Concept\n",
      "boundary_work = Concept('boundary_work')"
     ],
     "language": "python",
     "metadata": {},
     "outputs": [],
     "prompt_number": 11
    },
    {
     "cell_type": "code",
     "collapsed": false,
     "input": [
      "boundary_work.used_by\n",
      "\n",
      "boundary_work.was_coined_by('Gieryn')\n",
      "boundary_work.was_used_by('Gieryn')\n",
      "# Questions of past will be assocaited with history, more with qualitative works.\n",
      "\n",
      "boundary_work.is_coined_by('Gieryn')\n",
      "boundary_work.is_definition()\n",
      "boundary_work.is_defined_as('Something you poor into water')\n",
      "boundary_work.is_used_in('This publicatio)\n",
      "boundary_work.is_used_by('Abbott')\n",
      "boundary_work.is_redefined_by()\n",
      "boundary_work.is_adopted_by()\n",
      "# Questions of past will be assocaited with sociology, computational linguistics and others.\n",
      "\n",
      "boundary_work.will_dissapear()\n",
      "boundary_work.will_dissapear_from_()\n",
      "boundary_work.will_dissapear_from_journal()\n",
      "boundary_work.will_flourish_in_journal('Journal named this')\n",
      "boundary_work.will_flourish_in_works_of('Name of author')\n",
      "boundary_work.will_flourish_in_study_programme('Name of study programme')\n",
      "boundary_work.will_flourish_in_discipline('Name of study programme')\n",
      "# Quetions \n",
      "\n",
      "#We will be able to set this whole time thing as settings\n",
      "time_settings"
     ],
     "language": "python",
     "metadata": {},
     "outputs": []
    },
    {
     "cell_type": "code",
     "collapsed": false,
     "input": [
      "academic_boundary_work = Concept('academy_boundary_work')\n",
      "local_boundary_work = Concept('local_boundary_work')\n",
      "broad_interdisciplinarity = Concept('broad_interdisciplinarity')\n",
      "narrow_interdisciplinarity = Concept('narrow_interdisciplinarity')\n",
      "wide_interdisciplinarity = Concept('wide_interdisciplinarity')\n",
      "transdisciplinary = Concept('transdisciplinary')\n",
      "interdisciplinary = Concept('interdisciplinary')\n",
      "multidisciplinary = Concept('multidisciplinary')\n",
      "multiple_disciplinary_approach = Concept('multiple_disciplinary_approach')\n",
      "policentric_olygarchy = Concept('That is funny name, it might stand for whole theory')\n",
      "# is_author_of is it a real concept? ir is it just an expression?"
     ],
     "language": "python",
     "metadata": {},
     "outputs": []
    },
    {
     "cell_type": "markdown",
     "metadata": {},
     "source": []
    },
    {
     "cell_type": "heading",
     "level": 1,
     "metadata": {},
     "source": [
      "What can we do with all this?"
     ]
    },
    {
     "cell_type": "code",
     "collapsed": false,
     "input": [
      "Now, lets mark some info about them."
     ],
     "language": "python",
     "metadata": {},
     "outputs": []
    },
    {
     "cell_type": "code",
     "collapsed": false,
     "input": [
      "philosophy.history = 'This happened and that happened'\n",
      "philosophy.get_subdisciplines()"
     ],
     "language": "python",
     "metadata": {},
     "outputs": [
      {
       "output_type": "stream",
       "stream": "stdout",
       "text": [
        "['one discipline', 'two']\n",
        "False\n"
       ]
      }
     ],
     "prompt_number": 23
    },
    {
     "cell_type": "markdown",
     "metadata": {},
     "source": [
      "Let's look into Person variables and concepts"
     ]
    },
    {
     "cell_type": "code",
     "collapsed": false,
     "input": [],
     "language": "python",
     "metadata": {},
     "outputs": [
      {
       "ename": "AttributeError",
       "evalue": "'Person' object has no attribute 'is_member'",
       "output_type": "pyerr",
       "traceback": [
        "\u001b[1;31m---------------------------------------------------------------------------\u001b[0m\n\u001b[1;31mAttributeError\u001b[0m                            Traceback (most recent call last)",
        "\u001b[1;32m<ipython-input-33-95048e7eef14>\u001b[0m in \u001b[0;36m<module>\u001b[1;34m()\u001b[0m\n\u001b[0;32m     12\u001b[0m \u001b[1;31m#latour.current_affiliation\u001b[0m\u001b[1;33m\u001b[0m\u001b[1;33m\u001b[0m\u001b[0m\n\u001b[0;32m     13\u001b[0m \u001b[1;33m\u001b[0m\u001b[0m\n\u001b[1;32m---> 14\u001b[1;33m \u001b[0mlatour\u001b[0m\u001b[1;33m.\u001b[0m\u001b[0mis_member\u001b[0m\u001b[1;33m(\u001b[0m\u001b[1;34m'philosophy'\u001b[0m\u001b[1;33m)\u001b[0m\u001b[1;33m\u001b[0m\u001b[0m\n\u001b[0m\u001b[0;32m     15\u001b[0m \u001b[0mlatour\u001b[0m\u001b[1;33m.\u001b[0m\u001b[0mis_member\u001b[0m\u001b[1;33m(\u001b[0m\u001b[0mphilosophy\u001b[0m\u001b[1;33m)\u001b[0m\u001b[1;33m\u001b[0m\u001b[0m\n\u001b[0;32m     16\u001b[0m \u001b[0mlatour\u001b[0m\u001b[1;33m.\u001b[0m\u001b[0mpublished_in\u001b[0m\u001b[1;33m(\u001b[0m\u001b[1;34m'4s'\u001b[0m\u001b[1;33m)\u001b[0m\u001b[1;33m\u001b[0m\u001b[0m\n",
        "\u001b[1;31mAttributeError\u001b[0m: 'Person' object has no attribute 'is_member'"
       ]
      }
     ],
     "prompt_number": 33
    },
    {
     "cell_type": "heading",
     "level": 1,
     "metadata": {},
     "source": [
      "Brainstorming"
     ]
    },
    {
     "cell_type": "markdown",
     "metadata": {},
     "source": [
      "What about list of discipline instances?"
     ]
    },
    {
     "cell_type": "code",
     "collapsed": false,
     "input": [
      "def function_that_takes(list_of_discipline):\n",
      "\tfor x in list_of_discipline:\n",
      "\t\tprint(\"What can we do with list of disciplines?\")"
     ],
     "language": "python",
     "metadata": {},
     "outputs": [],
     "prompt_number": 26
    },
    {
     "cell_type": "code",
     "collapsed": false,
     "input": [
      "def function_that_takes(list_of_learned_societies):\n",
      "\tfor x in list_of_learned_societies:\n",
      "\t\tprint(\"What can we do with list of learned societies?\")"
     ],
     "language": "python",
     "metadata": {},
     "outputs": []
    },
    {
     "cell_type": "code",
     "collapsed": false,
     "input": [
      "def function_that_takes(list_of_concepts):\n",
      "\tfor x in list_of_concepts:\n",
      "\t\tprint(\"What can we do with list of concepts?\")"
     ],
     "language": "python",
     "metadata": {},
     "outputs": []
    }
   ],
   "metadata": {}
  }
 ]
}