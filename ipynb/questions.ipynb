{
 "metadata": {
  "name": "",
  "signature": "sha256:5e2e990f729711a54658200aed25becb368c86ad348d89e8aec70e34a713eb47"
 },
 "nbformat": 3,
 "nbformat_minor": 0,
 "worksheets": [
  {
   "cells": [
    {
     "cell_type": "raw",
     "metadata": {
      "slideshow": {
       "slide_type": "-"
      }
     },
     "source": [
      "This package will help you to anwer questions like:\n"
     ]
    },
    {
     "cell_type": "code",
     "collapsed": false,
     "input": [
      "question_list = '''How disciplines cite other disciplines?\n",
      "How boundaries of disciplines are demarcated?\n",
      "What researchers can be considered as part of disciplines?\n",
      "What is the difference between fields, communities of practice and disciplines?\n",
      "How use of concepts relate to disciplines.\n",
      "What are the styles of disciplines?\n",
      "How citation practices migrate from discipline to discipline?\n",
      "When disciplines emerge?\n",
      "When disciplines grow?\n",
      "When disciplines die?\n",
      "What disciplines are more to related methods?\n",
      "What disciplines are more related to field of research?\n",
      "How data is used in different disciplines?\n",
      "What data is used in different disciplines?\n",
      "What software is used in different disciplines?\n",
      "What software migrates from discipline to discipline?\n",
      "What are mobility trends of discipline to discipline?\n",
      "What acronims are considered as standard by disciplines?\n",
      "At what point use of concept disperses?\n",
      "At what point use of concept merges / is synthesized?\n",
      "What type of media is used for disciplines to interact?\n",
      "Which discipline has most subdisciplines?\n",
      "How disciplines negotiate boundaries?\n",
      "How disciplines build bridges?\n",
      "What disciplines interact with disciplines that are far away?\n",
      "What disciplines have most simple career paths?\n",
      "\n",
      "Who are main sociologists?\n",
      "How many subdisciplines are there in sociology?\n",
      "How many disciplines are there?\n",
      "how many disciplines according to Krishnan are there?\n",
      "hhat were the main events in development of sociology?\n",
      "what are the concepts that act as boundary objects between sociology and political sciences?\n",
      "what were the publications that marked schizma between economics and sociology?\n",
      "what disciplines are currently emerging?\n",
      "what text is most dense with discipline names?\n",
      "\n",
      "What data has to retrieved?\n",
      "What are types of data?\n",
      "How to implement sources?\n",
      "Is supervised machine learning able to repeat procedures done to implement articles?\n",
      "Is it possible to link structure of implemented theories to theory text itself?\n",
      "What articles are easiest to implement?\n",
      "Is it possible to do implementation based only on?\n",
      "Are there articles that are references only by one discipline?\n",
      "How referencing an article goes from one discipline to another?\n",
      "How style of refencing article?\n",
      "Is it possible to match journal's about us with content of articles published only with use of NLTK tools?'''"
     ],
     "language": "python",
     "metadata": {},
     "outputs": [],
     "prompt_number": 6
    },
    {
     "cell_type": "code",
     "collapsed": false,
     "input": [],
     "language": "python",
     "metadata": {},
     "outputs": [
      {
       "metadata": {},
       "output_type": "pyout",
       "prompt_number": 7,
       "text": [
        "['How disciplines cite other disciplines?',\n",
        " 'How boundaries of disciplines are demarcated?',\n",
        " 'What researchers can be considered as part of disciplines?',\n",
        " 'What is the difference between fields, communities of practice and disciplines?',\n",
        " 'How use of concepts relate to disciplines.',\n",
        " 'What are the styles of disciplines?',\n",
        " 'How citation practices migrate from discipline to discipline?',\n",
        " 'When disciplines emerge?',\n",
        " 'When disciplines grow?',\n",
        " 'When disciplines die?',\n",
        " 'What disciplines are more to related methods?',\n",
        " 'What disciplines are more related to field of research?',\n",
        " 'How data is used in different disciplines?',\n",
        " 'What data is used in different disciplines?',\n",
        " 'What software is used in different disciplines?',\n",
        " 'What software migrates from discipline to discipline?',\n",
        " 'What are mobility trends of discipline to discipline?',\n",
        " 'What acronims are considered as standard by disciplines?',\n",
        " 'At what point use of concept disperses?',\n",
        " 'At what point use of concept merges / is synthesized?',\n",
        " 'What type of media is used for disciplines to interact?',\n",
        " 'Which discipline has most subdisciplines?',\n",
        " 'How disciplines negotiate boundaries?',\n",
        " 'How disciplines build bridges?',\n",
        " 'What disciplines interact with disciplines that are far away?',\n",
        " 'What disciplines have most simple career paths?',\n",
        " '',\n",
        " 'Who are main sociologists?',\n",
        " 'How many subdisciplines are there in sociology?',\n",
        " 'How many disciplines are there?',\n",
        " 'how many disciplines according to Krishnan are there?',\n",
        " 'hhat were the main events in development of sociology?',\n",
        " 'what are the concepts that act as boundary objects between sociology and political sciences?',\n",
        " 'what were the publications that marked schizma between economics and sociology?',\n",
        " 'what disciplines are currently emerging?',\n",
        " 'what text is most dense with discipline names?',\n",
        " '',\n",
        " 'What data has to retrieved?',\n",
        " 'What are types of data?',\n",
        " 'How to implement sources?',\n",
        " 'Is supervised machine learning able to repeat procedures done to implement articles?',\n",
        " 'Is it possible to link structure of implemented theories to theory text itself?',\n",
        " 'What articles are easiest to implement?',\n",
        " 'Is it possible to do implementation based only on?',\n",
        " 'Are there articles that are references only by one discipline?',\n",
        " 'How referencing an article goes from one discipline to another?',\n",
        " 'How style of refencing article?',\n",
        " \"Is it possible to match journal's about us with content of articles published only with use of NLTK tools?\"]"
       ]
      }
     ],
     "prompt_number": 7
    },
    {
     "cell_type": "code",
     "collapsed": false,
     "input": [
      "from nltk import word_tokenize\n",
      "tokenized_question_list = [word_tokenize(question) for question in question_list.split('\\n')]"
     ],
     "language": "python",
     "metadata": {},
     "outputs": [],
     "prompt_number": 14
    },
    {
     "cell_type": "code",
     "collapsed": false,
     "input": [
      "tokenized_question_list[0:5]"
     ],
     "language": "python",
     "metadata": {},
     "outputs": [
      {
       "metadata": {},
       "output_type": "pyout",
       "prompt_number": 15,
       "text": [
        "[['How', 'disciplines', 'cite', 'other', 'disciplines', '?'],\n",
        " ['How', 'boundaries', 'of', 'disciplines', 'are', 'demarcated', '?'],\n",
        " ['What',\n",
        "  'researchers',\n",
        "  'can',\n",
        "  'be',\n",
        "  'considered',\n",
        "  'as',\n",
        "  'part',\n",
        "  'of',\n",
        "  'disciplines',\n",
        "  '?'],\n",
        " ['What',\n",
        "  'is',\n",
        "  'the',\n",
        "  'difference',\n",
        "  'between',\n",
        "  'fields',\n",
        "  ',',\n",
        "  'communities',\n",
        "  'of',\n",
        "  'practice',\n",
        "  'and',\n",
        "  'disciplines',\n",
        "  '?'],\n",
        " ['How', 'use', 'of', 'concepts', 'relate', 'to', 'disciplines', '.']]"
       ]
      }
     ],
     "prompt_number": 15
    },
    {
     "cell_type": "code",
     "collapsed": false,
     "input": [],
     "language": "python",
     "metadata": {},
     "outputs": []
    }
   ],
   "metadata": {}
  }
 ]
}