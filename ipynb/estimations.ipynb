{
 "metadata": {
  "name": "",
  "signature": "sha256:e9985fadc2aab9dfdb45ee69f21579b99b82107a8f69b48c534e93ab249a3a12"
 },
 "nbformat": 3,
 "nbformat_minor": 0,
 "worksheets": [
  {
   "cells": [
    {
     "cell_type": "markdown",
     "metadata": {},
     "source": [
      "We would like to estimate amount of data that we are looking for.\n",
      "This includes number:\n",
      "researchers\n",
      "disciplines\n",
      "articles\n",
      "citations\n",
      "universities\n",
      "conferences."
     ]
    },
    {
     "cell_type": "heading",
     "level": 1,
     "metadata": {},
     "source": [
      "Papers"
     ]
    },
    {
     "cell_type": "markdown",
     "metadata": {},
     "source": [
      "50 million\n",
      "http://duncan.hull.name/2010/07/15/fifty-million/"
     ]
    },
    {
     "cell_type": "code",
     "collapsed": false,
     "input": [
      "def someone_wrote_a_paper():\n",
      "    pass\n",
      "\n",
      "article_count = 1\n",
      "for year in range(1750, 2014):\n",
      "    article_count = article_count * 1.07    \n",
      "print article_count "
     ],
     "language": "python",
     "metadata": {},
     "outputs": [
      {
       "output_type": "stream",
       "stream": "stdout",
       "text": [
        "57189632.9098\n"
       ]
      }
     ],
     "prompt_number": 2
    },
    {
     "cell_type": "heading",
     "level": 1,
     "metadata": {},
     "source": [
      "Journals\n"
     ]
    },
    {
     "cell_type": "markdown",
     "metadata": {},
     "source": [
      "25-40,000 journals"
     ]
    },
    {
     "cell_type": "markdown",
     "metadata": {},
     "source": [
      "http://scienceintelligence.wordpress.com/2012/01/23/how-many-science-journals/"
     ]
    },
    {
     "cell_type": "code",
     "collapsed": false,
     "input": [
      "def journal_is_started():\n",
      "    pass\n",
      "\n",
      "journal_count = 1\n",
      "for year in range(1750, 2014):\n",
      "    journal_count = journal_count * 1.04\n",
      "print journal_count \n",
      "\n",
      "#we might be interested i npublishers too"
     ],
     "language": "python",
     "metadata": {},
     "outputs": [
      {
       "output_type": "stream",
       "stream": "stdout",
       "text": [
        "31390.7415231\n"
       ]
      }
     ],
     "prompt_number": 3
    },
    {
     "cell_type": "heading",
     "level": 1,
     "metadata": {},
     "source": [
      "Researchers"
     ]
    },
    {
     "cell_type": "markdown",
     "metadata": {},
     "source": [
      "51 millions\n",
      "http://www.richardprice.io/post/12855561694/the-number-of-academics-and-graduate-students-in-the"
     ]
    },
    {
     "cell_type": "code",
     "collapsed": false,
     "input": [
      "def someone_received_phd():\n",
      "    pass\n",
      "\n",
      "journal_count = 1\n",
      "for year in range(1750, 2014):\n",
      "    journal_count = journal_count * 1.07\n",
      "print journal_count "
     ],
     "language": "python",
     "metadata": {},
     "outputs": [
      {
       "output_type": "stream",
       "stream": "stdout",
       "text": [
        "57189632.9098\n"
       ]
      }
     ],
     "prompt_number": 4
    },
    {
     "cell_type": "heading",
     "level": 1,
     "metadata": {},
     "source": [
      "Citation\n"
     ]
    },
    {
     "cell_type": "markdown",
     "metadata": {},
     "source": [
      "20 per year\n",
      "http://www.timeshighereducation.co.uk/415643.article"
     ]
    },
    {
     "cell_type": "code",
     "collapsed": false,
     "input": [
      "def citation_happened(article, journal, author, to):\n",
      "    pass\n",
      "\n",
      "average_citation_number = 20\n",
      "citations_now = article_count * average_citation_number\n",
      "citations_now"
     ],
     "language": "python",
     "metadata": {},
     "outputs": [
      {
       "metadata": {},
       "output_type": "pyout",
       "prompt_number": 30,
       "text": [
        "1143792658.1951182"
       ]
      }
     ],
     "prompt_number": 30
    }
   ],
   "metadata": {}
  }
 ]
}