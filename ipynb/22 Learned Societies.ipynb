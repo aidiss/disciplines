{
 "metadata": {
  "name": "",
  "signature": "sha256:d33e6506249cc24effb6231c9850ba4e9362982d05c170025d8834aff3d6d1e8"
 },
 "nbformat": 3,
 "nbformat_minor": 0,
 "worksheets": [
  {
   "cells": [
    {
     "cell_type": "markdown",
     "metadata": {},
     "source": [
      "Learned societies are one of the main aspects of scientific academic community. Throughout history researchers and proffesors have been linked to each other by organizations that focus from principal ideas to methods. In this notebook we are going to do some stuff."
     ]
    },
    {
     "cell_type": "markdown",
     "metadata": {},
     "source": [
      "Some thins we are interested:\n",
      "- Members\n",
      "- Governance\n",
      "- Aims/about us\n",
      "- Links to:\n",
      "    - societies\n",
      "    - journals\n",
      "    - institutes"
     ]
    },
    {
     "cell_type": "heading",
     "level": 1,
     "metadata": {},
     "source": [
      "1. Structure of information about learned societies"
     ]
    },
    {
     "cell_type": "code",
     "collapsed": false,
     "input": [
      "import pandas as pd\n",
      "columns = ['name', 'abr', 'web', 'aboutus', 'aboutus_link', 'governance_link', 'notes']\n",
      "df = pd.DataFrame(columns=columns)\n",
      "df"
     ],
     "language": "python",
     "metadata": {},
     "outputs": [
      {
       "html": [
        "<div style=\"max-height:1000px;max-width:1500px;overflow:auto;\">\n",
        "<table border=\"1\" class=\"dataframe\">\n",
        "  <thead>\n",
        "    <tr style=\"text-align: right;\">\n",
        "      <th></th>\n",
        "      <th>name</th>\n",
        "      <th>abr</th>\n",
        "      <th>web</th>\n",
        "      <th>aboutus</th>\n",
        "      <th>aboutus_link</th>\n",
        "      <th>governance_link</th>\n",
        "      <th>notes</th>\n",
        "    </tr>\n",
        "  </thead>\n",
        "  <tbody>\n",
        "  </tbody>\n",
        "</table>\n",
        "</div>"
       ],
       "metadata": {},
       "output_type": "pyout",
       "prompt_number": 1,
       "text": [
        "Empty DataFrame\n",
        "Columns: [name, abr, web, aboutus, aboutus_link, governance_link, notes]\n",
        "Index: []"
       ]
      }
     ],
     "prompt_number": 1
    },
    {
     "cell_type": "heading",
     "level": 1,
     "metadata": {},
     "source": [
      "2. Where does data about learned societies come from?"
     ]
    },
    {
     "cell_type": "heading",
     "level": 2,
     "metadata": {},
     "source": [
      "2.1 Umbrella organizations"
     ]
    },
    {
     "cell_type": "markdown",
     "metadata": {},
     "source": [
      "To our knowledge currently there are at least three organizations that associated different learned societies. These are:\n",
      "- American Council of Learned Societies (ACLS)\n",
      "- Initiative for Science in Europe (ISE)\n",
      "- British......\n",
      "\n",
      "There are other sources also:\n",
      "http://en.wikipedia.org/wiki/List_of_learned_societies\n",
      "\n",
      "Let's start with getting some information from American Council of Learned Societies"
     ]
    },
    {
     "cell_type": "heading",
     "level": 3,
     "metadata": {},
     "source": [
      "American Council of Learned Societies"
     ]
    },
    {
     "cell_type": "code",
     "collapsed": false,
     "input": [
      "from disciplines.data import learned_societies\n",
      "\n",
      "learned_societies_urls = learned_societies.learned_societies_urls\n",
      "learned_societies_urls"
     ],
     "language": "python",
     "metadata": {},
     "outputs": [
      {
       "output_type": "stream",
       "stream": "stdout",
       "text": [
        "https://www.acls.org/societies/societies.aspx?sid=363E4D14-98A2-DB11-A735-000C29\u0003E717\n",
        "https://www.acls.org/societies/societies.aspx?sid=08895C50-C9A2-DB11-A735-000C2903E717\n",
        "https://www.acls.org/societies/societies.aspx?sid=0B895C50-C9A2-DB11-A735-000C2903E717\n",
        "https://www.acls.org/societies/societies.aspx?sid=0E895C50-C9A2-DB11-A735-000C2903E717\n",
        "https://www.acls.org/societies/societies.aspx?sid=11895C50-C9A2-DB11-A735-000C2903E717\n",
        "https://www.acls.org/societies/societies.aspx?sid=5405940B-81A3-DB11-A735-000C2903E717\n",
        "https://www.acls.org/societies/societies.aspx?sid=2F895C50-C9A2-DB11-A735-000C2903E717\n",
        "https://www.acls.org/societies/societies.aspx?sid=38895C50-C9A2-DB11-A735-000C2903E717\n",
        "https://www.acls.org/societies/societies.aspx?sid=3B895C50-C9A2-DB11-A735-000C2903E717\n",
        "https://www.acls.org/societies/societies.aspx?sid=3E895C50-C9A2-DB11-A735-000C2903E717\n",
        "https://www.acls.org/societies/societies.aspx?sid=41895C50-C9A2-DB11-A735-000C2903E717\n",
        "https://www.acls.org/societies/societies.aspx?sid=4A895C50-C9A2-DB11-A735-000C2903E717\n",
        "https://www.acls.org/societies/societies.aspx?sid=4D895C50-C9A2-DB11-A735-000C2903E717\n",
        "https://www.acls.org/societies/societies.aspx?sid=50895C50-C9A2-DB11-A735-000C2903E717\n",
        "https://www.acls.org/societies/societies.aspx?sid=56895C50-C9A2-DB11-A735-000C2903E717\n",
        "https://www.acls.org/societies/societies.aspx?sid=59895C50-C9A2-DB11-A735-000C2903E717\n",
        "https://www.acls.org/societies/societies.aspx?sid=5C895C50-C9A2-DB11-A735-000C2903E717\n",
        "https://www.acls.org/societies/societies.aspx?sid=65895C50-C9A2-DB11-A735-000C2903E717\n",
        "https://www.acls.org/societies/societies.aspx?sid=68895C50-C9A2-DB11-A735-000C2903E717\n",
        "https://www.acls.org/societies/societies.aspx?sid=6B895C50-C9A2-DB11-A735-000C2903E717\n",
        "https://www.acls.org/societies/societies.aspx?sid=563A7C1E-81A3-DB11-A735-000C2903E717\n",
        "https://www.acls.org/societies/societies.aspx?sid=6E895C50-C9A2-DB11-A735-000C2903E717\n",
        "https://www.acls.org/societies/societies.aspx?sid=71895C50-C9A2-DB11-A735-000C2903E717\n",
        "https://www.acls.org/societies/societies.aspx?sid=4A0E4AF8-80A3-DB11-A735-000C2903E717\n",
        "https://www.acls.org/societies/societies.aspx?sid=74895C50-C9A2-DB11-A735-000C2903E717\n",
        "https://www.acls.org/societies/societies.aspx?sid=77895C50-C9A2-DB11-A735-000C2903E717\n",
        "https://www.acls.org/societies/societies.aspx?sid=7A895C50-C9A2-DB11-A735-000C2903E717\n",
        "https://www.acls.org/societies/societies.aspx?sid=7D895C50-C9A2-DB11-A735-000C2903E717\n",
        "https://www.acls.org/societies/societies.aspx?sid=A7895C50-C9A2-DB11-A735-000C2903E717\n",
        "https://www.acls.org/societies/societies.aspx?sid=CE895C50-C9A2-DB11-A735-000C2903E717\n",
        "https://www.acls.org/societies/societies.aspx?sid=D4895C50-C9A2-DB11-A735-000C2903E717\n",
        "https://www.acls.org/societies/societies.aspx?sid=1A895C50-C9A2-DB11-A735-000C2903E717\n",
        "https://www.acls.org/societies/societies.aspx?sid=D7895C50-C9A2-DB11-A735-000C2903E717\n",
        "https://www.acls.org/societies/societies.aspx?sid=DD895C50-C9A2-DB11-A735-000C2903E717\n",
        "https://www.acls.org/societies/societies.aspx?sid=E0895C50-C9A2-DB11-A735-000C2903E717\n",
        "https://www.acls.org/societies/societies.aspx?sid=7F8A5C50-C9A2-DB11-A735-000C2903E717\n",
        "https://www.acls.org/societies/societies.aspx?sid=5539555D-8673-DB11-A735-000C2903E717\n",
        "https://www.acls.org/societies/societies.aspx?sid=16A44F5C-C9A2-DB11-A735-000C2903E717\n",
        "https://www.acls.org/societies/societies.aspx?sid=C1A44F5C-C9A2-DB11-A735-000C2903E717\n",
        "https://www.acls.org/societies/societies.aspx?sid=06A54F5C-C9A2-DB11-A735-000C2903E717\n",
        "https://www.acls.org/societies/societies.aspx?sid=DBA54F5C-C9A2-DB11-A735-000C2903E717\n",
        "https://www.acls.org/societies/societies.aspx?sid=65A64F5C-C9A2-DB11-A735-000C2903E717\n",
        "https://www.acls.org/societies/societies.aspx?sid=6BA64F5C-C9A2-DB11-A735-000C2903E717\n",
        "https://www.acls.org/societies/societies.aspx?sid=82B30AFF-80A3-DB11-A735-000C2903E717\n",
        "https://www.acls.org/societies/societies.aspx?sid=37014862-C9A2-DB11-A735-000C2903E717\n",
        "https://www.acls.org/societies/societies.aspx?sid=40014862-C9A2-DB11-A735-000C2903E717\n",
        "https://www.acls.org/societies/societies.aspx?sid=67014862-C9A2-DB11-A735-000C2903E717\n",
        "https://www.acls.org/societies/societies.aspx?sid=09024862-C9A2-DB11-A735-000C2903E717\n",
        "https://www.acls.org/societies/societies.aspx?sid=2D024862-C9A2-DB11-A735-000C2903E717\n",
        "https://www.acls.org/societies/societies.aspx?sid=4E024862-C9A2-DB11-A735-000C2903E717\n",
        "https://www.acls.org/societies/societies.aspx?sid=81024862-C9A2-DB11-A735-000C2903E717\n",
        "https://www.acls.org/societies/societies.aspx?sid=05034862-C9A2-DB11-A735-000C2903E717\n",
        "https://www.acls.org/societies/societies.aspx?sid=5705940B-81A3-DB11-A735-000C2903E717\n",
        "https://www.acls.org/societies/societies.aspx?sid=EF4AB5CB-EE16-DC11-9D54-000C2903E717\n",
        "https://www.acls.org/societies/societies.aspx?sid=B157EC10-B4DA-E311-9BEC-000C29A3451A\n",
        "https://www.acls.org/societies/societies.aspx?sid=CA5D4068-C9A2-DB11-A735-000C2903E717\n",
        "https://www.acls.org/societies/societies.aspx?sid=845E4068-C9A2-DB11-A735-000C2903E717\n",
        "https://www.acls.org/societies/societies.aspx?sid=A08A031B-3C28-DD11-B38E-000C2903E717\n",
        "https://www.acls.org/societies/societies.aspx?sid=D07233A5-7FA3-DB11-A735-000C2903E717\n",
        "https://www.acls.org/societies/societies.aspx?sid=B95F4068-C9A2-DB11-A735-000C2903E717\n",
        "https://www.acls.org/societies/societies.aspx?sid=BC5F4068-C9A2-DB11-A735-000C2903E717\n",
        "https://www.acls.org/societies/societies.aspx?sid=53895C50-C9A2-DB11-A735-000C2903E717\n",
        "https://www.acls.org/societies/societies.aspx?sid=A31B3B6E-C9A2-DB11-A735-000C2903E717\n",
        "https://www.acls.org/societies/societies.aspx?sid=A61B3B6E-C9A2-DB11-A735-000C2903E717\n",
        "https://www.acls.org/societies/societies.aspx?sid=820AEE76-D65D-DF11-BC5E-000C293A51F7\n",
        "https://www.acls.org/societies/societies.aspx?sid=85B30AFF-80A3-DB11-A735-000C2903E717\n",
        "https://www.acls.org/societies/societies.aspx?sid=BBF41A18-81A3-DB11-A735-000C2903E717\n",
        "https://www.acls.org/societies/societies.aspx?sid=A91B3B6E-C9A2-DB11-A735-000C2903E717\n",
        "https://www.acls.org/societies/societies.aspx?sid=AF1B3B6E-C9A2-DB11-A735-000C2903E717\n",
        "https://www.acls.org/societies/societies.aspx?sid=B21B3B6E-C9A2-DB11-A735-000C2903E717\n",
        "https://www.acls.org/societies/societies.aspx?sid=B51B3B6E-C9A2-DB11-A735-000C2903E717\n",
        "https://www.acls.org/societies/societies.aspx?sid=B1F02D93-E77B-E011-B81F-000C293A51F7\n"
       ]
      },
      {
       "metadata": {},
       "output_type": "pyout",
       "prompt_number": 2,
       "text": [
        "[{'url': 'http://en.wikipedia.org/wiki/Category:Learned_societies'},\n",
        " {'url': 'http://en.wikipedia.org/wiki/Category:Facilities_and_organizations_of_science'},\n",
        " {'url': 'http://en.wikipedia.org/wiki/Category:Scientific_societies'}]"
       ]
      }
     ],
     "prompt_number": 2
    },
    {
     "cell_type": "code",
     "collapsed": false,
     "input": [
      "acls_member_count = len(learned_societies.acls_members)\n",
      "acls_member_count"
     ],
     "language": "python",
     "metadata": {},
     "outputs": [
      {
       "metadata": {},
       "output_type": "pyout",
       "prompt_number": 3,
       "text": [
        "72"
       ]
      }
     ],
     "prompt_number": 3
    },
    {
     "cell_type": "heading",
     "level": 3,
     "metadata": {},
     "source": [
      "Initiative for Science in Europe"
     ]
    },
    {
     "cell_type": "code",
     "collapsed": false,
     "input": [
      "ise_members, ise_observers =  learned_societies.initiative_for_science_in_europe()\n",
      "len(ise_members), len(ise_observers)"
     ],
     "language": "python",
     "metadata": {},
     "outputs": [
      {
       "metadata": {},
       "output_type": "pyout",
       "prompt_number": 4,
       "text": [
        "(19, 10)"
       ]
      }
     ],
     "prompt_number": 4
    },
    {
     "cell_type": "heading",
     "level": 3,
     "metadata": {},
     "source": [
      "British Academy's Directory of Subject Associations and Learned Societies based in the UK."
     ]
    },
    {
     "cell_type": "markdown",
     "metadata": {},
     "source": [
      "The entries are separated into different pages."
     ]
    },
    {
     "cell_type": "code",
     "collapsed": false,
     "input": [
      "import string\n",
      "alphabet = string.ascii_uppercase\n",
      "url_list = ['https://www.britac.ac.uk/links/uksahss.asp?Letter={}'.format(x) for x in alphabet]\n",
      "url_list[0]"
     ],
     "language": "python",
     "metadata": {},
     "outputs": [
      {
       "metadata": {},
       "output_type": "pyout",
       "prompt_number": 5,
       "text": [
        "'https://www.britac.ac.uk/links/uksahss.asp?Letter=A'"
       ]
      }
     ],
     "prompt_number": 5
    },
    {
     "cell_type": "markdown",
     "metadata": {},
     "source": [
      "We are going to requests or urlib to gather the entries. They are going to be saved"
     ]
    },
    {
     "cell_type": "markdown",
     "metadata": {},
     "source": [
      "One of approaches is to do it all in pandas dataframe."
     ]
    },
    {
     "cell_type": "heading",
     "level": 2,
     "metadata": {},
     "source": [
      "2.2 DBpedia as source of information about learned societies."
     ]
    },
    {
     "cell_type": "markdown",
     "metadata": {},
     "source": [
      "Some information can be retrieved from dbpedia."
     ]
    },
    {
     "cell_type": "code",
     "collapsed": false,
     "input": [
      "from rdflib import Graph, URIRef\n",
      "from disciplines.data import dbpedia\n",
      "url = 'http://dbpedia.org/page/Category:Learned_societies'\n",
      "g = Graph()\n",
      "g.parse(url)\n",
      "mylist = []"
     ],
     "language": "python",
     "metadata": {},
     "outputs": [
      {
       "output_type": "stream",
       "stream": "stderr",
       "text": [
        "WARNING:rdflib.term:http://dbpedia.org/sparql?default-graph-uri=http%3A%2F%2Fdbpedia.org&query=DESCRIBE+<http://dbpedia.org/resource/Category:Learned_societies>&format=text%2Fcsv does not look like a valid URI, trying to serialize this will break.\n"
       ]
      },
      {
       "output_type": "stream",
       "stream": "stderr",
       "text": [
        "WARNING:rdflib.term:http://dbpedia.org/sparql?default-graph-uri=http%3A%2F%2Fdbpedia.org&query=DESCRIBE+<http://dbpedia.org/resource/Category:Learned_societies>&output=application%2Fmicrodata%2Bjson does not look like a valid URI, trying to serialize this will break.\n"
       ]
      },
      {
       "output_type": "stream",
       "stream": "stderr",
       "text": [
        "WARNING:rdflib.term:http://dbpedia.org/sparql?default-graph-uri=http%3A%2F%2Fdbpedia.org&query=DESCRIBE+<http://dbpedia.org/resource/Category:Learned_societies>&output=text%2Fhtml does not look like a valid URI, trying to serialize this will break.\n"
       ]
      },
      {
       "output_type": "stream",
       "stream": "stderr",
       "text": [
        "WARNING:rdflib.term:http://dbpedia.org/sparql?default-graph-uri=http%3A%2F%2Fdbpedia.org&query=DESCRIBE+<http://dbpedia.org/resource/Category:Learned_societies>&output=application%2Fld%2Bjson does not look like a valid URI, trying to serialize this will break.\n"
       ]
      },
      {
       "output_type": "stream",
       "stream": "stderr",
       "text": [
        "WARNING:rdflib.term:http://dbpedia.org/sparql?default-graph-uri=http%3A%2F%2Fdbpedia.org&query=DESCRIBE+<http://dbpedia.org/resource/Category:Learned_societies>&format=text%2Fcsv does not look like a valid URI, trying to serialize this will break.\n"
       ]
      },
      {
       "output_type": "stream",
       "stream": "stderr",
       "text": [
        "WARNING:rdflib.term:http://dbpedia.org/sparql?default-graph-uri=http%3A%2F%2Fdbpedia.org&query=DESCRIBE+<http://dbpedia.org/resource/Category:Learned_societies>&output=application%2Fmicrodata%2Bjson does not look like a valid URI, trying to serialize this will break.\n"
       ]
      },
      {
       "output_type": "stream",
       "stream": "stderr",
       "text": [
        "WARNING:rdflib.term:http://dbpedia.org/sparql?default-graph-uri=http%3A%2F%2Fdbpedia.org&query=DESCRIBE+<http://dbpedia.org/resource/Category:Learned_societies>&output=text%2Fhtml does not look like a valid URI, trying to serialize this will break.\n"
       ]
      },
      {
       "output_type": "stream",
       "stream": "stderr",
       "text": [
        "WARNING:rdflib.term:http://dbpedia.org/sparql?default-graph-uri=http%3A%2F%2Fdbpedia.org&query=DESCRIBE+<http://dbpedia.org/resource/Category:Learned_societies>&output=application%2Fld%2Bjson does not look like a valid URI, trying to serialize this will break.\n"
       ]
      }
     ],
     "prompt_number": 6
    },
    {
     "cell_type": "heading",
     "level": 1,
     "metadata": {},
     "source": [
      "3. Analyzing one society"
     ]
    },
    {
     "cell_type": "markdown",
     "metadata": {},
     "source": [
      "In this part we are going to analyze different societies one by one. It is important to do so because it will enable us to structure our data more precisely."
     ]
    },
    {
     "cell_type": "heading",
     "level": 2,
     "metadata": {},
     "source": [
      "3.1 Social Studies of Science Society (4S)"
     ]
    },
    {
     "cell_type": "code",
     "collapsed": false,
     "input": [
      "import requests\n",
      "from bs4 import BeautifulSoup\n",
      "url = r'http://www.4sonline.org/officers'\n",
      "url = r'http://www.4sonline.org/society'\n",
      "urls = r'http://www.4sonline.org/profession/category/professional_associations'\n",
      "r = requests.get(url)\n",
      "soup = BeautifulSoup(r.text)"
     ],
     "language": "python",
     "metadata": {},
     "outputs": [],
     "prompt_number": 7
    },
    {
     "cell_type": "code",
     "collapsed": false,
     "input": [
      "import networkx as nx\n",
      "g = nx.Graph()"
     ],
     "language": "python",
     "metadata": {},
     "outputs": [],
     "prompt_number": 8
    },
    {
     "cell_type": "code",
     "collapsed": false,
     "input": [
      "name = 'Society for Social Studies of Science'\n",
      "description = '''Society for Social Studies of Science is the oldest and largest scholarly association devoted to understanding science and technology. While as many of us study technology as science, we continue to use our original name, or simply \"4S\".\n",
      "Mission\n",
      "\n",
      "The Society for Social Studies of Science exists to facilitate communication across conventional boundaries that separate the disciplines and across national boundaries that separate scholars.\n",
      "4S includes\n",
      "scholars in sociology, anthropology, history, philosophy, political science, economics, and psychology\n",
      "areas of study that fall outside of the traditional academic disciplines such as feminist studies and cultural studies, as well as those addressing science and technology for the public\n",
      "studies of knowledge, policy, R&D, the development and use of specific technologies\n",
      "working scientists and engineers interested in the social aspects of their fields\n",
      "members of the public who have an interest in the way that science and technology affect their lives'''\n",
      "governance = {'Gary Downey':'President' ,\n",
      "    'Steve Zehr':'Secretary',\n",
      "    'Paige Miller':'Treasurer',\n",
      "    'Wesley Shrum':'Program Officer'}\n",
      "\n",
      "# list of voculbaries, in which fir\n",
      "council = [\n",
      "    {'council member':'Kenji Ito', 'expires':'2014'} ,\n",
      "    {'council member':'Leandro Rodriguez Medina', 'expires':'2014'},\n",
      "    {'council member':'Kaushik Sunder Rajan', 'expires':'2014'},\n",
      "    {'council member':'Wen Hua Kuo', 'expires':'2015'} ,\n",
      "    {'council member':'Vivian Lagesen', 'expires':'2015'},\n",
      "    {'council member':'Kelly Moore', 'expires':'2015'}, \n",
      "    {'council member':'Abby Kinchy', 'expires':'2014'}, \n",
      "    {'council member':'Claire Waterton', 'expires':'2014'},\n",
      "    {'council member':'Sulfikar Amir', 'expires':'2014'}]\n",
      "\n",
      "links = []"
     ],
     "language": "python",
     "metadata": {},
     "outputs": [],
     "prompt_number": 9
    },
    {
     "cell_type": "code",
     "collapsed": false,
     "input": [
      "g.add_node(name, {'type':'learned_society'})\n",
      "g.add_node(description, {'type':'description'})\n",
      "g.add_edge(name, description, {'type':'description','source':'http://www.4sonline.org/society'})\n",
      "\n",
      "for x in governance:\n",
      "    g.add_node(x, {'type':'person'})\n",
      "    g.add_edge(name, x, {'type': governance[x]})"
     ],
     "language": "python",
     "metadata": {},
     "outputs": [],
     "prompt_number": 10
    },
    {
     "cell_type": "code",
     "collapsed": false,
     "input": [
      "for x in council:\n",
      "    g.add_node(x['council member'], {'type':'person'})\n",
      "    g.add_edge(name, x['council member'], {'type':'council member', 'expires':x['expires']})"
     ],
     "language": "python",
     "metadata": {},
     "outputs": [],
     "prompt_number": 11
    },
    {
     "cell_type": "code",
     "collapsed": false,
     "input": [
      "get_council_members = [x for x, y, z in g.edges_iter(data=True) if z['type'] == 'council member']\n",
      "get_presidents = [(x,y) for x, y, z in g.edges_iter(data=True) if z['type'] == 'President']\n",
      "get_persons = [x for x, y in g.nodes_iter(data=True) if y['type'] == 'person']"
     ],
     "language": "python",
     "metadata": {},
     "outputs": [],
     "prompt_number": 12
    },
    {
     "cell_type": "code",
     "collapsed": false,
     "input": [
      "get_presidents"
     ],
     "language": "python",
     "metadata": {},
     "outputs": [
      {
       "metadata": {},
       "output_type": "pyout",
       "prompt_number": 13,
       "text": [
        "[('Gary Downey', 'Society for Social Studies of Science')]"
       ]
      }
     ],
     "prompt_number": 13
    },
    {
     "cell_type": "heading",
     "level": 2,
     "metadata": {},
     "source": [
      "Scientometric Society for Scientometrics and Informetrics"
     ]
    },
    {
     "cell_type": "code",
     "collapsed": false,
     "input": [
      "name = 'Scientometric Society for Scientometrics and Informetrics'\n",
      "website = 'http://issi-society.org/'\n",
      "mission = '''The Society aims to encourage communication and exchange of professional information in the field of scientometrics and informetrics, to improve standards, theory and practice in all areas of the discipline, to stimulate research, education and training, and to enhance the public perception of the discipline.\n",
      "\n",
      "The Articles of Association state that the aim of ISSI is: \n",
      "The advancement of the theory, methods and explanations through two main streams.\n",
      "\n",
      "    Quantitative Studies\n",
      "        Scientific, technological and other scholarly substantive information\n",
      "        Science of science and technology, social sciences, arts and humanities\n",
      "        Generation, diffusion and use of information\n",
      "        Information systems, including libraries, archives and databases\n",
      "    Mathematical, Statistical, and Computational Modeling and Analysis of Information Processes.'''\n",
      "\n",
      "history = '''The Society was founded at the International Conference on Bibliometrics, Informetrics and Scientometrics held in Berlin, 11-15 September in 1993. This conference was the fourth of a series of prominent biennial conferences that subsequently have been held under the auspices of the Society. The Society was incorporated with formal Articles of Association in 1994 in the Netherlands (Utrecht); Dr Hildrun Kretschmer was elected its first President.\n",
      "\n",
      "The International Society for Informetrics and Scientometrics, ISSI, is an association of professionals active in the emerging interdisciplinary fields of informetrics, bibliometrics/scientometrics, technometrics and webometrics. Among its membership are scientists from over 30 countries representing all five continents.\n",
      "\n",
      "office bearers in issi\n",
      "\n",
      "The first President of ISSI was Hildrun Kretschmer (Germany) voted in by members of the Conference audience in Berlin, 1993. In 1995, following the ISSI conference in Chicago, Michael E.D. Koenig (USA) took over the Presidency for a period of two years. The following two years saw Bluma Peritz (Israel) as ISSI President; C\u00e9sar Mac\u00edas-Chapula (Mexico) for the years 1999-2001 and Mari Davis (Australia) 2001-2003. In 2002, the ISSI Board reviewed its policies relating to election of ISSI Board positions. In 2003, the first open voting for the President and the Board was conducted electronically among all members of the Society. Henry Small (USA) was elected the 6th president. In 2007 Ronald Rousseau (BEL) has been elected the 7th president of the society.'''\n",
      "\n",
      "\n",
      "president = 'Ronald Rousseau '\n",
      "secretary = u'Wolfgang Gl\u00e4nzel'\n",
      "treasurer = u'Wolfgang Gl\u00e4nzel'\n",
      "members = [\n",
      "    'Kevin Boyack',\n",
      "    u'Vincent Larivi\u00e8re',\n",
      "    'Jacqueline Leta',\n",
      "    'Henk Moed',\n",
      "    'Ed Noyons',\n",
      "    'Cassidy Sugimoto'\n",
      "    ]\n",
      "\n",
      "members1 = [\n",
      "    'Aparna Basu',\n",
      "    'Leo Egghe',\n",
      "    'Peter Ingwersen',\n",
      "    'Grant Lewison',\n",
      "    'Henk Moed',\n",
      "    'Ed Noyons'\n",
      "    ]\n",
      "\n",
      "members2 = [\n",
      "    'Judit Bar-Ilan',\n",
      "    'Aparna Basu',\n",
      "    'Peter Ingwersen',\n",
      "    'Grant Lewison',\n",
      "    'Martin Meyer',\n",
      "    'Olle Persson'\n",
      "    ]\n",
      "\n",
      "g.add_node(name,{'type':'learned society'})\n",
      "\n",
      "g.add_node(website,{'type':'learned society'})\n",
      "g.add_edge(name, website)\n",
      "\n",
      "g.add_node(mission)\n",
      "g.add_edge(website, mission, {'type':'mission'})\n",
      "\n",
      "g.add_node(history)\n",
      "g.add_edge(website, history, {'type':'history'})\n",
      "\n",
      "g.add_node(president)\n",
      "g.add_edge(website, president, {'type':'president'})\n",
      "\n",
      "g.add_node(secretary)\n",
      "g.add_edge(website, secretary, {'type':'secretary'})\n",
      "\n",
      "g.add_node(treasurer)\n",
      "g.add_edge(website, treasurer, {'type':'treasurer'})\n",
      "\n",
      "for x in members:\n",
      "    g.add_node(x)\n",
      "    g.add_edge(website, x, {'type':'board member', '2012':True, '2013':True, '2015':True})\n",
      "for x in members1:\n",
      "    g.add_node(x)\n",
      "    g.add_edge(website, x, {'type':'board member', '2011':True, '2012':True, '2013':True})\n",
      "for x in members2:\n",
      "    g.add_node(x)\n",
      "    g.add_edge(website, x, {'type':'board member', '2009':True, '2010':True, '2011':True})\n"
     ],
     "language": "python",
     "metadata": {},
     "outputs": [],
     "prompt_number": 14
    },
    {
     "cell_type": "code",
     "collapsed": false,
     "input": [
      "import matplotlib.pyplot as plt\n",
      "%matplotlib inline\n",
      "pos = nx.fruchterman_reingold_layout(g)\n",
      "nx.draw_networkx_nodes(g,pos)\n",
      "nx.draw_networkx_edges(g,pos)\n",
      "nx.draw_networkx_labels(g,pos)"
     ],
     "language": "python",
     "metadata": {},
     "outputs": [
      {
       "metadata": {},
       "output_type": "pyout",
       "prompt_number": 15,
       "text": [
        "{'Abby Kinchy': <matplotlib.text.Text at 0x7766890>,\n",
        " 'Aparna Basu': <matplotlib.text.Text at 0x7745210>,\n",
        " 'Ed Noyons': <matplotlib.text.Text at 0x77663d0>,\n",
        " 'Gary Downey': <matplotlib.text.Text at 0x7766af0>,\n",
        " 'Grant Lewison': <matplotlib.text.Text at 0x91a8870>,\n",
        " 'Henk Moed': <matplotlib.text.Text at 0x7766630>,\n",
        " 'Jacqueline Leta': <matplotlib.text.Text at 0x775b4b0>,\n",
        " 'Judit Bar-Ilan': <matplotlib.text.Text at 0x7766fb0>,\n",
        " 'Kelly Moore': <matplotlib.text.Text at 0x7745db0>,\n",
        " 'Kenji Ito': <matplotlib.text.Text at 0x7766d50>,\n",
        " 'Kevin Boyack': <matplotlib.text.Text at 0x7745930>,\n",
        " 'Leandro Rodriguez Medina': <matplotlib.text.Text at 0x7745b70>,\n",
        " 'Martin Meyer': <matplotlib.text.Text at 0x91a81b0>,\n",
        " 'Olle Persson': <matplotlib.text.Text at 0x775bb70>,\n",
        " 'Peter Ingwersen': <matplotlib.text.Text at 0x91a8cf0>,\n",
        " 'Ronald Rousseau ': <matplotlib.text.Text at 0x775b030>,\n",
        " 'Scientometric Society for Scientometrics and Informetrics': <matplotlib.text.Text at 0x91a8ab0>,\n",
        " 'Society for Social Studies of Science': <matplotlib.text.Text at 0x91a8630>,\n",
        " 'Society for Social Studies of Science is the oldest and largest scholarly association devoted to understanding science and technology. While as many of us study technology as science, we continue to use our original name, or simply \"4S\".\\nMission\\n\\nThe Society for Social Studies of Science exists to facilitate communication across conventional boundaries that separate the disciplines and across national boundaries that separate scholars.\\n4S includes\\nscholars in sociology, anthropology, history, philosophy, political science, economics, and psychology\\nareas of study that fall outside of the traditional academic disciplines such as feminist studies and cultural studies, as well as those addressing science and technology for the public\\nstudies of knowledge, policy, R&D, the development and use of specific technologies\\nworking scientists and engineers interested in the social aspects of their fields\\nmembers of the public who have an interest in the way that science and technology affect their lives': <matplotlib.text.Text at 0x91a83f0>,\n",
        " 'Steve Zehr': <matplotlib.text.Text at 0x77456d0>,\n",
        " 'Sulfikar Amir': <matplotlib.text.Text at 0x775b6f0>,\n",
        " 'The Society aims to encourage communication and exchange of professional information in the field of scientometrics and informetrics, to improve standards, theory and practice in all areas of the discipline, to stimulate research, education and training, and to enhance the public perception of the discipline.\\n\\nThe Articles of Association state that the aim of ISSI is: \\nThe advancement of the theory, methods and explanations through two main streams.\\n\\n    Quantitative Studies\\n        Scientific, technological and other scholarly substantive information\\n        Science of science and technology, social sciences, arts and humanities\\n        Generation, diffusion and use of information\\n        Information systems, including libraries, archives and databases\\n    Mathematical, Statistical, and Computational Modeling and Analysis of Information Processes.': <matplotlib.text.Text at 0x91a3fb0>,\n",
        " u'Vincent Larivi\\xe8re': <matplotlib.text.Text at 0x91a3d70>,\n",
        " 'Wen Hua Kuo': <matplotlib.text.Text at 0x7745470>,\n",
        " 'Wesley Shrum': <matplotlib.text.Text at 0x7766190>,\n",
        " u'Wolfgang Gl\\xe4nzel': <matplotlib.text.Text at 0x91a3a70>,\n",
        " 'http://issi-society.org/': <matplotlib.text.Text at 0x775b270>,\n",
        " 'The Society was founded at the International Conference on Bibliometrics, Informetrics and Scientometrics held in Berlin, 11-15 September in 1993. This conference was the fourth of a series of prominent biennial conferences that subsequently have been held under the auspices of the Society. The Society was incorporated with formal Articles of Association in 1994 in the Netherlands (Utrecht); Dr Hildrun Kretschmer was elected its first President.\\n\\nThe International Society for Informetrics and Scientometrics, ISSI, is an association of professionals active in the emerging interdisciplinary fields of informetrics, bibliometrics/scientometrics, technometrics and webometrics. Among its membership are scientists from over 30 countries representing all five continents.\\n\\noffice bearers in issi\\n\\nThe first President of ISSI was Hildrun Kretschmer (Germany) voted in by members of the Conference audience in Berlin, 1993. In 1995, following the ISSI conference in Chicago, Michael E.D. Koenig (USA) took over the Presidency for a period of two years. The following two years saw Bluma Peritz (Israel) as ISSI President; C\\xc3\\xa9sar Mac\\xc3\\xadas-Chapula (Mexico) for the years 1999-2001 and Mari Davis (Australia) 2001-2003. In 2002, the ISSI Board reviewed its policies relating to election of ISSI Board positions. In 2003, the first open voting for the President and the Board was conducted electronically among all members of the Society. Henry Small (USA) was elected the 6th president. In 2007 Ronald Rousseau (BEL) has been elected the 7th president of the society.': <matplotlib.text.Text at 0x775b930>,\n",
        " 'Cassidy Sugimoto': <matplotlib.text.Text at 0x91a8f30>,\n",
        " 'Vivian Lagesen': <matplotlib.text.Text at 0x775bdb0>,\n",
        " 'Claire Waterton': <matplotlib.text.Text at 0x775bff0>,\n",
        " 'Kaushik Sunder Rajan': <matplotlib.text.Text at 0x7735250>,\n",
        " 'Paige Miller': <matplotlib.text.Text at 0x7735490>,\n",
        " 'Leo Egghe': <matplotlib.text.Text at 0x77356d0>}"
       ]
      },
      {
       "output_type": "stream",
       "stream": "stderr",
       "text": [
        "C:\\c\\envs\\p2\\lib\\site-packages\\IPython\\core\\formatters.py:239: FormatterWarning: Exception in image/png formatter: matplotlib display text must have all code points < 128 or use Unicode strings\n",
        "  FormatterWarning,\n"
       ]
      },
      {
       "metadata": {},
       "output_type": "display_data",
       "text": [
        "<matplotlib.figure.Figure at 0x922e4d0>"
       ]
      }
     ],
     "prompt_number": 15
    },
    {
     "cell_type": "markdown",
     "metadata": {},
     "source": [
      "Adding a journal"
     ]
    },
    {
     "cell_type": "markdown",
     "metadata": {},
     "source": [
      "Move to journals"
     ]
    },
    {
     "cell_type": "code",
     "collapsed": false,
     "input": [
      "Editor_in_Chief = 'T. Braun (Hungary)'\n",
      "Editor =  'A. Schubert (Hungary)'\n",
      "Co_editor = 'W. Gl\u00e4nzel (Belgium/Hungary)'\n",
      "\n",
      "Honorary_Editors = [\n",
      "    'M.T. Beck (Hungary)',\n",
      "    'E. Garfield (USA)',\n",
      "    'M. Orb\u00e1n (Hungary)']\n",
      "\n",
      "Associate_Editors = [\n",
      "'A. Balaban (Romania)',\n",
      "'A. Bookstein (USA)',\n",
      "'M. Bonitz (Germany)',\n",
      "'J. P. Courtial (France)',\n",
      "'H.-D. Daniel (Switzerland)',\n",
      "'I. Gomez (Spain)',\n",
      "'D.H. Kraft (USA)',\n",
      "'H. Kretschmer (Germany)',\n",
      "'L. Liang (China)',\n",
      "'C. McCain (USA)',\n",
      "'A.J. Meadows (UK)',\n",
      "'H. Moed (The Netherlands)',\n",
      "'F. Da Pozzo (Switzerland)',\n",
      "'E. Rinia (The Netherlands)',\n",
      "'V. Trimble (USA)',\n",
      "'P.Vinkler (Hungary)']\n",
      "\n",
      "Editorial_Board = [\n",
      "'H.A. Abt (USA)',\n",
      "'J. Bar-Ilan (Israel)',\n",
      "'E. Bassecoulard (France)',\n",
      "'M. Bordons (Spain)',\n",
      "'Q. Burrell (Isle of Man)',\n",
      "'L. Butler (Australia)',\n",
      "'S. Cole (USA)',\n",
      "'B. Cronin (USA)',\n",
      "'M. Davis (Australia)',\n",
      "'K. Debackere (Belgium)',\n",
      "'L. Egghe (Belgium)',\n",
      "'H. Eto (Japan)',\n",
      "'L. Georghiou (UK)',\n",
      "'B. Godin (Canada)',\n",
      "'H. Grupp (Germany)',\n",
      "'P. Ingwersen (Denmark)',\n",
      "'R.N. Kostoff (USA)',\n",
      "'M.E.D. Koenig (USA)',\n",
      "'M. Krauskopf (Chile)',\n",
      "'G. Lewison (UK)',\n",
      "'L. Leydesdorff (The Netherlands)',\n",
      "'M. Meyer (UK)',\n",
      "'F. Narin (USA)',\n",
      "'A. Nederhof (The Netherlands)',\n",
      "'E. Noyons (The Netherlands)',\n",
      "'Y. Okubo (France)',\n",
      "'O. Persson (Sweden)',\n",
      "'B. Peritz (Israel)',\n",
      "'I.K. Ravichandra Rao (India)',\n",
      "'R. Rousseau (Belgium)',\n",
      "'J. Russell (Mexico)',\n",
      "'H. Small (USA)',\n",
      "'W.E. Snizek (USA)',\n",
      "'A. Van Raan (The Netherlands)',\n",
      "'H.D. White (USA)',\n",
      "'C.S. Wilson (Australia)',\n",
      "'M. Zitt (France)']\n",
      "\n",
      "Editor_in_Chief, Editor, Co_editor, Honorary_Editors, Associate_Editors, Editorial_Board"
     ],
     "language": "python",
     "metadata": {},
     "outputs": [
      {
       "metadata": {},
       "output_type": "pyout",
       "prompt_number": 16,
       "text": [
        "('T. Braun (Hungary)',\n",
        " 'A. Schubert (Hungary)',\n",
        " 'W. Gl\\xc3\\xa4nzel (Belgium/Hungary)',\n",
        " ['M.T. Beck (Hungary)', 'E. Garfield (USA)', 'M. Orb\\xc3\\xa1n (Hungary)'],\n",
        " ['A. Balaban (Romania)',\n",
        "  'A. Bookstein (USA)',\n",
        "  'M. Bonitz (Germany)',\n",
        "  'J. P. Courtial (France)',\n",
        "  'H.-D. Daniel (Switzerland)',\n",
        "  'I. Gomez (Spain)',\n",
        "  'D.H. Kraft (USA)',\n",
        "  'H. Kretschmer (Germany)',\n",
        "  'L. Liang (China)',\n",
        "  'C. McCain (USA)',\n",
        "  'A.J. Meadows (UK)',\n",
        "  'H. Moed (The Netherlands)',\n",
        "  'F. Da Pozzo (Switzerland)',\n",
        "  'E. Rinia (The Netherlands)',\n",
        "  'V. Trimble (USA)',\n",
        "  'P.Vinkler (Hungary)'],\n",
        " ['H.A. Abt (USA)',\n",
        "  'J. Bar-Ilan (Israel)',\n",
        "  'E. Bassecoulard (France)',\n",
        "  'M. Bordons (Spain)',\n",
        "  'Q. Burrell (Isle of Man)',\n",
        "  'L. Butler (Australia)',\n",
        "  'S. Cole (USA)',\n",
        "  'B. Cronin (USA)',\n",
        "  'M. Davis (Australia)',\n",
        "  'K. Debackere (Belgium)',\n",
        "  'L. Egghe (Belgium)',\n",
        "  'H. Eto (Japan)',\n",
        "  'L. Georghiou (UK)',\n",
        "  'B. Godin (Canada)',\n",
        "  'H. Grupp (Germany)',\n",
        "  'P. Ingwersen (Denmark)',\n",
        "  'R.N. Kostoff (USA)',\n",
        "  'M.E.D. Koenig (USA)',\n",
        "  'M. Krauskopf (Chile)',\n",
        "  'G. Lewison (UK)',\n",
        "  'L. Leydesdorff (The Netherlands)',\n",
        "  'M. Meyer (UK)',\n",
        "  'F. Narin (USA)',\n",
        "  'A. Nederhof (The Netherlands)',\n",
        "  'E. Noyons (The Netherlands)',\n",
        "  'Y. Okubo (France)',\n",
        "  'O. Persson (Sweden)',\n",
        "  'B. Peritz (Israel)',\n",
        "  'I.K. Ravichandra Rao (India)',\n",
        "  'R. Rousseau (Belgium)',\n",
        "  'J. Russell (Mexico)',\n",
        "  'H. Small (USA)',\n",
        "  'W.E. Snizek (USA)',\n",
        "  'A. Van Raan (The Netherlands)',\n",
        "  'H.D. White (USA)',\n",
        "  'C.S. Wilson (Australia)',\n",
        "  'M. Zitt (France)'])"
       ]
      }
     ],
     "prompt_number": 16
    },
    {
     "cell_type": "markdown",
     "metadata": {},
     "source": [
      "Move to journals"
     ]
    },
    {
     "cell_type": "code",
     "collapsed": false,
     "input": [
      "#another journal, related\n",
      "url = 'http://www.issi-society.org/joi/'\n",
      "Name = 'JOURNAL OF INFORMETRICS'\n",
      "ISSN = '0138-9130'\n",
      "Publisher = 'Elsevier B.V.'\n",
      "Editor_in_chief = 'Leo Egghe (Hasselt University, Belgium)'\n",
      "Editorial_Board = [\n",
      "\t'P. Ahlgren (The Swedish School of Library and Information Science, Sweden)',\n",
      "\t'J. Bar-Ilan (Bar-Ilan University, Israel)',\n",
      "\t'J. Bollen (Los Alamos National Laboratory, USA)',\n",
      "\t'A. Bookstein (University of Chicago, USA)',\n",
      "\t'K. B\u00f6rner (Indiana University, USA)',\n",
      "\t'K. Boyack (Sandia National Laboratories, USA)',\n",
      "\t'Q. Burrell (Isle of Man International Business School, Isle of Man)',\n",
      "\t'C. Chen (Drexel University, Philadelphia)',\n",
      "\t'B. Cronin (Indiana University, USA)',\n",
      "\t'W. Gl\u00e4nzel (K.U. Leuven, Belgium)',\n",
      "\t'P. Ingwersen (Royal School of LIS, Denmark)',\n",
      "\t'R.N. Kostoff (Office of Naval Research, USA)'\n",
      "\t'D. Kraft (Louisiana State University, USA)',\n",
      "\t'H. Kretschmer (Humboldt-University Berlin, Germany)',\n",
      "\t'T. Lafouge (University Claude Bernard Lyon 1, France)',\n",
      "\t'L. Leydesdorff (University of Amsterdam, The Netherlands)',\n",
      "\t'L. Liang (Henan Normal University, China)',\n",
      "\t'K. McCain (Drexel University, Philadelphia, USA)',\n",
      "\t'H. Moed (Leiden University, The Netherlands)',\n",
      "\t'D. Ocholla (University of Zululand, South Africa)',\n",
      "\t'O. Persson (Ume\u00e5 University, Sweden)',\n",
      "\t'I.K. Ravichandra Rao (Indian Statistical Institute, India)',\n",
      "\t'S. Redner (Boston University, USA)',\n",
      "\t'R. Rousseau (KHBO, Belgium)',\n",
      "\t'I. Rowlands (University College London, UK)',\n",
      "\t'S. Shi (University of Shanghai, Shanghai)',\n",
      "\t'H. Small (ISI Thomson Scientific, USA)',\n",
      "\t'M. Thelwall (University of Wolverhampton, UK)',\n",
      "\t'A. van Raan (Leiden University, The Netherlands)',\n",
      "\t'L. Vaughan (The University of Western Ontario, Canada)',\n",
      "\t'C. Wilson (The University of New South Wales, Australia)',\n",
      "\t'D. Wolfram (University of Wisconsin, USA)']\n"
     ],
     "language": "python",
     "metadata": {},
     "outputs": [],
     "prompt_number": 20
    },
    {
     "cell_type": "heading",
     "level": 2,
     "metadata": {},
     "source": [
      "Automatize"
     ]
    },
    {
     "cell_type": "markdown",
     "metadata": {},
     "source": [
      "Here we will see how to automatize the data."
     ]
    },
    {
     "cell_type": "code",
     "collapsed": false,
     "input": [
      "#soup.find_all(True,recursive=True)"
     ],
     "language": "python",
     "metadata": {},
     "outputs": [],
     "prompt_number": 21
    },
    {
     "cell_type": "code",
     "collapsed": false,
     "input": [
      "li = soup.find(True, {'id':'container'})\n",
      "children = li.findChildren()\n",
      "for child in children:\n",
      "    print child"
     ],
     "language": "python",
     "metadata": {},
     "outputs": [
      {
       "output_type": "stream",
       "stream": "stdout",
       "text": [
        "<div id=\"leftcol\">\n",
        "<p class=\"section\"><a class=\"sectionhead\" href=\"http://www.4sonline.org/society\">The Society</a></p>\n",
        "<p><a href=\"http://www.4sonline.org/4s_news\">4S News</a></p>\n",
        "<p><a href=\"http://www.4sonline.org/resolutions_reports\">4S Resolutions and Reports</a></p>\n",
        "<!--<p><a href=\"http://www.4sonline.org/engagement\">Public Engagement</a></p>-->\n",
        "<p><a href=\"http://www.4sonline.org/calendar\">4S Calendar </a> </p>\n",
        "<p><a href=\"http://www.4sonline.org/publications\">4S Publications </a> </p>\n",
        "<p><a href=\"http://www.4sonline.org/prizes\">Prizes</a></p>\n",
        "<p><a href=\"http://www.4sonline.org/membership\">Membership</a> </p>\n",
        "<p><a href=\"http://www.4sonline.org/governance\">Governance</a> </p>\n",
        "</div>\n",
        "<p class=\"section\"><a class=\"sectionhead\" href=\"http://www.4sonline.org/society\">The Society</a></p>\n",
        "<a class=\"sectionhead\" href=\"http://www.4sonline.org/society\">The Society</a>\n",
        "<p><a href=\"http://www.4sonline.org/4s_news\">4S News</a></p>\n",
        "<a href=\"http://www.4sonline.org/4s_news\">4S News</a>\n",
        "<p><a href=\"http://www.4sonline.org/resolutions_reports\">4S Resolutions and Reports</a></p>\n",
        "<a href=\"http://www.4sonline.org/resolutions_reports\">4S Resolutions and Reports</a>\n",
        "<p><a href=\"http://www.4sonline.org/calendar\">4S Calendar </a> </p>\n",
        "<a href=\"http://www.4sonline.org/calendar\">4S Calendar </a>\n",
        "<p><a href=\"http://www.4sonline.org/publications\">4S Publications </a> </p>\n",
        "<a href=\"http://www.4sonline.org/publications\">4S Publications </a>\n",
        "<p><a href=\"http://www.4sonline.org/prizes\">Prizes</a></p>\n",
        "<a href=\"http://www.4sonline.org/prizes\">Prizes</a>\n",
        "<p><a href=\"http://www.4sonline.org/membership\">Membership</a> </p>\n",
        "<a href=\"http://www.4sonline.org/membership\">Membership</a>\n",
        "<p><a href=\"http://www.4sonline.org/governance\">Governance</a> </p>\n",
        "<a href=\"http://www.4sonline.org/governance\">Governance</a>\n",
        "<div id=\"maincol\">\n",
        "<h1>The Society</h1>\n",
        "<p>Society for Social Studies of Science\n",
        "        is the oldest and largest scholarly association devoted to  <strong>understanding\n",
        "        science <em>and</em> technology. </strong>While as many of us  study technology\n",
        "        as science, we continue to use our original name, or  simply \"4S\".</p>\n",
        "<h2> Mission</h2>\n",
        "<p>The Society for Social Studies of Science exists to facilitate\n",
        "          communication across conventional boundaries that separate the disciplines\n",
        "          and across national boundaries that separate scholars. </p>\n",
        "<p>4S includes    </p>\n",
        "<ul>\n",
        "<li>scholars in sociology, anthropology, history, philosophy, political\n",
        "        science, economics, and psychology </li>\n",
        "<li> areas of study that fall outside of the traditional academic disciplines\n",
        "          such as feminist studies and cultural studies, as well as those addressing\n",
        "        science and technology for the public </li>\n",
        "<li> studies of knowledge, policy, R&amp;D, the development and use of\n",
        "          specific technologies</li>\n",
        "<li> working scientists and engineers interested in the social aspects\n",
        "          of their fields </li>\n",
        "<li> members of the public who have an interest in the way that science\n",
        "            and technology affect their lives </li>\n",
        "</ul>\n",
        "<p>Annual membership rates are $45 for professionals and $22 for students\n",
        "      and for scholars from Central/Eastern Europe and developing countries. The low cost of membership allows students and scholars from\n",
        "        developing countries to receive all the benefits of a professional association\n",
        "      at reduced rates. </p>\n",
        "<p> Our journal is mailed first class, at no extra charge,\n",
        "      to all members worldwide. Members also receive Technoscience Updates, a monthly email publication summarizing events in the field. Read more about <a href=\"http://www.4sonline.org/pages/membership\">membership in 4S</a>.</p>\n",
        "<h2>Contact Information </h2>\n",
        "<p>Telephone USA-225-578-5311 </p>\n",
        "<p>Fax USA-225-578-5102 </p>\n",
        "<p>Department of Sociology<br/>\n",
        "        Louisiana State University<br/>\n",
        "        Baton Rouge, Louisiana 70803\u00a0 USA </p>\n",
        "<p>General Information: <script language=\"javascript\">\n",
        "var first = 'ma';\n",
        "var second = 'il';\n",
        "var third = 'to:';\n",
        "var address = 'shrum';\n",
        "var domain = 'lsu';\n",
        "var ext = 'edu'; \n",
        "document.write('<a href=\"');\n",
        "document.write(first+second+third);\n",
        "document.write(address);\n",
        "document.write('&#64;');\n",
        "document.write(domain);\n",
        "document.write('.');\n",
        "document.write(ext); \n",
        "document.write('\">'); \n",
        "document.write(address);\n",
        "document.write('&#64;');\n",
        "document.write(domain);\n",
        "document.write('.');\n",
        "document.write(ext); \n",
        "document.write('</a>');\n",
        "</script><br/>\n",
        "</p>\n",
        "<p>Web site and membership issues : \n",
        "        <script language=\"javascript\">\n",
        "var first = 'ma';\n",
        "var second = 'il';\n",
        "var third = 'to:';\n",
        "var address = 'webmaster';\n",
        "var domain = '4sonline';\n",
        "var ext = 'org'; \n",
        "document.write('<a href=\"');\n",
        "document.write(first+second+third);\n",
        "document.write(address);\n",
        "document.write('&#64;');\n",
        "document.write(domain);\n",
        "document.write('.');\n",
        "document.write(ext); \n",
        "document.write('\">'); \n",
        "document.write(address);\n",
        "document.write('&#64;');\n",
        "document.write(domain);\n",
        "document.write('.');\n",
        "document.write(ext); \n",
        "document.write('</a>');\n",
        "        </script>\n",
        "</p>\n",
        "<br clear=\"both\"/>\n",
        "</div>\n",
        "<h1>The Society</h1>\n",
        "<p>Society for Social Studies of Science\n",
        "        is the oldest and largest scholarly association devoted to  <strong>understanding\n",
        "        science <em>and</em> technology. </strong>While as many of us  study technology\n",
        "        as science, we continue to use our original name, or  simply \"4S\".</p>\n",
        "<strong>understanding\n",
        "        science <em>and</em> technology. </strong>\n",
        "<em>and</em>\n",
        "<h2> Mission</h2>\n",
        "<p>The Society for Social Studies of Science exists to facilitate\n",
        "          communication across conventional boundaries that separate the disciplines\n",
        "          and across national boundaries that separate scholars. </p>\n",
        "<p>4S includes    </p>\n",
        "<ul>\n",
        "<li>scholars in sociology, anthropology, history, philosophy, political\n",
        "        science, economics, and psychology </li>\n",
        "<li> areas of study that fall outside of the traditional academic disciplines\n",
        "          such as feminist studies and cultural studies, as well as those addressing\n",
        "        science and technology for the public </li>\n",
        "<li> studies of knowledge, policy, R&amp;D, the development and use of\n",
        "          specific technologies</li>\n",
        "<li> working scientists and engineers interested in the social aspects\n",
        "          of their fields </li>\n",
        "<li> members of the public who have an interest in the way that science\n",
        "            and technology affect their lives </li>\n",
        "</ul>\n",
        "<li>scholars in sociology, anthropology, history, philosophy, political\n",
        "        science, economics, and psychology </li>\n",
        "<li> areas of study that fall outside of the traditional academic disciplines\n",
        "          such as feminist studies and cultural studies, as well as those addressing\n",
        "        science and technology for the public </li>\n",
        "<li> studies of knowledge, policy, R&amp;D, the development and use of\n",
        "          specific technologies</li>\n",
        "<li> working scientists and engineers interested in the social aspects\n",
        "          of their fields </li>\n",
        "<li> members of the public who have an interest in the way that science\n",
        "            and technology affect their lives </li>\n",
        "<p>Annual membership rates are $45 for professionals and $22 for students\n",
        "      and for scholars from Central/Eastern Europe and developing countries. The low cost of membership allows students and scholars from\n",
        "        developing countries to receive all the benefits of a professional association\n",
        "      at reduced rates. </p>\n",
        "<p> Our journal is mailed first class, at no extra charge,\n",
        "      to all members worldwide. Members also receive Technoscience Updates, a monthly email publication summarizing events in the field. Read more about <a href=\"http://www.4sonline.org/pages/membership\">membership in 4S</a>.</p>\n",
        "<a href=\"http://www.4sonline.org/pages/membership\">membership in 4S</a>\n",
        "<h2>Contact Information </h2>\n",
        "<p>Telephone USA-225-578-5311 </p>\n",
        "<p>Fax USA-225-578-5102 </p>\n",
        "<p>Department of Sociology<br/>\n",
        "        Louisiana State University<br/>\n",
        "        Baton Rouge, Louisiana 70803\u00a0 USA </p>\n",
        "<br/>\n",
        "<br/>\n",
        "<p>General Information: <script language=\"javascript\">\n",
        "var first = 'ma';\n",
        "var second = 'il';\n",
        "var third = 'to:';\n",
        "var address = 'shrum';\n",
        "var domain = 'lsu';\n",
        "var ext = 'edu'; \n",
        "document.write('<a href=\"');\n",
        "document.write(first+second+third);\n",
        "document.write(address);\n",
        "document.write('&#64;');\n",
        "document.write(domain);\n",
        "document.write('.');\n",
        "document.write(ext); \n",
        "document.write('\">'); \n",
        "document.write(address);\n",
        "document.write('&#64;');\n",
        "document.write(domain);\n",
        "document.write('.');\n",
        "document.write(ext); \n",
        "document.write('</a>');\n",
        "</script><br/>\n",
        "</p>\n",
        "<script language=\"javascript\">\n",
        "var first = 'ma';\n",
        "var second = 'il';\n",
        "var third = 'to:';\n",
        "var address = 'shrum';\n",
        "var domain = 'lsu';\n",
        "var ext = 'edu'; \n",
        "document.write('<a href=\"');\n",
        "document.write(first+second+third);\n",
        "document.write(address);\n",
        "document.write('&#64;');\n",
        "document.write(domain);\n",
        "document.write('.');\n",
        "document.write(ext); \n",
        "document.write('\">'); \n",
        "document.write(address);\n",
        "document.write('&#64;');\n",
        "document.write(domain);\n",
        "document.write('.');\n",
        "document.write(ext); \n",
        "document.write('</a>');\n",
        "</script>\n",
        "<br/>\n",
        "<p>Web site and membership issues : \n",
        "        <script language=\"javascript\">\n",
        "var first = 'ma';\n",
        "var second = 'il';\n",
        "var third = 'to:';\n",
        "var address = 'webmaster';\n",
        "var domain = '4sonline';\n",
        "var ext = 'org'; \n",
        "document.write('<a href=\"');\n",
        "document.write(first+second+third);\n",
        "document.write(address);\n",
        "document.write('&#64;');\n",
        "document.write(domain);\n",
        "document.write('.');\n",
        "document.write(ext); \n",
        "document.write('\">'); \n",
        "document.write(address);\n",
        "document.write('&#64;');\n",
        "document.write(domain);\n",
        "document.write('.');\n",
        "document.write(ext); \n",
        "document.write('</a>');\n",
        "        </script>\n",
        "</p>\n",
        "<script language=\"javascript\">\n",
        "var first = 'ma';\n",
        "var second = 'il';\n",
        "var third = 'to:';\n",
        "var address = 'webmaster';\n",
        "var domain = '4sonline';\n",
        "var ext = 'org'; \n",
        "document.write('<a href=\"');\n",
        "document.write(first+second+third);\n",
        "document.write(address);\n",
        "document.write('&#64;');\n",
        "document.write(domain);\n",
        "document.write('.');\n",
        "document.write(ext); \n",
        "document.write('\">'); \n",
        "document.write(address);\n",
        "document.write('&#64;');\n",
        "document.write(domain);\n",
        "document.write('.');\n",
        "document.write(ext); \n",
        "document.write('</a>');\n",
        "        </script>\n",
        "<br clear=\"both\"/>\n"
       ]
      }
     ],
     "prompt_number": 22
    },
    {
     "cell_type": "code",
     "collapsed": false,
     "input": [
      "soup.find_all('strong')"
     ],
     "language": "python",
     "metadata": {},
     "outputs": [
      {
       "metadata": {},
       "output_type": "pyout",
       "prompt_number": 23,
       "text": [
        "[<strong>understanding\n",
        "         science <em>and</em> technology. </strong>]"
       ]
      }
     ],
     "prompt_number": 23
    },
    {
     "cell_type": "heading",
     "level": 2,
     "metadata": {},
     "source": [
      "Scientometrics"
     ]
    },
    {
     "cell_type": "code",
     "collapsed": false,
     "input": [
      "'http://www.issi-society.org/board.html'"
     ],
     "language": "python",
     "metadata": {},
     "outputs": [
      {
       "metadata": {},
       "output_type": "pyout",
       "prompt_number": 24,
       "text": [
        "'http://www.issi-society.org/board.html'"
       ]
      }
     ],
     "prompt_number": 24
    },
    {
     "cell_type": "code",
     "collapsed": false,
     "input": [
      "'http://www.issi-society.org/links.html' #Three types: institutes, societies and journals"
     ],
     "language": "python",
     "metadata": {},
     "outputs": [
      {
       "metadata": {},
       "output_type": "pyout",
       "prompt_number": 25,
       "text": [
        "'http://www.issi-society.org/links.html'"
       ]
      }
     ],
     "prompt_number": 25
    },
    {
     "cell_type": "markdown",
     "metadata": {},
     "source": [
      "Move to journals"
     ]
    },
    {
     "cell_type": "code",
     "collapsed": false,
     "input": [
      "'http://www.issi-society.org/scientometrics/' #lots of abstracts, editors and review.\n",
      "'http://www.historyoftechnology.org/Resources/' #lots of diferent links\n",
      "'http://www.historyoftechnology.org/Resources/classic_works.html'"
     ],
     "language": "python",
     "metadata": {},
     "outputs": [
      {
       "metadata": {},
       "output_type": "pyout",
       "prompt_number": 26,
       "text": [
        "'http://www.historyoftechnology.org/Resources/classic_works.html'"
       ]
      }
     ],
     "prompt_number": 26
    },
    {
     "cell_type": "heading",
     "level": 2,
     "metadata": {},
     "source": [
      "Econometric society"
     ]
    },
    {
     "cell_type": "code",
     "collapsed": false,
     "input": [
      "url = 'https://www.econometricsociety.org/society/organization-and-governance/executive-committee/past-officers-council'\n",
      "r = requests.get(url)\n",
      "soup = BeautifulSoup(r.text)"
     ],
     "language": "python",
     "metadata": {},
     "outputs": [],
     "prompt_number": 27
    },
    {
     "cell_type": "code",
     "collapsed": false,
     "input": [
      "#print soup.find(True)"
     ],
     "language": "python",
     "metadata": {},
     "outputs": [],
     "prompt_number": 28
    },
    {
     "cell_type": "code",
     "collapsed": false,
     "input": [
      "'https://www.econometricsociety.org/society/organization-and-governance/council'"
     ],
     "language": "python",
     "metadata": {},
     "outputs": [
      {
       "metadata": {},
       "output_type": "pyout",
       "prompt_number": 29,
       "text": [
        "'https://www.econometricsociety.org/society/organization-and-governance/council'"
       ]
      }
     ],
     "prompt_number": 29
    },
    {
     "cell_type": "code",
     "collapsed": false,
     "input": [
      "'http://www.4sonline.org/past_officers'"
     ],
     "language": "python",
     "metadata": {},
     "outputs": [
      {
       "metadata": {},
       "output_type": "pyout",
       "prompt_number": 30,
       "text": [
        "'http://www.4sonline.org/past_officers'"
       ]
      }
     ],
     "prompt_number": 30
    },
    {
     "cell_type": "code",
     "collapsed": false,
     "input": [
      "'http://www.4sonline.org/committees'"
     ],
     "language": "python",
     "metadata": {},
     "outputs": [
      {
       "metadata": {},
       "output_type": "pyout",
       "prompt_number": 31,
       "text": [
        "'http://www.4sonline.org/committees'"
       ]
      }
     ],
     "prompt_number": 31
    },
    {
     "cell_type": "code",
     "collapsed": false,
     "input": [
      "'https://www.econometricsociety.org/society/organization-and-governance/fellows'"
     ],
     "language": "python",
     "metadata": {},
     "outputs": [
      {
       "metadata": {},
       "output_type": "pyout",
       "prompt_number": 32,
       "text": [
        "'https://www.econometricsociety.org/society/organization-and-governance/fellows'"
       ]
      }
     ],
     "prompt_number": 32
    },
    {
     "cell_type": "heading",
     "level": 2,
     "metadata": {},
     "source": [
      "Easst"
     ]
    },
    {
     "cell_type": "code",
     "collapsed": false,
     "input": [
      "'http://easst.net/resources/#is' #'International Societies'\n"
     ],
     "language": "python",
     "metadata": {},
     "outputs": [
      {
       "metadata": {},
       "output_type": "pyout",
       "prompt_number": 33,
       "text": [
        "'http://easst.net/resources/#is'"
       ]
      }
     ],
     "prompt_number": 33
    },
    {
     "cell_type": "code",
     "collapsed": false,
     "input": [
      "links_from_east = [['British Society for the Philosophy of Science'\n",
      "'The purpose of the British Society for the Philosophy of Science is to study the logic, the methods, and the philosophy of science, as well as those of the various special sciences, including the social sciences.'\n",
      "'www.thebsps.org'],\n",
      "\n",
      "['European Philosophy of Science Associationepsa'\n",
      "'The general aim of the EPSA is to promote and advance philosophy of science in Europe. It was established in 2007 to bring together professional philosophers of science and students from the whole of Europe (and the rest of the world) and foster collaboration and exchange of ideas among them.'\n",
      "'www.epsa.ac.at'],\n",
      "\n",
      "['History of Philosophy of Sciencehopos'\n",
      "'HOPOS, The International Society for the History of Philosophy of Science, is devoted to promoting serious, scholarly research on the history of the philosophy of science. It aims to promote historical work in a variety of ways, but especially through encouraging exchange among scholars through meetings, publications, and electronic media.'\n",
      "'www.hopos.org'],\n",
      "\n",
      "['History of Science Societyhss'\n",
      "'The History of Science Society is dedicated to understanding science, technology, medicine, and their interactions with society in historical context. Over 3,000 individual and institutional members across the world support the Society\u2019s mission to foster interest in the history of science and its social and cultural relations.'\n",
      "'www.hssonline.org'],\n",
      "\n",
      "['International Committee for the History of Technologyicohtec'\n",
      "'ICOHTEC was founded in 1968 to provide a forum of scholars for the history of technology from both sides of the \u201airon curtain\u2018. It was constituted as a Scientific Section within the Division of the History of Science and Technology of the International Union of the History and Philosophy of Science (IUHPS/DHST).'\n",
      "'www.icohtec.org'],\n",
      "\n",
      "['Soci\u00e9t\u00e9 d\u2019Anthropologie des Connaissances'\n",
      "'The Soci\u00e9t\u00e9 d\u2019Anthropologie des Connaissances was founded in 2006 to stimulate multidisciplinary investigations on practices and forms of knowledge, professions, organizations and institutions, techniques and circulation and to promote the development of joint research in a wide variety of social and human sciences.'\n",
      "'www.ird.fr/socanco'],\n",
      "\n",
      "['Society for the History of Technology (SHOT)Society for the history of techonology'\n",
      "'SHOT was formed in 1958 to encourage the study of the development of technology and its relations with society and culture. It is concerned not only with the history of technological devices and processes but also with technology in history.'\n",
      "'www.historyoftechnology.org'],\n",
      "\n",
      "['Society for Philosophy and Technology'\n",
      "'The Society for Philosophy and Technology is an independent international organization that encourages, supports and facilitates philosophically significant considerations of technology. Founded in 1976, SPT maintains an association with the American Philosophical Association.'\n",
      "'www.spt.org']]"
     ],
     "language": "python",
     "metadata": {},
     "outputs": [],
     "prompt_number": 34
    },
    {
     "cell_type": "code",
     "collapsed": false,
     "input": [
      "links_from_east"
     ],
     "language": "python",
     "metadata": {},
     "outputs": [
      {
       "metadata": {},
       "output_type": "pyout",
       "prompt_number": 35,
       "text": [
        "[['British Society for the Philosophy of ScienceThe purpose of the British Society for the Philosophy of Science is to study the logic, the methods, and the philosophy of science, as well as those of the various special sciences, including the social sciences.www.thebsps.org'],\n",
        " ['European Philosophy of Science AssociationepsaThe general aim of the EPSA is to promote and advance philosophy of science in Europe. It was established in 2007 to bring together professional philosophers of science and students from the whole of Europe (and the rest of the world) and foster collaboration and exchange of ideas among them.www.epsa.ac.at'],\n",
        " ['History of Philosophy of SciencehoposHOPOS, The International Society for the History of Philosophy of Science, is devoted to promoting serious, scholarly research on the history of the philosophy of science. It aims to promote historical work in a variety of ways, but especially through encouraging exchange among scholars through meetings, publications, and electronic media.www.hopos.org'],\n",
        " ['History of Science SocietyhssThe History of Science Society is dedicated to understanding science, technology, medicine, and their interactions with society in historical context. Over 3,000 individual and institutional members across the world support the Society\\xe2\\x80\\x99s mission to foster interest in the history of science and its social and cultural relations.www.hssonline.org'],\n",
        " ['International Committee for the History of TechnologyicohtecICOHTEC was founded in 1968 to provide a forum of scholars for the history of technology from both sides of the \\xe2\\x80\\x9airon curtain\\xe2\\x80\\x98. It was constituted as a Scientific Section within the Division of the History of Science and Technology of the International Union of the History and Philosophy of Science (IUHPS/DHST).www.icohtec.org'],\n",
        " ['Soci\\xc3\\xa9t\\xc3\\xa9 d\\xe2\\x80\\x99Anthropologie des ConnaissancesThe Soci\\xc3\\xa9t\\xc3\\xa9 d\\xe2\\x80\\x99Anthropologie des Connaissances was founded in 2006 to stimulate multidisciplinary investigations on practices and forms of knowledge, professions, organizations and institutions, techniques and circulation and to promote the development of joint research in a wide variety of social and human sciences.www.ird.fr/socanco'],\n",
        " ['Society for the History of Technology (SHOT)Society for the history of techonologySHOT was formed in 1958 to encourage the study of the development of technology and its relations with society and culture. It is concerned not only with the history of technological devices and processes but also with technology in history.www.historyoftechnology.org'],\n",
        " ['Society for Philosophy and TechnologyThe Society for Philosophy and Technology is an independent international organization that encourages, supports and facilitates philosophically significant considerations of technology. Founded in 1976, SPT maintains an association with the American Philosophical Association.www.spt.org']]"
       ]
      }
     ],
     "prompt_number": 35
    },
    {
     "cell_type": "heading",
     "level": 2,
     "metadata": {},
     "source": [
      "British..."
     ]
    },
    {
     "cell_type": "code",
     "collapsed": false,
     "input": [
      "'http://www.thebsps.org/society/bsps/related.html' # Not structured one"
     ],
     "language": "python",
     "metadata": {},
     "outputs": [
      {
       "metadata": {},
       "output_type": "pyout",
       "prompt_number": 36,
       "text": [
        "'http://www.thebsps.org/society/bsps/related.html'"
       ]
      }
     ],
     "prompt_number": 36
    },
    {
     "cell_type": "heading",
     "level": 2,
     "metadata": {},
     "source": [
      "European Philosophy of Science Association (EPSA)"
     ]
    },
    {
     "cell_type": "markdown",
     "metadata": {},
     "source": [
      "CURRENT OFFICERS (2013-2015)\n",
      "CURRENT OFFICERS (2011-2013)\n",
      "name(link to perswebpage), institution(position)"
     ]
    },
    {
     "cell_type": "code",
     "collapsed": false,
     "input": [
      "'http://www.epsa.ac.at/network/'\n",
      "'http://www.epsa.ac.at/about/steering-comittee/'\n",
      "\n",
      "print '''\n",
      "ABOUT EPSA\n",
      "The European Philosophy of Science Association (EPSA) was established in 2007. It was brought to life by the recognition that the time was ripe for a forum that would bring together professional philosophers of science and students from the whole of Europe (and the rest of the world) and foster collaboration and exchange of ideas among them.\n",
      "The general aim of the EPSA is to promote and advance philosophy of science in Europe. Membership to EPSA is open to everyone, irrespective of nationality.'\n",
      "We invite all philosophers of science to join us in this endeavour and to embrace the EPSA!\n",
      "'''"
     ],
     "language": "python",
     "metadata": {},
     "outputs": [
      {
       "output_type": "stream",
       "stream": "stdout",
       "text": [
        "\n",
        "ABOUT EPSA\n",
        "The European Philosophy of Science Association (EPSA) was established in 2007. It was brought to life by the recognition that the time was ripe for a forum that would bring together professional philosophers of science and students from the whole of Europe (and the rest of the world) and foster collaboration and exchange of ideas among them.\n",
        "The general aim of the EPSA is to promote and advance philosophy of science in Europe. Membership to EPSA is open to everyone, irrespective of nationality.'\n",
        "We invite all philosophers of science to join us in this endeavour and to embrace the EPSA!\n",
        "\n"
       ]
      }
     ],
     "prompt_number": 37
    },
    {
     "cell_type": "heading",
     "level": 2,
     "metadata": {},
     "source": [
      "Society for the history of technology"
     ]
    },
    {
     "cell_type": "code",
     "collapsed": false,
     "input": [
      "'http://www.historyoftechnology.org/index.html'"
     ],
     "language": "python",
     "metadata": {},
     "outputs": [
      {
       "metadata": {},
       "output_type": "pyout",
       "prompt_number": 38,
       "text": [
        "'http://www.historyoftechnology.org/index.html'"
       ]
      }
     ],
     "prompt_number": 38
    },
    {
     "cell_type": "code",
     "collapsed": false,
     "input": [
      "'http://www.historyoftechnology.org/about_us/index.html'"
     ],
     "language": "python",
     "metadata": {},
     "outputs": [
      {
       "metadata": {},
       "output_type": "pyout",
       "prompt_number": 39,
       "text": [
        "'http://www.historyoftechnology.org/about_us/index.html'"
       ]
      }
     ],
     "prompt_number": 39
    },
    {
     "cell_type": "code",
     "collapsed": false,
     "input": [
      "'http://www.historyoftechnology.org/about_us/officers.html'"
     ],
     "language": "python",
     "metadata": {},
     "outputs": [
      {
       "metadata": {},
       "output_type": "pyout",
       "prompt_number": 40,
       "text": [
        "'http://www.historyoftechnology.org/about_us/officers.html'"
       ]
      }
     ],
     "prompt_number": 40
    },
    {
     "cell_type": "heading",
     "level": 2,
     "metadata": {},
     "source": [
      "American Philosophical Society"
     ]
    },
    {
     "cell_type": "code",
     "collapsed": false,
     "input": [
      "'http://www.amphilsoc.org/memhist/search?browse-all=yes;sort=creator'"
     ],
     "language": "python",
     "metadata": {},
     "outputs": [
      {
       "metadata": {},
       "output_type": "pyout",
       "prompt_number": 41,
       "text": [
        "'http://www.amphilsoc.org/memhist/search?browse-all=yes;sort=creator'"
       ]
      }
     ],
     "prompt_number": 41
    },
    {
     "cell_type": "code",
     "collapsed": false,
     "input": [],
     "language": "python",
     "metadata": {},
     "outputs": [],
     "prompt_number": 41
    },
    {
     "cell_type": "code",
     "collapsed": false,
     "input": [],
     "language": "python",
     "metadata": {},
     "outputs": []
    }
   ],
   "metadata": {}
  }
 ]
}