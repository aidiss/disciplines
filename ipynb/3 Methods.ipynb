{
 "metadata": {
  "name": "",
  "signature": "sha256:20dc1f637f6a2f67d52acdb4a049cd36014010864514dd98168db0a726d5c910"
 },
 "nbformat": 3,
 "nbformat_minor": 0,
 "worksheets": [
  {
   "cells": [
    {
     "cell_type": "markdown",
     "metadata": {},
     "source": [
      "This notebook is dedicated to description of various methods that can be applied to fuse data and theory.\n",
      "Two approaches will be used: a) from data to theory and b) from theory to data. In fact, there is no need to make a big gap between the two methods. We will seek to create a method that will bounce back and forth between data and theory to make the disctinctions.\n",
      "\n",
      "We should be happy to have a similar meaning between *method as in Python* and *method as in academic slang*. In first case method is a function that applies to a particlar object. In this sofware we will be able to apply methods to classes that represnt both theories and data."
     ]
    },
    {
     "cell_type": "code",
     "collapsed": false,
     "input": [
      "from disciplines import method"
     ],
     "language": "python",
     "metadata": {},
     "outputs": [],
     "prompt_number": 1
    },
    {
     "cell_type": "code",
     "collapsed": false,
     "input": [
      "print method.__doc__"
     ],
     "language": "python",
     "metadata": {},
     "outputs": [
      {
       "output_type": "stream",
       "stream": "stdout",
       "text": [
        " Main method of module\n",
        "\n",
        "Enables to assess fitneess of data for paricular theory.\n",
        "Looks for what kind of data is required for investigation of particular theory.\n",
        "Checks overall fitness of data for all theories.\n",
        "\n",
        "Vars:\n",
        "\tNone\n",
        "\n"
       ]
      }
     ],
     "prompt_number": 2
    },
    {
     "cell_type": "markdown",
     "metadata": {},
     "source": [
      "You can health of connection between data and theory."
     ]
    },
    {
     "cell_type": "heading",
     "level": 2,
     "metadata": {},
     "source": [
      "Datatype requirements and data fitness"
     ]
    },
    {
     "cell_type": "code",
     "collapsed": false,
     "input": [
      "from disciplines.method import assess_data_fitness # health(data, theory)\n",
      "dataa = 'link to data'\n",
      "theoryy = 'power struggles'\n",
      "assess_data_fitness.assess_data_fitness(dataa, theoryy)"
     ],
     "language": "python",
     "metadata": {},
     "outputs": [],
     "prompt_number": 3
    },
    {
     "cell_type": "code",
     "collapsed": false,
     "input": [
      "from disciplines.method import get_data_requirements\n",
      "get_data_requirements.get_data_requirements('emergence')"
     ],
     "language": "python",
     "metadata": {},
     "outputs": [
      {
       "metadata": {},
       "output_type": "pyout",
       "prompt_number": 4,
       "text": [
        "'This is the required data'"
       ]
      }
     ],
     "prompt_number": 4
    },
    {
     "cell_type": "markdown",
     "metadata": {},
     "source": [
      "This method checks all available data and all theories and reports general health of the relations."
     ]
    },
    {
     "cell_type": "code",
     "collapsed": false,
     "input": [
      "from disciplines.method import check_overall_fitness\n",
      "check_overall_fitness.check_overall_fitness(dataa, theoryy, dataa)"
     ],
     "language": "python",
     "metadata": {},
     "outputs": [
      {
       "metadata": {},
       "output_type": "pyout",
       "prompt_number": 5,
       "text": [
        "'The overal fitness is awfull'"
       ]
      }
     ],
     "prompt_number": 5
    },
    {
     "cell_type": "markdown",
     "metadata": {},
     "source": [
      "You can select one theory and to check whether available data can be used."
     ]
    },
    {
     "cell_type": "code",
     "collapsed": false,
     "input": [
      "from disciplines.method import is_datatype_required\n",
      "is_datatype_required.is_datatype_required(dataa, 'citation network', 'emergence', complete=True)"
     ],
     "language": "python",
     "metadata": {},
     "outputs": [
      {
       "metadata": {},
       "output_type": "pyout",
       "prompt_number": 6,
       "text": [
        "False"
       ]
      }
     ],
     "prompt_number": 6
    },
    {
     "cell_type": "markdown",
     "metadata": {},
     "source": [
      "Now we know that citation network is not required by emergence theory. This is true directly, however it is still possible to extend and augment theory so that the citation network can be done. of course, this relies on doing more work."
     ]
    }
   ],
   "metadata": {}
  }
 ]
}