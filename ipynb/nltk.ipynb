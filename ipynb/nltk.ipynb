{
 "metadata": {
  "name": "",
  "signature": "sha256:1a7cd38273638f4b60c937ac4a73f18ec05a7b32f6168d76febdb37b593ef652"
 },
 "nbformat": 3,
 "nbformat_minor": 0,
 "worksheets": [
  {
   "cells": [
    {
     "cell_type": "code",
     "collapsed": false,
     "input": [
      "from nltk.corpus import wordnet as wn\n",
      "import nltk\n",
      "import networkx as nx\n",
      "#nltk.download()"
     ],
     "language": "python",
     "metadata": {},
     "outputs": [],
     "prompt_number": 1
    },
    {
     "cell_type": "code",
     "collapsed": false,
     "input": [
      "def closure_graph(synset, fn):\n",
      "    seen = set()\n",
      "    graph = nx.DiGraph()\n",
      "\n",
      "    def recurse(s):\n",
      "        if not s in seen:\n",
      "            seen.add(s)\n",
      "            graph.add_node(s.name)\n",
      "            for s1 in fn(s):\n",
      "                graph.add_node(s1.name)\n",
      "                graph.add_edge(s.name, s1.name)\n",
      "                recurse(s1)\n",
      "\n",
      "    recurse(synset)\n",
      "    return graph"
     ],
     "language": "python",
     "metadata": {},
     "outputs": [],
     "prompt_number": 2
    },
    {
     "cell_type": "code",
     "collapsed": false,
     "input": [
      "words = ['philosophy.n.01', 'sociology.n.01', 'physics.n.01', 'economics.n.01', 'social_science.n.01', 'social_scientist.n.01']\n",
      "words1 = ['philosopher.n.01', 'sociologist.n.01', 'physicist.n.01', 'economist.n.01', 'natural_science.n.01', 'social_scientist.n.01', 'researcher.n.01']\n",
      "for word in words1:\n",
      "\n",
      "    synlist = wn.synset(word)\n",
      "    graph = closure_graph(synlist,\n",
      "                          lambda s: s.hypernyms()) #hyponyms\n",
      "    print graph.nodes()"
     ],
     "language": "python",
     "metadata": {},
     "outputs": [
      {
       "output_type": "stream",
       "stream": "stdout",
       "text": [
        "['philosopher.n.01', 'scholar.n.01', 'living_thing.n.01', 'physical_entity.n.01', 'causal_agent.n.01', 'entity.n.01', 'person.n.01', 'object.n.01', 'organism.n.01', 'intellectual.n.01', 'whole.n.02']\n",
        "['living_thing.n.01', 'physical_entity.n.01', 'sociologist.n.01', 'causal_agent.n.01', 'scientist.n.01', 'entity.n.01', 'person.n.01', 'object.n.01', 'organism.n.01', 'social_scientist.n.01', 'whole.n.02']\n",
        "['living_thing.n.01', 'physical_entity.n.01', 'causal_agent.n.01', 'physicist.n.01', 'scientist.n.01', 'entity.n.01', 'person.n.01', 'object.n.01', 'organism.n.01', 'whole.n.02']\n",
        "['living_thing.n.01', 'physical_entity.n.01', 'causal_agent.n.01', 'scientist.n.01', 'economist.n.01', 'entity.n.01', 'person.n.01', 'object.n.01', 'organism.n.01', 'social_scientist.n.01', 'whole.n.02']\n",
        "['science.n.01', 'knowledge_domain.n.01', 'abstraction.n.06', 'natural_science.n.01', 'content.n.05', 'psychological_feature.n.01', 'discipline.n.01', 'entity.n.01', 'cognition.n.01']\n",
        "['living_thing.n.01', 'physical_entity.n.01', 'causal_agent.n.01', 'scientist.n.01', 'entity.n.01', 'person.n.01', 'object.n.01', 'organism.n.01', 'social_scientist.n.01', 'whole.n.02']\n",
        "['living_thing.n.01', 'physical_entity.n.01', 'research_worker.n.01', 'scientist.n.01', 'entity.n.01', 'person.n.01', 'object.n.01', 'organism.n.01', 'causal_agent.n.01', 'whole.n.02']\n"
       ]
      }
     ],
     "prompt_number": 3
    },
    {
     "cell_type": "markdown",
     "metadata": {},
     "source": [
      "Some more to look into:\n",
      "    - hypernyms, instance_hypernyms\n",
      "    - hyponyms, instance_hyponyms\n",
      "    - member_holonyms, substance_holonyms, part_holonyms\n",
      "    - member_meronyms, substance_meronyms, part_meronyms\n",
      "    - attributes\n",
      "    - entailments\n",
      "    - causes\n",
      "    - also_sees\n",
      "    - verb_groups\n",
      "    - similar_tos"
     ]
    },
    {
     "cell_type": "code",
     "collapsed": false,
     "input": [
      "wn.synset('sociology.n.01').definition"
     ],
     "language": "python",
     "metadata": {},
     "outputs": [
      {
       "metadata": {},
       "output_type": "pyout",
       "prompt_number": 4,
       "text": [
        "'the study and classification of human societies'"
       ]
      }
     ],
     "prompt_number": 4
    },
    {
     "cell_type": "code",
     "collapsed": false,
     "input": [
      "wn.synset('philosophy.n.02').definition"
     ],
     "language": "python",
     "metadata": {},
     "outputs": [
      {
       "metadata": {},
       "output_type": "pyout",
       "prompt_number": 11,
       "text": [
        "'the rational investigation of questions about existence and knowledge and ethics'"
       ]
      }
     ],
     "prompt_number": 11
    },
    {
     "cell_type": "code",
     "collapsed": false,
     "input": [
      "wn.synset('physics.n.01').definition"
     ],
     "language": "python",
     "metadata": {},
     "outputs": [
      {
       "metadata": {},
       "output_type": "pyout",
       "prompt_number": 13,
       "text": [
        "'the science of matter and energy and their interactions'"
       ]
      }
     ],
     "prompt_number": 13
    },
    {
     "cell_type": "code",
     "collapsed": false,
     "input": [
      "wn.synset('social_science.n.01').definition"
     ],
     "language": "python",
     "metadata": {},
     "outputs": [
      {
       "metadata": {},
       "output_type": "pyout",
       "prompt_number": 14,
       "text": [
        "'the branch of science that studies society and the relationships of individual within a society'"
       ]
      }
     ],
     "prompt_number": 14
    },
    {
     "cell_type": "code",
     "collapsed": false,
     "input": [
      "wn.synset('natural_science.n.01').definition"
     ],
     "language": "python",
     "metadata": {},
     "outputs": [
      {
       "metadata": {},
       "output_type": "pyout",
       "prompt_number": 15,
       "text": [
        "'the sciences involved in the study of the physical world and its phenomena'"
       ]
      }
     ],
     "prompt_number": 15
    },
    {
     "cell_type": "code",
     "collapsed": false,
     "input": [
      "wn.synset('humanities.n.01').definition"
     ],
     "language": "python",
     "metadata": {},
     "outputs": [
      {
       "metadata": {},
       "output_type": "pyout",
       "prompt_number": 18,
       "text": [
        "'studies intended to provide general knowledge and intellectual skills (rather than occupational or professional skills)'"
       ]
      }
     ],
     "prompt_number": 18
    }
   ],
   "metadata": {}
  }
 ]
}