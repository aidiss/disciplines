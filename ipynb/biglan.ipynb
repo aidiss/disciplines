{
 "metadata": {
  "name": "",
  "signature": "sha256:cd345e5879b453ab2f5531f3bcbc820a498e8baf2ec630dee114d32d022e1240"
 },
 "nbformat": 3,
 "nbformat_minor": 0,
 "worksheets": [
  {
   "cells": [
    {
     "cell_type": "markdown",
     "metadata": {},
     "source": [
      "This notebook is dedicated to a work of Biglan. He classified disciplines based on their position in three dimensions: pure-applied, life-non-life and hard-soft.\n",
      "His theory is interesting to us because he provided examples for for all combinations. \n",
      "The development of this theory is interesting on its own, but it is even better when we think of combining it with other theories. maybe, the easiest way to follow would be to work with works that references Biglan or are referenced by him. This might provide better insights into his ideas.\n",
      "\n",
      "This notebook is structured as:"
     ]
    },
    {
     "cell_type": "code",
     "collapsed": false,
     "input": [
      "from disciplines.theory import biglan\n",
      "import pandas as pd\n",
      "columns = ['discipline','pure', 'hard', 'life']\n",
      "the = biglan.the_classification\n",
      "mylist = []\n",
      "for line in the:\n",
      "    for discipline in line[0]:\n",
      "        mylist.append([discipline, line[1]['pure'], line[1]['hard'], line[1]['life']])\n",
      "df = pd.DataFrame(mylist, columns=columns)"
     ],
     "language": "python",
     "metadata": {},
     "outputs": [],
     "prompt_number": 1
    },
    {
     "cell_type": "markdown",
     "metadata": {},
     "source": [
      "So, what we get."
     ]
    },
    {
     "cell_type": "code",
     "collapsed": false,
     "input": [
      "df[(df.pure == False) & (df.hard == True) & (df.life == True)]"
     ],
     "language": "python",
     "metadata": {},
     "outputs": [
      {
       "html": [
        "<div style=\"max-height:1000px;max-width:1500px;overflow:auto;\">\n",
        "<table border=\"1\" class=\"dataframe\">\n",
        "  <thead>\n",
        "    <tr style=\"text-align: right;\">\n",
        "      <th></th>\n",
        "      <th>discipline</th>\n",
        "      <th>pure</th>\n",
        "      <th>hard</th>\n",
        "      <th>life</th>\n",
        "    </tr>\n",
        "  </thead>\n",
        "  <tbody>\n",
        "    <tr>\n",
        "      <th>24</th>\n",
        "      <td>  Agriculture</td>\n",
        "      <td> False</td>\n",
        "      <td> True</td>\n",
        "      <td> True</td>\n",
        "    </tr>\n",
        "    <tr>\n",
        "      <th>25</th>\n",
        "      <td>   Psychiatry</td>\n",
        "      <td> False</td>\n",
        "      <td> True</td>\n",
        "      <td> True</td>\n",
        "    </tr>\n",
        "    <tr>\n",
        "      <th>26</th>\n",
        "      <td>     Medicine</td>\n",
        "      <td> False</td>\n",
        "      <td> True</td>\n",
        "      <td> True</td>\n",
        "    </tr>\n",
        "    <tr>\n",
        "      <th>27</th>\n",
        "      <td>     Pharmacy</td>\n",
        "      <td> False</td>\n",
        "      <td> True</td>\n",
        "      <td> True</td>\n",
        "    </tr>\n",
        "    <tr>\n",
        "      <th>28</th>\n",
        "      <td>    Dentistry</td>\n",
        "      <td> False</td>\n",
        "      <td> True</td>\n",
        "      <td> True</td>\n",
        "    </tr>\n",
        "    <tr>\n",
        "      <th>29</th>\n",
        "      <td> Horticulture</td>\n",
        "      <td> False</td>\n",
        "      <td> True</td>\n",
        "      <td> True</td>\n",
        "    </tr>\n",
        "  </tbody>\n",
        "</table>\n",
        "</div>"
       ],
       "metadata": {},
       "output_type": "pyout",
       "prompt_number": 3,
       "text": [
        "      discipline   pure  hard  life\n",
        "24   Agriculture  False  True  True\n",
        "25    Psychiatry  False  True  True\n",
        "26      Medicine  False  True  True\n",
        "27      Pharmacy  False  True  True\n",
        "28     Dentistry  False  True  True\n",
        "29  Horticulture  False  True  True"
       ]
      }
     ],
     "prompt_number": 3
    },
    {
     "cell_type": "markdown",
     "metadata": {},
     "source": [
      "Yes, current implementation is a bit messy. We should be able to retrieve disciplines easily.\n",
      "get_disciplines(['life','hard','pure'])\n",
      "get_disciplines(['applied])\n",
      "this should be imported together with whole biglans theory."
     ]
    },
    {
     "cell_type": "code",
     "collapsed": false,
     "input": [
      "# getting all disciplines\n",
      "from disciplines.theory import biglan\n",
      "the = biglan.the_classification\n",
      "only = [x[0] for x in the]\n",
      "combined = [item for sublist in only for item in sublist]"
     ],
     "language": "python",
     "metadata": {},
     "outputs": [],
     "prompt_number": 2
    },
    {
     "cell_type": "code",
     "collapsed": false,
     "input": [
      "combined"
     ],
     "language": "python",
     "metadata": {},
     "outputs": [
      {
       "metadata": {},
       "output_type": "pyout",
       "prompt_number": 12,
       "text": [
        "['Biology',\n",
        " 'Biochemistry',\n",
        " 'Genetics',\n",
        " 'Physiology',\n",
        " 'Mathematics',\n",
        " 'Physics',\n",
        " 'Chemistry',\n",
        " 'Geology',\n",
        " 'Astronomy',\n",
        " 'Oceanography',\n",
        " 'Psychology',\n",
        " 'Sociology',\n",
        " 'Anthropology',\n",
        " 'Political Science',\n",
        " 'Area Study',\n",
        " 'Linguistics',\n",
        " 'Literature',\n",
        " 'Communications',\n",
        " 'Creative Writing',\n",
        " 'Economics',\n",
        " 'Philosophy',\n",
        " 'Archaeology',\n",
        " 'History',\n",
        " 'Geography',\n",
        " 'Agriculture',\n",
        " 'Psychiatry',\n",
        " 'Medicine',\n",
        " 'Pharmacy',\n",
        " 'Dentistry',\n",
        " 'Horticulture',\n",
        " 'Civil Engineering',\n",
        " 'Telecommunication Engineering',\n",
        " 'Mechanical Engineering',\n",
        " 'Chemical Engineering',\n",
        " 'Electrical Engineering',\n",
        " 'Computer science',\n",
        " 'Recreation',\n",
        " 'Arts',\n",
        " 'Education',\n",
        " 'Nursing',\n",
        " 'Conservation',\n",
        " 'Counseling',\n",
        " 'HR Management',\n",
        " 'Finance',\n",
        " 'Accounting',\n",
        " 'Banking',\n",
        " 'Marketing',\n",
        " 'Journalism',\n",
        " 'Library And Archival Science',\n",
        " 'Law',\n",
        " 'Architecture',\n",
        " 'Interior Design',\n",
        " 'Crafts',\n",
        " 'Arts',\n",
        " 'Dance',\n",
        " 'Music']"
       ]
      }
     ],
     "prompt_number": 12
    }
   ],
   "metadata": {}
  }
 ]
}