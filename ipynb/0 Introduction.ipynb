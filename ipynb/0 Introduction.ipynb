{
 "cells": [
  {
   "cell_type": "heading",
   "metadata": {},
   "level": 1,
   "source": [
    "Introduction to *disciplines*\n"
   ]
  },
  {
   "cell_type": "markdown",
   "metadata": {},
   "source": [
    "Hello world, is this ipython notebook will introduce you to disciplines library.\n",
    "\n",
    "*Disciplines* is a package that is aimed to be used in Science and technology studies, social studies of science, scientometrics and related research activities.\n",
    "\n",
    "Disciplines contain is based on three parts: theory, data and method.\n",
    "*Theory* is derived from statements made in scientific and other literature.\n",
    "*Data* is here to prove or falsify theories.\n",
    "*Method* is package of approaches that theory and data."
   ]
  },
  {
   "cell_type": "markdown",
   "metadata": {},
   "source": [
    "- [Theories](Theories.ipynb) - demonstrates functions package\n",
    "    - [biglan](biglan.ipynb)\n",
    "    - [Emergence](Emergence of discipline.ipynb)\n",
    "- [Data](Data.ipynb) - demonstrates main approaches of working with data\n",
    "    - [Conferences](Conferences.ipynb) - dedicated to information gathering about conferences\n",
    "    - [estimations](estimations.ipynb)\n",
    "    - [Learned Societies](Learned Societies.ipynb) - working with information \n",
    "    - [journals](journals.ipynb)\n",
    "    - [meta-analysis](meta-analysis.ipynb)\n",
    "    - [nltk](nltk.ipynb)\n",
    "    - [nsf-awards](biglan.ipynb)\n",
    "    - [occupation](biglan.ipynb)\n",
    "    - [questions](questions.ipynb)\n",
    "    - [researchers](researchers.ipynb)\n",
    "    - [simulation](simulation.ipynb)\n",
    "    - [specialties](specialties.ipynb)\n",
    "    - [term extraction](biglan.ipynb)\n",
    "    - [universities](universities.ipynb)\n",
    "    - [Syllabi](Syllabi.ipynb) - deals with finding, getting, scrapping, saving and analysing syllab\n",
    "- [Methods](Methods.ipynb) - a selection of methods overarching connection of theories and data.\n",
    "\n",
    "\n",
    "\n",
    "\n",
    "\n",
    "\n",
    "\n",
    "\n",
    "\n"
   ]
  },
  {
   "cell_type": "code",
   "execution_count": null,
   "metadata": {},
   "outputs": [],
   "source": [
    ""
   ]
  },
  {
   "cell_type": "code",
   "execution_count": 1,
   "metadata": {},
   "outputs": [
    {
     "name": "stdout",
     "output_type": "stream",
     "text": [
      "None\n"
     ]
    }
   ],
   "source": [
    "import disciplines\n",
    "print disciplines.__doc__"
   ]
  },
  {
   "cell_type": "code",
   "execution_count": 5,
   "metadata": {},
   "outputs": [
    {
     "name": "stdout",
     "output_type": "stream",
     "text": [
      " This module is an implementation of theories that deal with\n",
      "academic disciplines and related phenomenons.\n",
      "\n",
      "The module is structured by the name of theory \n",
      "\n",
      "It includes:\n",
      "emergence of disciplines\n",
      "interdisciplinary_models\n",
      "justification_for_interdisciplinarity\n",
      "power_struggles\n",
      "regimes_of_knowledge_production\n",
      "taxonomy_of_interdisciplinarity\n",
      "structuring_of_research_fields\n",
      "\n",
      "\n",
      "The description should contain assessment of possible dificulties and\n",
      "opportunities of developing implementation of each theory.\n",
      "\n",
      "\tDocstrings:\n",
      "\t\tName\n",
      "\n",
      "\t\tShort description\n",
      "\n",
      "\t\tArgs:\n",
      "\n",
      "\t\tVars:\n",
      "\n",
      "\t\tTheory:\n",
      "\t\t\tQuote\n",
      "\t\t\tReferences\n",
      "\t\t\tInterpretation\n",
      "\n",
      "Notes:\n",
      "\tThere are few types of theories.\n",
      "\tTheories are different in the details that they provide.\n",
      "\tExamples, some theories provide discipline names as an example. This is hepfull but not too much.\n",
      "\tCase studies, some theories provide cases on which the theories are build. This makes it easy to reconstruct the claims.\n",
      "\n",
      "In general, modules in this package are ready to grasp the data, but the data needs to be prepared.\n",
      "\n",
      "The package is organized in some levels:\n",
      "\tconcepts - they appear in text and may be more or less easy to understand.\n",
      "\ttheory - in this research theory can be very small or big. Definition of theory may be only it.\n",
      "\ttheories, with little exceptions, organize different building blocks that can be found in blocks folder.\n",
      "\n",
      "\tinterpretations - these are not straighforward obvious from the theory but can be retrieved.\n",
      "\n",
      "\n",
      "Authors whos work is used in this package:\n",
      "\tVinck\n",
      "\tKlein\n",
      "\tKuhn\n",
      "\tFleck\n",
      "\tHylland\n",
      "\tZiman\n",
      "\tKolb\n",
      "\tBecher\n",
      "\tBiglan\n",
      "\n"
     ]
    }
   ],
   "source": [
    "from disciplines import theory\n",
    "print theory.__doc__"
   ]
  },
  {
   "cell_type": "code",
   "execution_count": 7,
   "metadata": {},
   "outputs": [
    {
     "name": "stdout",
     "output_type": "stream",
     "text": [
      "None\n"
     ]
    }
   ],
   "source": [
    "from disciplines import data\n",
    "print data.__doc__"
   ]
  },
  {
   "cell_type": "code",
   "execution_count": 8,
   "metadata": {},
   "outputs": [
    {
     "name": "stdout",
     "output_type": "stream",
     "text": [
      " Main method of module\n",
      "\n",
      "Enables to assess fitneess of data for paricular theory.\n",
      "Looks for what kind of data is required for investigation of particular theory.\n",
      "Checks overall fitness of data for all theories.\n",
      "\n",
      "Vars:\n",
      "\tNone\n",
      "\n"
     ]
    }
   ],
   "source": [
    "from disciplines import method\n",
    "print method.__doc__"
   ]
  }
 ],
 "metadata": {
  "name": "",
  "signature": "sha256:83f6d7c577ff8809856155e89d10e4c31604eb02ff91e3eb9ecaa0ca8d832e28"
 },
 "nbformat": 4,
 "nbformat_minor": 0
}