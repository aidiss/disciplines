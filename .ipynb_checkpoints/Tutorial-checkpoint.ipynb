{
 "metadata": {
  "name": "",
  "signature": "sha256:06dbab4b564c27f0da0231008a0907888c0af7e028d0f510afe52c1f54fd3acc"
 },
 "nbformat": 3,
 "nbformat_minor": 0,
 "worksheets": [
  {
   "cells": [
    {
     "cell_type": "heading",
     "level": 1,
     "metadata": {},
     "source": [
      "Disciplines, the tutorial\n"
     ]
    },
    {
     "cell_type": "markdown",
     "metadata": {},
     "source": [
      "Hello world, this ipython notebook will introduce you to disciplines library.\n",
      "\n",
      "Disciplines contain is based on three parts: theory, data and method.\n",
      "*Theory* is derived from statements made in scientific and other literature.\n",
      "*Data* is here to prove or falsify theories.\n",
      "*Method* is package of approaches that theory and data.\n",
      "\n",
      "Lets see these packages one by one starting with *theory*\n"
     ]
    },
    {
     "cell_type": "code",
     "collapsed": false,
     "input": [
      "import disciplines"
     ],
     "language": "python",
     "metadata": {},
     "outputs": [],
     "prompt_number": 4
    },
    {
     "cell_type": "heading",
     "level": 1,
     "metadata": {},
     "source": [
      "1. Main part"
     ]
    },
    {
     "cell_type": "heading",
     "level": 2,
     "metadata": {},
     "source": [
      "1.1. Theory"
     ]
    },
    {
     "cell_type": "code",
     "collapsed": false,
     "input": [
      "from disciplines import theory\n",
      "from disciplines.theory import list_all_theories\n",
      "theory.list_all_theories.do()  # list all theories. prints a list of theories"
     ],
     "language": "python",
     "metadata": {},
     "outputs": [
      {
       "output_type": "stream",
       "stream": "stdout",
       "text": [
        "characterisation_of_organisational_structures\n",
        "emergence\n",
        "interdisciplinary_models\n",
        "justifications_for_interdisciplinary_work\n",
        "learning_styles_and_disciplinary_differences\n",
        "power_strugles\n",
        "regimes_of_knowledge_production\n",
        "structuring_of_research_fields\n",
        "taxonomy_of_interdisciplinarity\n"
       ]
      }
     ],
     "prompt_number": 5
    },
    {
     "cell_type": "code",
     "collapsed": false,
     "input": [
      "# Lets import a particular theory that describes emergence of a discipline.\n",
      "from disciplines.theory import emergence\n",
      "print emergence.__doc__"
     ],
     "language": "python",
     "metadata": {},
     "outputs": [
      {
       "output_type": "stream",
       "stream": "stdout",
       "text": [
        " Emergence of discipline \n",
        "\n",
        "This module is an implementation of theoretical work by Ziman.\n",
        "It checks a stage of development and contains multiple functions \n",
        "designed for looking for evidence of stage of emergence.\n",
        "\n",
        "Vars:\n",
        "    author\n",
        "    concepts\n",
        "    data\n",
        "    claim\n",
        "    theory\n",
        "    approach\n",
        "\n"
       ]
      }
     ],
     "prompt_number": 6
    },
    {
     "cell_type": "code",
     "collapsed": false,
     "input": [
      "print emergence.author  # shows author of theory\n",
      "print emergence.concepts # list concepts used in a theory, mainly its variables. Possibly shows to what part of theory they are neded\n",
      "print emergence.data  # List what kind of data is required for theory to be falsified/proved.\n",
      "print emergence.theory\n",
      "\n",
      "emergence.what_emergence_state('philosophy')\n",
      "emergence.is_emergence_state(1, 'philosophy')\n",
      "network_of_citations = 'some graph'\n",
      "emergence.observe_nodal_points(network_of_citations, 3) \n",
      "person_list = ['John Peter', 'Pete Johner']\n",
      "emergence.get_conferences_organized_by_cluster(person_list)\n",
      "emergence.recreate_emerge('sociology')\n",
      "emergence.detect_emergences()\n",
      "emergence.get_special_issues_of_a_primary_journal('Science and Society Studies')  # what is a primary journal"
     ],
     "language": "python",
     "metadata": {},
     "outputs": [
      {
       "output_type": "stream",
       "stream": "stdout",
       "text": [
        "['Ziman']\n",
        "['nodal point', 'organize little research conferences', 'hierarchy of authority', 'association develops into a learned society', 'newsletter becomes reputable primary journal', 'primary journal']\n",
        "['citation network', 'journal', 'newsletter', 'conference participants']\n",
        "\n",
        "    1. Emerging specialty is only observable as a nodal point in the network of \n",
        "    citations. \n",
        "    2. Scientists whose research is associated with this co-citation cluster \n",
        "    organize little research conferences to discuss their common interests, or are \n",
        "    commissioned to write articles for a special issues of a primary journal \n",
        "    drawing attention to progress in this particular problem area. \n",
        "    3. An \u2018invisible college\u2019 begins to condense out, in the form, say, of a semi-\n",
        "    official association held together by further conferences, the regular \n",
        "    exchange of pre-prints and re-prints and the publication of an informal \n",
        "    \u2018newsletter\u2019. \n",
        "    4. The association develops into a regular learned society, whose newsletter \n",
        "    has become a reputable primary journal. \n",
        "    5. A hierarch of authority is soon set up to preside over conferences, edit \n",
        "    journals, allocate resources, and confer recognition on the members of the new\n",
        "    discipline.\n",
        "    \n"
       ]
      }
     ],
     "prompt_number": 7
    },
    {
     "cell_type": "heading",
     "level": 2,
     "metadata": {},
     "source": [
      "1.2. Data"
     ]
    },
    {
     "cell_type": "code",
     "collapsed": false,
     "input": [
      "from disciplines.data import data\n",
      "print data.__doc__"
     ],
     "language": "python",
     "metadata": {},
     "outputs": [
      {
       "output_type": "stream",
       "stream": "stdout",
       "text": [
        "This package deals with number of data issues\n",
        "\n",
        "Getting data\n",
        "Formatting data\n",
        "Collecting urls\n",
        "\n",
        "A number of functions are created to get data from online repositories. These functions are in two profession_types:\n",
        "ready data - one that is formated well and prepared for usage, like CSV, XML and etc. And scrapping techniques.\n",
        "Data is being transformed into one of our \n",
        "\n",
        "The data is stored and manipulated in three data types:\n",
        "\tSQL (sqlite) is used for storing large quantities of that have well defined form and structure.\n",
        "\tPandas powered arrays and dataframes.\n",
        "\n",
        "\n",
        "Dependencies:\n",
        "sqlite3\n",
        "pandas\n",
        "networkx\n",
        "\n",
        "\n",
        "\n"
       ]
      }
     ],
     "prompt_number": 8
    },
    {
     "cell_type": "code",
     "collapsed": false,
     "input": [
      "#data.listall() #describes available data\n",
      "#data.update() #updates data by cheking into resources\n",
      "#data.backup() #writes a snapshot o data\n",
      "\n",
      "#data.urls() # lists all known data urls and what kind of information is there\n",
      "#data.datasets()  # lists all \n",
      "#data.build_ontology() # build ontology out of data stored in sql.\n",
      "\n",
      "#data.disciplines() #lists all disciplines\n",
      "#data.persons() #lists all persons\n",
      "#data.events() #lists all events\n",
      "#data.learned_societies() #lists all learned societies"
     ],
     "language": "python",
     "metadata": {},
     "outputs": [],
     "prompt_number": 9
    },
    {
     "cell_type": "heading",
     "level": 2,
     "metadata": {},
     "source": [
      "1.3. Methods"
     ]
    },
    {
     "cell_type": "markdown",
     "metadata": {},
     "source": [
      "In *disciplines* methods are not the same as they are in straighforward research or IT. it is somehwere in between. In disciplines, method should be understood as a procedure that connects theory and data.\n",
      "Other possibilities were available, but we wished to keep the theories themselves as much in original form as it is possible. Therefore not development is possible in part of theories."
     ]
    },
    {
     "cell_type": "code",
     "collapsed": false,
     "input": [
      "from disciplines.method import method\n",
      "dataa = 'link to data'\n",
      "theoryy = 'power struggles'\n",
      "method.assess_data_fitness(dataa, theoryy)\n",
      "method.get_data_requirements('emergence')\n",
      "method.check_overall_fitness(dataa, theoryy, dataa)\n",
      "method.is_datatype_required(dataa, 'citation network', 'emergence', complete=True)"
     ],
     "language": "python",
     "metadata": {},
     "outputs": [
      {
       "metadata": {},
       "output_type": "pyout",
       "prompt_number": 10,
       "text": [
        "False"
       ]
      }
     ],
     "prompt_number": 10
    },
    {
     "cell_type": "heading",
     "level": 1,
     "metadata": {},
     "source": [
      "Further"
     ]
    },
    {
     "cell_type": "markdown",
     "metadata": {},
     "source": [
      "now you have basics of *disciplines* library. Please follow the link to investigates some examples:\n",
      "[example](example1.ipynb)"
     ]
    },
    {
     "cell_type": "heading",
     "level": 1,
     "metadata": {},
     "source": [
      "Bonus"
     ]
    },
    {
     "cell_type": "code",
     "collapsed": false,
     "input": [
      "from disciplines.data import conferences\n",
      "for x in range(len(conferences.thedict)):\n",
      "    print conferences.thedict[x].keys()"
     ],
     "language": "python",
     "metadata": {},
     "outputs": [
      {
       "output_type": "stream",
       "stream": "stdout",
       "text": [
        "['things available', 'name', 'disciplines', 'url', \"'Possibility to show only new meeting's\", 'Categories']\n",
        "['xml', 'name', 'url', 'xml_url', 'url1', 'structure']\n",
        "['url', 'name', 'structure', 'Categories']\n"
       ]
      }
     ],
     "prompt_number": 1
    },
    {
     "cell_type": "code",
     "collapsed": false,
     "input": [
      "from disciplines.data import learned_societies\n",
      "learned_societies.learned_societies_urls\n",
      "len(learned_societies.learned_societies)"
     ],
     "language": "python",
     "metadata": {},
     "outputs": [
      {
       "metadata": {},
       "output_type": "pyout",
       "prompt_number": 7,
       "text": [
        "72"
       ]
      }
     ],
     "prompt_number": 7
    }
   ],
   "metadata": {}
  }
 ]
}